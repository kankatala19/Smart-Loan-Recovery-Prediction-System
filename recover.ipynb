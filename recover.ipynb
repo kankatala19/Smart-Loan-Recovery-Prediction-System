{
 "cells": [
  {
   "cell_type": "code",
   "execution_count": 2,
   "id": "d52c27cc",
   "metadata": {},
   "outputs": [
    {
     "name": "stdout",
     "output_type": "stream",
     "text": [
      "  Borrower_ID  Age  Gender Employment_Type  Monthly_Income  Num_Dependents  \\\n",
      "0       BRW_1   59    Male        Salaried          215422               0   \n",
      "1       BRW_2   49  Female        Salaried           60893               0   \n",
      "2       BRW_3   35    Male        Salaried          116520               1   \n",
      "3       BRW_4   63  Female        Salaried          140818               2   \n",
      "4       BRW_5   28    Male        Salaried           76272               1   \n",
      "\n",
      "  Loan_ID  Loan_Amount  Loan_Tenure  Interest_Rate  ... Collateral_Value  \\\n",
      "0    LN_1      1445796           60          12.39  ...     1.727997e+06   \n",
      "1    LN_2      1044620           12          13.47  ...     1.180032e+06   \n",
      "2    LN_3      1923410           72           7.74  ...     2.622540e+06   \n",
      "3    LN_4      1811663           36          12.23  ...     1.145493e+06   \n",
      "4    LN_5        88578           48          16.13  ...     0.000000e+00   \n",
      "\n",
      "   Outstanding_Loan_Amount  Monthly_EMI  Payment_History Num_Missed_Payments  \\\n",
      "0             2.914130e+05      4856.88          On-Time                   0   \n",
      "1             6.652042e+05     55433.68          On-Time                   0   \n",
      "2             1.031372e+06     14324.61          Delayed                   2   \n",
      "3             2.249739e+05      6249.28          On-Time                   1   \n",
      "4             3.918989e+04       816.46          On-Time                   1   \n",
      "\n",
      "   Days_Past_Due      Recovery_Status Collection_Attempts  Collection_Method  \\\n",
      "0              0  Partially Recovered                   1   Settlement Offer   \n",
      "1              0      Fully Recovered                   2   Settlement Offer   \n",
      "2            124      Fully Recovered                   2       Legal Notice   \n",
      "3             56      Fully Recovered                   2              Calls   \n",
      "4             69      Fully Recovered                   0    Debt Collectors   \n",
      "\n",
      "  Legal_Action_Taken  \n",
      "0                 No  \n",
      "1                 No  \n",
      "2                 No  \n",
      "3                 No  \n",
      "4                 No  \n",
      "\n",
      "[5 rows x 21 columns]\n"
     ]
    }
   ],
   "source": [
    "import pandas as pd\n",
    "df = pd.read_csv(\"loan-recovery.csv\")\n",
    "print(df.head())"
   ]
  },
  {
   "cell_type": "code",
   "execution_count": 3,
   "id": "91a3f429",
   "metadata": {},
   "outputs": [
    {
     "data": {
      "text/html": [
       "<div>\n",
       "<style scoped>\n",
       "    .dataframe tbody tr th:only-of-type {\n",
       "        vertical-align: middle;\n",
       "    }\n",
       "\n",
       "    .dataframe tbody tr th {\n",
       "        vertical-align: top;\n",
       "    }\n",
       "\n",
       "    .dataframe thead th {\n",
       "        text-align: right;\n",
       "    }\n",
       "</style>\n",
       "<table border=\"1\" class=\"dataframe\">\n",
       "  <thead>\n",
       "    <tr style=\"text-align: right;\">\n",
       "      <th></th>\n",
       "      <th>Age</th>\n",
       "      <th>Monthly_Income</th>\n",
       "      <th>Num_Dependents</th>\n",
       "      <th>Loan_Amount</th>\n",
       "      <th>Loan_Tenure</th>\n",
       "      <th>Interest_Rate</th>\n",
       "      <th>Collateral_Value</th>\n",
       "      <th>Outstanding_Loan_Amount</th>\n",
       "      <th>Monthly_EMI</th>\n",
       "      <th>Num_Missed_Payments</th>\n",
       "      <th>Days_Past_Due</th>\n",
       "      <th>Collection_Attempts</th>\n",
       "    </tr>\n",
       "  </thead>\n",
       "  <tbody>\n",
       "    <tr>\n",
       "      <th>count</th>\n",
       "      <td>500.000000</td>\n",
       "      <td>500.000000</td>\n",
       "      <td>500.000000</td>\n",
       "      <td>5.000000e+02</td>\n",
       "      <td>500.00000</td>\n",
       "      <td>500.000000</td>\n",
       "      <td>5.000000e+02</td>\n",
       "      <td>5.000000e+02</td>\n",
       "      <td>500.000000</td>\n",
       "      <td>500.000000</td>\n",
       "      <td>500.000000</td>\n",
       "      <td>500.000000</td>\n",
       "    </tr>\n",
       "    <tr>\n",
       "      <th>mean</th>\n",
       "      <td>43.116000</td>\n",
       "      <td>134829.920000</td>\n",
       "      <td>1.476000</td>\n",
       "      <td>1.024907e+06</td>\n",
       "      <td>46.10400</td>\n",
       "      <td>11.192820</td>\n",
       "      <td>6.032240e+05</td>\n",
       "      <td>5.627260e+05</td>\n",
       "      <td>15861.536020</td>\n",
       "      <td>1.912000</td>\n",
       "      <td>70.678000</td>\n",
       "      <td>3.000000</td>\n",
       "    </tr>\n",
       "    <tr>\n",
       "      <th>std</th>\n",
       "      <td>12.733217</td>\n",
       "      <td>68969.356746</td>\n",
       "      <td>1.145447</td>\n",
       "      <td>5.907556e+05</td>\n",
       "      <td>18.23706</td>\n",
       "      <td>3.775209</td>\n",
       "      <td>7.457131e+05</td>\n",
       "      <td>4.723581e+05</td>\n",
       "      <td>18709.231315</td>\n",
       "      <td>2.110252</td>\n",
       "      <td>60.211038</td>\n",
       "      <td>2.807805</td>\n",
       "    </tr>\n",
       "    <tr>\n",
       "      <th>min</th>\n",
       "      <td>21.000000</td>\n",
       "      <td>15207.000000</td>\n",
       "      <td>0.000000</td>\n",
       "      <td>5.413800e+04</td>\n",
       "      <td>12.00000</td>\n",
       "      <td>5.020000</td>\n",
       "      <td>0.000000e+00</td>\n",
       "      <td>1.571283e+04</td>\n",
       "      <td>261.880000</td>\n",
       "      <td>0.000000</td>\n",
       "      <td>0.000000</td>\n",
       "      <td>0.000000</td>\n",
       "    </tr>\n",
       "    <tr>\n",
       "      <th>25%</th>\n",
       "      <td>32.000000</td>\n",
       "      <td>76343.250000</td>\n",
       "      <td>0.000000</td>\n",
       "      <td>4.629848e+05</td>\n",
       "      <td>36.00000</td>\n",
       "      <td>7.907500</td>\n",
       "      <td>0.000000e+00</td>\n",
       "      <td>1.822072e+05</td>\n",
       "      <td>4039.097500</td>\n",
       "      <td>1.000000</td>\n",
       "      <td>4.000000</td>\n",
       "      <td>1.000000</td>\n",
       "    </tr>\n",
       "    <tr>\n",
       "      <th>50%</th>\n",
       "      <td>44.000000</td>\n",
       "      <td>134929.500000</td>\n",
       "      <td>1.000000</td>\n",
       "      <td>9.971240e+05</td>\n",
       "      <td>48.00000</td>\n",
       "      <td>10.915000</td>\n",
       "      <td>2.327684e+05</td>\n",
       "      <td>4.133240e+05</td>\n",
       "      <td>9330.170000</td>\n",
       "      <td>2.000000</td>\n",
       "      <td>66.500000</td>\n",
       "      <td>2.000000</td>\n",
       "    </tr>\n",
       "    <tr>\n",
       "      <th>75%</th>\n",
       "      <td>53.000000</td>\n",
       "      <td>193086.250000</td>\n",
       "      <td>3.000000</td>\n",
       "      <td>1.557952e+06</td>\n",
       "      <td>60.00000</td>\n",
       "      <td>14.577500</td>\n",
       "      <td>1.111106e+06</td>\n",
       "      <td>8.324787e+05</td>\n",
       "      <td>20439.485000</td>\n",
       "      <td>3.000000</td>\n",
       "      <td>122.250000</td>\n",
       "      <td>4.000000</td>\n",
       "    </tr>\n",
       "    <tr>\n",
       "      <th>max</th>\n",
       "      <td>64.000000</td>\n",
       "      <td>249746.000000</td>\n",
       "      <td>3.000000</td>\n",
       "      <td>1.995325e+06</td>\n",
       "      <td>72.00000</td>\n",
       "      <td>17.970000</td>\n",
       "      <td>2.744395e+06</td>\n",
       "      <td>1.932396e+06</td>\n",
       "      <td>127849.230000</td>\n",
       "      <td>12.000000</td>\n",
       "      <td>180.000000</td>\n",
       "      <td>10.000000</td>\n",
       "    </tr>\n",
       "  </tbody>\n",
       "</table>\n",
       "</div>"
      ],
      "text/plain": [
       "              Age  Monthly_Income  Num_Dependents   Loan_Amount  Loan_Tenure  \\\n",
       "count  500.000000      500.000000      500.000000  5.000000e+02    500.00000   \n",
       "mean    43.116000   134829.920000        1.476000  1.024907e+06     46.10400   \n",
       "std     12.733217    68969.356746        1.145447  5.907556e+05     18.23706   \n",
       "min     21.000000    15207.000000        0.000000  5.413800e+04     12.00000   \n",
       "25%     32.000000    76343.250000        0.000000  4.629848e+05     36.00000   \n",
       "50%     44.000000   134929.500000        1.000000  9.971240e+05     48.00000   \n",
       "75%     53.000000   193086.250000        3.000000  1.557952e+06     60.00000   \n",
       "max     64.000000   249746.000000        3.000000  1.995325e+06     72.00000   \n",
       "\n",
       "       Interest_Rate  Collateral_Value  Outstanding_Loan_Amount  \\\n",
       "count     500.000000      5.000000e+02             5.000000e+02   \n",
       "mean       11.192820      6.032240e+05             5.627260e+05   \n",
       "std         3.775209      7.457131e+05             4.723581e+05   \n",
       "min         5.020000      0.000000e+00             1.571283e+04   \n",
       "25%         7.907500      0.000000e+00             1.822072e+05   \n",
       "50%        10.915000      2.327684e+05             4.133240e+05   \n",
       "75%        14.577500      1.111106e+06             8.324787e+05   \n",
       "max        17.970000      2.744395e+06             1.932396e+06   \n",
       "\n",
       "         Monthly_EMI  Num_Missed_Payments  Days_Past_Due  Collection_Attempts  \n",
       "count     500.000000           500.000000     500.000000           500.000000  \n",
       "mean    15861.536020             1.912000      70.678000             3.000000  \n",
       "std     18709.231315             2.110252      60.211038             2.807805  \n",
       "min       261.880000             0.000000       0.000000             0.000000  \n",
       "25%      4039.097500             1.000000       4.000000             1.000000  \n",
       "50%      9330.170000             2.000000      66.500000             2.000000  \n",
       "75%     20439.485000             3.000000     122.250000             4.000000  \n",
       "max    127849.230000            12.000000     180.000000            10.000000  "
      ]
     },
     "execution_count": 3,
     "metadata": {},
     "output_type": "execute_result"
    }
   ],
   "source": [
    "df.describe()"
   ]
  },
  {
   "cell_type": "markdown",
   "id": "d0cd66a2",
   "metadata": {},
   "source": [
    "## **Now, let’s move to analyzing this data in detail. I’ll first have a look at the distribution of the loan amount and its relationship with the monthly income:**"
   ]
  },
  {
   "cell_type": "code",
   "execution_count": 4,
   "id": "69cfe3f4",
   "metadata": {},
   "outputs": [
    {
     "data": {
      "application/vnd.plotly.v1+json": {
       "config": {
        "plotlyServerURL": "https://plot.ly"
       },
       "data": [
        {
         "bingroup": "x",
         "hovertemplate": "Loan Amount (in $)=%{x}<br>count=%{y}<extra></extra>",
         "legendgroup": "",
         "marker": {
          "color": "royalblue",
          "opacity": 0.7,
          "pattern": {
           "shape": ""
          }
         },
         "name": "",
         "nbinsx": 30,
         "orientation": "v",
         "showlegend": false,
         "type": "histogram",
         "x": {
          "bdata": "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",
          "dtype": "i4"
         },
         "xaxis": "x",
         "yaxis": "y"
        },
        {
         "hovertemplate": "Loan Amount (in $)=%{x}<extra></extra>",
         "legendgroup": "",
         "marker": {
          "color": "royalblue"
         },
         "name": "",
         "scalegroup": "x",
         "showlegend": false,
         "type": "violin",
         "x": {
          "bdata": "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",
          "dtype": "i4"
         },
         "xaxis": "x2",
         "yaxis": "y2"
        },
        {
         "line": {
          "color": "red",
          "width": 2
         },
         "mode": "lines",
         "name": "Density Curve",
         "type": "scatter",
         "x": [
          54138,
          55039,
          62360,
          63261,
          69477,
          75675,
          77798,
          88578,
          92291,
          93764,
          94816,
          95475,
          101707,
          103053,
          104330,
          109778,
          110128,
          111842,
          112021,
          119087,
          120305,
          126361,
          128077,
          132289,
          132409,
          134381,
          135774,
          136346,
          139116,
          142036,
          145556,
          151948,
          161435,
          162935,
          166214,
          172332,
          173030,
          175355,
          179887,
          180356,
          181184,
          183498,
          188286,
          192180,
          197595,
          200653,
          202353,
          204692,
          205489,
          228267,
          231517,
          236633,
          237256,
          242029,
          243984,
          250339,
          258859,
          267400,
          267583,
          269128,
          271552,
          277189,
          279577,
          285419,
          287501,
          292188,
          295300,
          301514,
          301671,
          303091,
          309480,
          311445,
          312318,
          313031,
          313625,
          314064,
          314237,
          322158,
          323586,
          325049,
          325796,
          330833,
          331696,
          339134,
          343851,
          343946,
          345064,
          346063,
          347675,
          347986,
          353664,
          358362,
          362863,
          365018,
          366462,
          375203,
          379231,
          383713,
          384971,
          387369,
          394126,
          394866,
          396184,
          406007,
          407246,
          412441,
          413898,
          418760,
          421513,
          422397,
          423216,
          426047,
          429270,
          438518,
          439959,
          444754,
          445204,
          446210,
          446981,
          450826,
          451062,
          453777,
          455105,
          455841,
          462672,
          463089,
          467567,
          473159,
          476674,
          478276,
          478733,
          478745,
          480179,
          485928,
          486542,
          510115,
          520435,
          522963,
          525430,
          526128,
          528108,
          533455,
          533779,
          535001,
          538019,
          538765,
          547952,
          548682,
          564265,
          572154,
          584391,
          587977,
          595932,
          597219,
          603172,
          606376,
          608685,
          608963,
          620508,
          634010,
          640504,
          644821,
          651160,
          651891,
          664741,
          665937,
          669055,
          672006,
          676256,
          678380,
          679698,
          681525,
          687431,
          687787,
          690794,
          692927,
          696047,
          700443,
          702755,
          718516,
          721553,
          723647,
          723812,
          740796,
          742485,
          742924,
          748787,
          748876,
          752495,
          758175,
          758672,
          760672,
          771755,
          773858,
          787090,
          788096,
          790389,
          793088,
          793859,
          818917,
          820692,
          824504,
          827567,
          828799,
          834192,
          837738,
          838245,
          840449,
          840605,
          846710,
          846883,
          854807,
          855351,
          856457,
          858301,
          859057,
          862832,
          863560,
          865359,
          873759,
          875626,
          882595,
          884874,
          885825,
          891708,
          892840,
          894081,
          896574,
          902050,
          903329,
          903392,
          903605,
          903823,
          904568,
          912147,
          929459,
          933520,
          937553,
          939493,
          939855,
          940023,
          963081,
          964565,
          968638,
          970114,
          978660,
          983703,
          984339,
          986800,
          990568,
          1003680,
          1034558,
          1037410,
          1040029,
          1044620,
          1046358,
          1053346,
          1055782,
          1058109,
          1061930,
          1073920,
          1074374,
          1083668,
          1097380,
          1102425,
          1104244,
          1106600,
          1121824,
          1124567,
          1129525,
          1132448,
          1138963,
          1144409,
          1149577,
          1158848,
          1162186,
          1164518,
          1173853,
          1175285,
          1183754,
          1185627,
          1187411,
          1188585,
          1189752,
          1190844,
          1192102,
          1204697,
          1210117,
          1225055,
          1233765,
          1234789,
          1236944,
          1238360,
          1240456,
          1242503,
          1250114,
          1252060,
          1255046,
          1255565,
          1256212,
          1257610,
          1273451,
          1280137,
          1283770,
          1294951,
          1297098,
          1300130,
          1304352,
          1315636,
          1316389,
          1318933,
          1321118,
          1331506,
          1332116,
          1332807,
          1333440,
          1352600,
          1363428,
          1365823,
          1371448,
          1375644,
          1385055,
          1386220,
          1388306,
          1388950,
          1390829,
          1391701,
          1392501,
          1395718,
          1408126,
          1411236,
          1418335,
          1418722,
          1419391,
          1421430,
          1422840,
          1425607,
          1429932,
          1433875,
          1436665,
          1438509,
          1439678,
          1445796,
          1445811,
          1447330,
          1448949,
          1452549,
          1460023,
          1460295,
          1463562,
          1464657,
          1464718,
          1469920,
          1470623,
          1470858,
          1479210,
          1482769,
          1483466,
          1486564,
          1491149,
          1492181,
          1495065,
          1496250,
          1497075,
          1499466,
          1506048,
          1509058,
          1510049,
          1511666,
          1514110,
          1518919,
          1522966,
          1530298,
          1537606,
          1556242,
          1563083,
          1565331,
          1571624,
          1572494,
          1574314,
          1575753,
          1580952,
          1581064,
          1585601,
          1586643,
          1587111,
          1588814,
          1593586,
          1594492,
          1605537,
          1606407,
          1608141,
          1609757,
          1615116,
          1615188,
          1618146,
          1619192,
          1620234,
          1621128,
          1625506,
          1627850,
          1633306,
          1637952,
          1648575,
          1651948,
          1652357,
          1652970,
          1656140,
          1674777,
          1691232,
          1693707,
          1701377,
          1704802,
          1707390,
          1707888,
          1711655,
          1713129,
          1717640,
          1717740,
          1718531,
          1718849,
          1720357,
          1723200,
          1728997,
          1729328,
          1744814,
          1753163,
          1753834,
          1753924,
          1764514,
          1769374,
          1769890,
          1772560,
          1778106,
          1780085,
          1788446,
          1795030,
          1795987,
          1798982,
          1799736,
          1803767,
          1804867,
          1808781,
          1811663,
          1814622,
          1816892,
          1818361,
          1818555,
          1822750,
          1832988,
          1833586,
          1835818,
          1837040,
          1838380,
          1839096,
          1851498,
          1859977,
          1863205,
          1868673,
          1871573,
          1872744,
          1874964,
          1884907,
          1885877,
          1886022,
          1892360,
          1895759,
          1897305,
          1898058,
          1905591,
          1909626,
          1911057,
          1917306,
          1923410,
          1926251,
          1926336,
          1927145,
          1929822,
          1931297,
          1938755,
          1940641,
          1947268,
          1947883,
          1947951,
          1950466,
          1955829,
          1958241,
          1958796,
          1958911,
          1959824,
          1966140,
          1966494,
          1970955,
          1971672,
          1976126,
          1977716,
          1980750,
          1989253,
          1995049,
          1995325
         ]
        },
        {
         "hovertemplate": "<b>%{hovertext}</b><br><br>Loan_Amount=%{marker.color}<br>Monthly_Income=%{y}<extra></extra>",
         "hovertext": {
          "bdata": "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",
          "dtype": "f8"
         },
         "legendgroup": "",
         "marker": {
          "color": {
           "bdata": "pA8WAIzwDwBSWR0Az6QbAAJaAQClJAoAfhoXABPrDQAr8wMAm3YCAHUPDABCExMATjkeAPN0AQA+rg0A+A8cABQrEwDcGhMApjASAImKEQCBpA0AbbEDAA1OBwC09goAaB0PAL8nGQDqOBkAAsMdAAggGADNwBYAPxUEAMpQBgB+3wIAxToEAF+xEgBHLRcAZdcSACQ0CQDkzRQAFwsNAED+GABfpBUAinEWAEZzGwBu6gQA+b4bABnQFgBvewsAClUWAE4+GABN9AEAWOUSACDnEwDakQUAL9EBAFnzHAAlbhwASC0NAGDOGQADHQwAvvcVAOhDBQDKmQQA5O4OALTuAgCQugwAKGoHAILNDgBz8gkAoEcRADjtFADONgYApzcYABGgFgC3Ex0AXhICAPawBgDKyhMAFSAUAFAPBwA+Jx4A5sQRAMn4CABMRRkAzYkYAIi8GACgUQoA8RAHAEr2HAD4xQkALA0cAJgLBgDcFwkAlbUBAFVUCwCjyAcAg2gBAERMBwBSyQYAoFAPAIBlBQCbJwEAvwoLAP7DBAC8KxIABkwVAJCTCwASXwoAKekFAF5yHQCzDxYAb4kFAK++AgDPRwUAE+EVAOHaBQDAZB0AotYTAHojHQDDSgkA8lAYADcNDQCd0wwAiW4GAHAqDQBdiAMA8dUBAAxWCwBGdhcA0/oHACceGgCKMBMA7A4IAKISEADV1gkAyJ4DADAHCAAAYxAA91cOAKLsGgBEwxoAEAwbABSJEABqXA0An3AWANXEFgA3RxYAXHUEAD+ABgCPyg0ADWMEAOKlFQAbTgUAn5ELAMrWGAB6QR0AGckEAKifDQDj0QMArp8aABMFDwD7rAIA5i8BAFEpCgDHwBUAZQ8BAMIGFwCIFAQANBMUAJe2BgAdkBgAB4MYAMZkEADB8QYAXyIVAKIVFgAC8AQAIXgdAEOVHQAfVQ0AlwIPAMvfBQAwYxoAwMMCAFsXEgDNDwMAhIEEAJqsCQDUKgIAakAcANsDAwDgyA0A1Y4cALAPBQBUpRgAiO0SAOtaBACd3g8AlB8DAMfGBACKPwUAcA8aAI04CACBgxwAv5IKAGIDGgAlFhQAFJwcAMqiFgARKR0ALfMVAH4NGgD24QYAEyUIAHBcCADcdwkAo3cNAAXSBgDWjAYAngEeAF3pEQAmHBAA4rAYAM8jCACFWh4ALKECAEdWFADjHAkAbB8CAGeaBAChnB0Ajv4XABmOGQC4lAwAiDUaANcoEQApnAgAjZkbAOxZCgAZRAQAYJsLAJHsBgCJYRwAlDgCAOu4HQCNKBMA+LUVABTLBgChfxgAKXEeACO5CgD4tBgAAPsWACqSFgAAGgwAG7AKAJYxFQBKXwgA0qwBAFl2EQCxGw0AqEAJAHL6GwBRWRYAy9kXAGfCEwCZ7QEA9RsWAGXTEgDpIxoA+roIAAZBCgB2sBUAKjQQAOw1GgA+yQ8ANTwRACoDHAB4zQ0ABXcSALu/GwDitAEAozUIADJRFAC+LAUAkQILAO04FQCEwAIA5X4MAJICDADVtw4AHkobAGrIDABZ0hAAmPMAADB1BgCvoAwAfzUKAJXABAA4dhsACrkYALNTBwCKlwEAS40BAFEMBQDsNBkAE2ERAJDnHQCizRgA6WcdACj7FwBZnAMAhLYdAJ7/GgCKgA0A5VUOAALPBgB/pQwA5K4WAEdIFgBlygwAsy4OAO0MAgBokxwAPJsNAGtkHQAQuQMAwK4RAHxUGACTZxsAVvcPAIAGDADznwQAosMNANDKBADZYRIA8/AHAJjvCQA8AB4AfcsEALn1BADvngoAbyIHAFU8FQD/4x0A9dcdAOBtFgDBBAIAaooKAAH2GQDyEBcAQ4obAErhFgCkiBUA6LgEAOvCHABesBsA0zUYAKzRFQDKzAIAmKMUAOrCGgDpIhIA4s4LAEc4BwCrxgsAYHIBAHrTAAB4JxIA+esVAAHTDAAj7AwAPLkbAPcxBgB26wwAwCQEAERuAQDmowIAvscOAC+5HQADORoAfpcFAE9XDgCOWRYAMK4BAEgbBAC9GA0AlFMUAP/WAABxFgMAd3wCABrsGACM4x0AEi8VAI2SAQCJiBMA8AccAJoUAgBfyQUAofQGAK1JCQB/qBUARokCANkpCAChyA0AdSkbAGLUDwDz1xYACuEGAI5sBwCc/RQAR30KAP1xBgAZSwYAtcYcAJA+DgBGxxwAx+oIAKoFGAA9ch4AAkYHAD0lEAA5BQIAIB4RAJgfGABMbQsAuiEbAKjiEAB2BAgAwFgUAAsTHgBrbhMAsA4PAAUqFgB0LR4A2BUeAKEKFwCH9RIAChASAKS+EABRTg4ADKUYAIkRDQC61BYAyrsRAAvYGQA1ZgoASQsYAPeFGwDzbAsAwTEYAEvAGgC6WRcAdNkQAJ4oFACrewMAYeEdALEiAwCOAwYA5WEaAE/tHADadwUACbIOAAjgHAAc+BsAUx4SACVAGgBPNA0A1mMbAIxRAgC6lhMAhTYZAJPiFwArPwUAHtAbANDfEgCGJhMAUk8FAB33AAD17hEAQToaAMhjBgC1yQ0AdT8VAKT4BAA/1xQA7CYVANSFDABASxoAGU4HAKt+CgBkCwsAQYQNABY9FwASvxcAvE0LAH58FQCjuQUAogEbAHIGBgA=",
           "dtype": "i4"
          },
          "coloraxis": "coloraxis",
          "size": {
           "bdata": "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",
           "dtype": "i4"
          },
          "sizemode": "area",
          "sizeref": 4988.3125,
          "symbol": "circle"
         },
         "mode": "markers",
         "name": "",
         "orientation": "v",
         "showlegend": false,
         "type": "scatter",
         "x": {
          "bdata": "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",
          "dtype": "i4"
         },
         "xaxis": "x",
         "y": {
          "bdata": "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",
          "dtype": "i4"
         },
         "yaxis": "y"
        }
       ],
       "layout": {
        "annotations": [
         {
          "arrowhead": 2,
          "font": {
           "color": "red",
           "size": 12
          },
          "showarrow": true,
          "text": "Higher Loan Amounts are linked to Higher Income Levels",
          "x": 1596260,
          "y": 249746
         }
        ],
        "barmode": "relative",
        "legend": {
         "tracegroupgap": 0
        },
        "showlegend": true,
        "template": {
         "data": {
          "bar": [
           {
            "error_x": {
             "color": "#2a3f5f"
            },
            "error_y": {
             "color": "#2a3f5f"
            },
            "marker": {
             "line": {
              "color": "white",
              "width": 0.5
             },
             "pattern": {
              "fillmode": "overlay",
              "size": 10,
              "solidity": 0.2
             }
            },
            "type": "bar"
           }
          ],
          "barpolar": [
           {
            "marker": {
             "line": {
              "color": "white",
              "width": 0.5
             },
             "pattern": {
              "fillmode": "overlay",
              "size": 10,
              "solidity": 0.2
             }
            },
            "type": "barpolar"
           }
          ],
          "carpet": [
           {
            "aaxis": {
             "endlinecolor": "#2a3f5f",
             "gridcolor": "#C8D4E3",
             "linecolor": "#C8D4E3",
             "minorgridcolor": "#C8D4E3",
             "startlinecolor": "#2a3f5f"
            },
            "baxis": {
             "endlinecolor": "#2a3f5f",
             "gridcolor": "#C8D4E3",
             "linecolor": "#C8D4E3",
             "minorgridcolor": "#C8D4E3",
             "startlinecolor": "#2a3f5f"
            },
            "type": "carpet"
           }
          ],
          "choropleth": [
           {
            "colorbar": {
             "outlinewidth": 0,
             "ticks": ""
            },
            "type": "choropleth"
           }
          ],
          "contour": [
           {
            "colorbar": {
             "outlinewidth": 0,
             "ticks": ""
            },
            "colorscale": [
             [
              0,
              "#0d0887"
             ],
             [
              0.1111111111111111,
              "#46039f"
             ],
             [
              0.2222222222222222,
              "#7201a8"
             ],
             [
              0.3333333333333333,
              "#9c179e"
             ],
             [
              0.4444444444444444,
              "#bd3786"
             ],
             [
              0.5555555555555556,
              "#d8576b"
             ],
             [
              0.6666666666666666,
              "#ed7953"
             ],
             [
              0.7777777777777778,
              "#fb9f3a"
             ],
             [
              0.8888888888888888,
              "#fdca26"
             ],
             [
              1,
              "#f0f921"
             ]
            ],
            "type": "contour"
           }
          ],
          "contourcarpet": [
           {
            "colorbar": {
             "outlinewidth": 0,
             "ticks": ""
            },
            "type": "contourcarpet"
           }
          ],
          "heatmap": [
           {
            "colorbar": {
             "outlinewidth": 0,
             "ticks": ""
            },
            "colorscale": [
             [
              0,
              "#0d0887"
             ],
             [
              0.1111111111111111,
              "#46039f"
             ],
             [
              0.2222222222222222,
              "#7201a8"
             ],
             [
              0.3333333333333333,
              "#9c179e"
             ],
             [
              0.4444444444444444,
              "#bd3786"
             ],
             [
              0.5555555555555556,
              "#d8576b"
             ],
             [
              0.6666666666666666,
              "#ed7953"
             ],
             [
              0.7777777777777778,
              "#fb9f3a"
             ],
             [
              0.8888888888888888,
              "#fdca26"
             ],
             [
              1,
              "#f0f921"
             ]
            ],
            "type": "heatmap"
           }
          ],
          "histogram": [
           {
            "marker": {
             "pattern": {
              "fillmode": "overlay",
              "size": 10,
              "solidity": 0.2
             }
            },
            "type": "histogram"
           }
          ],
          "histogram2d": [
           {
            "colorbar": {
             "outlinewidth": 0,
             "ticks": ""
            },
            "colorscale": [
             [
              0,
              "#0d0887"
             ],
             [
              0.1111111111111111,
              "#46039f"
             ],
             [
              0.2222222222222222,
              "#7201a8"
             ],
             [
              0.3333333333333333,
              "#9c179e"
             ],
             [
              0.4444444444444444,
              "#bd3786"
             ],
             [
              0.5555555555555556,
              "#d8576b"
             ],
             [
              0.6666666666666666,
              "#ed7953"
             ],
             [
              0.7777777777777778,
              "#fb9f3a"
             ],
             [
              0.8888888888888888,
              "#fdca26"
             ],
             [
              1,
              "#f0f921"
             ]
            ],
            "type": "histogram2d"
           }
          ],
          "histogram2dcontour": [
           {
            "colorbar": {
             "outlinewidth": 0,
             "ticks": ""
            },
            "colorscale": [
             [
              0,
              "#0d0887"
             ],
             [
              0.1111111111111111,
              "#46039f"
             ],
             [
              0.2222222222222222,
              "#7201a8"
             ],
             [
              0.3333333333333333,
              "#9c179e"
             ],
             [
              0.4444444444444444,
              "#bd3786"
             ],
             [
              0.5555555555555556,
              "#d8576b"
             ],
             [
              0.6666666666666666,
              "#ed7953"
             ],
             [
              0.7777777777777778,
              "#fb9f3a"
             ],
             [
              0.8888888888888888,
              "#fdca26"
             ],
             [
              1,
              "#f0f921"
             ]
            ],
            "type": "histogram2dcontour"
           }
          ],
          "mesh3d": [
           {
            "colorbar": {
             "outlinewidth": 0,
             "ticks": ""
            },
            "type": "mesh3d"
           }
          ],
          "parcoords": [
           {
            "line": {
             "colorbar": {
              "outlinewidth": 0,
              "ticks": ""
             }
            },
            "type": "parcoords"
           }
          ],
          "pie": [
           {
            "automargin": true,
            "type": "pie"
           }
          ],
          "scatter": [
           {
            "fillpattern": {
             "fillmode": "overlay",
             "size": 10,
             "solidity": 0.2
            },
            "type": "scatter"
           }
          ],
          "scatter3d": [
           {
            "line": {
             "colorbar": {
              "outlinewidth": 0,
              "ticks": ""
             }
            },
            "marker": {
             "colorbar": {
              "outlinewidth": 0,
              "ticks": ""
             }
            },
            "type": "scatter3d"
           }
          ],
          "scattercarpet": [
           {
            "marker": {
             "colorbar": {
              "outlinewidth": 0,
              "ticks": ""
             }
            },
            "type": "scattercarpet"
           }
          ],
          "scattergeo": [
           {
            "marker": {
             "colorbar": {
              "outlinewidth": 0,
              "ticks": ""
             }
            },
            "type": "scattergeo"
           }
          ],
          "scattergl": [
           {
            "marker": {
             "colorbar": {
              "outlinewidth": 0,
              "ticks": ""
             }
            },
            "type": "scattergl"
           }
          ],
          "scattermap": [
           {
            "marker": {
             "colorbar": {
              "outlinewidth": 0,
              "ticks": ""
             }
            },
            "type": "scattermap"
           }
          ],
          "scattermapbox": [
           {
            "marker": {
             "colorbar": {
              "outlinewidth": 0,
              "ticks": ""
             }
            },
            "type": "scattermapbox"
           }
          ],
          "scatterpolar": [
           {
            "marker": {
             "colorbar": {
              "outlinewidth": 0,
              "ticks": ""
             }
            },
            "type": "scatterpolar"
           }
          ],
          "scatterpolargl": [
           {
            "marker": {
             "colorbar": {
              "outlinewidth": 0,
              "ticks": ""
             }
            },
            "type": "scatterpolargl"
           }
          ],
          "scatterternary": [
           {
            "marker": {
             "colorbar": {
              "outlinewidth": 0,
              "ticks": ""
             }
            },
            "type": "scatterternary"
           }
          ],
          "surface": [
           {
            "colorbar": {
             "outlinewidth": 0,
             "ticks": ""
            },
            "colorscale": [
             [
              0,
              "#0d0887"
             ],
             [
              0.1111111111111111,
              "#46039f"
             ],
             [
              0.2222222222222222,
              "#7201a8"
             ],
             [
              0.3333333333333333,
              "#9c179e"
             ],
             [
              0.4444444444444444,
              "#bd3786"
             ],
             [
              0.5555555555555556,
              "#d8576b"
             ],
             [
              0.6666666666666666,
              "#ed7953"
             ],
             [
              0.7777777777777778,
              "#fb9f3a"
             ],
             [
              0.8888888888888888,
              "#fdca26"
             ],
             [
              1,
              "#f0f921"
             ]
            ],
            "type": "surface"
           }
          ],
          "table": [
           {
            "cells": {
             "fill": {
              "color": "#EBF0F8"
             },
             "line": {
              "color": "white"
             }
            },
            "header": {
             "fill": {
              "color": "#C8D4E3"
             },
             "line": {
              "color": "white"
             }
            },
            "type": "table"
           }
          ]
         },
         "layout": {
          "annotationdefaults": {
           "arrowcolor": "#2a3f5f",
           "arrowhead": 0,
           "arrowwidth": 1
          },
          "autotypenumbers": "strict",
          "coloraxis": {
           "colorbar": {
            "outlinewidth": 0,
            "ticks": ""
           }
          },
          "colorscale": {
           "diverging": [
            [
             0,
             "#8e0152"
            ],
            [
             0.1,
             "#c51b7d"
            ],
            [
             0.2,
             "#de77ae"
            ],
            [
             0.3,
             "#f1b6da"
            ],
            [
             0.4,
             "#fde0ef"
            ],
            [
             0.5,
             "#f7f7f7"
            ],
            [
             0.6,
             "#e6f5d0"
            ],
            [
             0.7,
             "#b8e186"
            ],
            [
             0.8,
             "#7fbc41"
            ],
            [
             0.9,
             "#4d9221"
            ],
            [
             1,
             "#276419"
            ]
           ],
           "sequential": [
            [
             0,
             "#0d0887"
            ],
            [
             0.1111111111111111,
             "#46039f"
            ],
            [
             0.2222222222222222,
             "#7201a8"
            ],
            [
             0.3333333333333333,
             "#9c179e"
            ],
            [
             0.4444444444444444,
             "#bd3786"
            ],
            [
             0.5555555555555556,
             "#d8576b"
            ],
            [
             0.6666666666666666,
             "#ed7953"
            ],
            [
             0.7777777777777778,
             "#fb9f3a"
            ],
            [
             0.8888888888888888,
             "#fdca26"
            ],
            [
             1,
             "#f0f921"
            ]
           ],
           "sequentialminus": [
            [
             0,
             "#0d0887"
            ],
            [
             0.1111111111111111,
             "#46039f"
            ],
            [
             0.2222222222222222,
             "#7201a8"
            ],
            [
             0.3333333333333333,
             "#9c179e"
            ],
            [
             0.4444444444444444,
             "#bd3786"
            ],
            [
             0.5555555555555556,
             "#d8576b"
            ],
            [
             0.6666666666666666,
             "#ed7953"
            ],
            [
             0.7777777777777778,
             "#fb9f3a"
            ],
            [
             0.8888888888888888,
             "#fdca26"
            ],
            [
             1,
             "#f0f921"
            ]
           ]
          },
          "colorway": [
           "#636efa",
           "#EF553B",
           "#00cc96",
           "#ab63fa",
           "#FFA15A",
           "#19d3f3",
           "#FF6692",
           "#B6E880",
           "#FF97FF",
           "#FECB52"
          ],
          "font": {
           "color": "#2a3f5f"
          },
          "geo": {
           "bgcolor": "white",
           "lakecolor": "white",
           "landcolor": "white",
           "showlakes": true,
           "showland": true,
           "subunitcolor": "#C8D4E3"
          },
          "hoverlabel": {
           "align": "left"
          },
          "hovermode": "closest",
          "mapbox": {
           "style": "light"
          },
          "paper_bgcolor": "white",
          "plot_bgcolor": "white",
          "polar": {
           "angularaxis": {
            "gridcolor": "#EBF0F8",
            "linecolor": "#EBF0F8",
            "ticks": ""
           },
           "bgcolor": "white",
           "radialaxis": {
            "gridcolor": "#EBF0F8",
            "linecolor": "#EBF0F8",
            "ticks": ""
           }
          },
          "scene": {
           "xaxis": {
            "backgroundcolor": "white",
            "gridcolor": "#DFE8F3",
            "gridwidth": 2,
            "linecolor": "#EBF0F8",
            "showbackground": true,
            "ticks": "",
            "zerolinecolor": "#EBF0F8"
           },
           "yaxis": {
            "backgroundcolor": "white",
            "gridcolor": "#DFE8F3",
            "gridwidth": 2,
            "linecolor": "#EBF0F8",
            "showbackground": true,
            "ticks": "",
            "zerolinecolor": "#EBF0F8"
           },
           "zaxis": {
            "backgroundcolor": "white",
            "gridcolor": "#DFE8F3",
            "gridwidth": 2,
            "linecolor": "#EBF0F8",
            "showbackground": true,
            "ticks": "",
            "zerolinecolor": "#EBF0F8"
           }
          },
          "shapedefaults": {
           "line": {
            "color": "#2a3f5f"
           }
          },
          "ternary": {
           "aaxis": {
            "gridcolor": "#DFE8F3",
            "linecolor": "#A2B1C6",
            "ticks": ""
           },
           "baxis": {
            "gridcolor": "#DFE8F3",
            "linecolor": "#A2B1C6",
            "ticks": ""
           },
           "bgcolor": "white",
           "caxis": {
            "gridcolor": "#DFE8F3",
            "linecolor": "#A2B1C6",
            "ticks": ""
           }
          },
          "title": {
           "x": 0.05
          },
          "xaxis": {
           "automargin": true,
           "gridcolor": "#EBF0F8",
           "linecolor": "#EBF0F8",
           "ticks": "",
           "title": {
            "standoff": 15
           },
           "zerolinecolor": "#EBF0F8",
           "zerolinewidth": 2
          },
          "yaxis": {
           "automargin": true,
           "gridcolor": "#EBF0F8",
           "linecolor": "#EBF0F8",
           "ticks": "",
           "title": {
            "standoff": 15
           },
           "zerolinecolor": "#EBF0F8",
           "zerolinewidth": 2
          }
         }
        },
        "title": {
         "text": "Loan Amount Distribution & Relationship with Monthly Income"
        },
        "xaxis": {
         "anchor": "y",
         "domain": [
          0,
          1
         ],
         "title": {
          "text": "Loan Amount (in $)"
         }
        },
        "xaxis2": {
         "anchor": "y2",
         "domain": [
          0,
          1
         ],
         "matches": "x",
         "showgrid": true,
         "showticklabels": false
        },
        "yaxis": {
         "anchor": "x",
         "domain": [
          0,
          0.8316
         ],
         "title": {
          "text": "Monthly Income (in $)"
         }
        },
        "yaxis2": {
         "anchor": "x2",
         "domain": [
          0.8416,
          1
         ],
         "matches": "y2",
         "showgrid": false,
         "showline": false,
         "showticklabels": false,
         "ticks": ""
        }
       }
      }
     },
     "metadata": {},
     "output_type": "display_data"
    }
   ],
   "source": [
    "import plotly.graph_objects as go\n",
    "import plotly.express as px\n",
    "import pandas as pd\n",
    "\n",
    "\n",
    "fig = px.histogram(df, x='Loan_Amount', nbins=30, marginal=\"violin\", opacity=0.7,\n",
    "                   title=\"Loan Amount Distribution & Relationship with Monthly Income\",\n",
    "                   labels={'Loan_Amount': \"Loan Amount (in $)\", 'Monthly_Income': \"Monthly Income\"},\n",
    "                   color_discrete_sequence=[\"royalblue\"])\n",
    "\n",
    "fig.add_trace(go.Scatter(\n",
    "    x=sorted(df['Loan_Amount']),\n",
    "    y=px.histogram(df, x='Loan_Amount', nbins=30, histnorm='probability density').data[0]['y'],\n",
    "    mode='lines',\n",
    "    name='Density Curve',\n",
    "    line=dict(color='red', width=2)\n",
    "))\n",
    "\n",
    "scatter = px.scatter(df, x='Loan_Amount', y='Monthly_Income',\n",
    "                     color='Loan_Amount', color_continuous_scale='Viridis',\n",
    "                     size=df['Loan_Amount'], hover_name=df.index)\n",
    "\n",
    "for trace in scatter.data:\n",
    "    fig.add_trace(trace)\n",
    "\n",
    "fig.update_layout(\n",
    "    annotations=[\n",
    "        dict(\n",
    "            x=max(df['Loan_Amount']) * 0.8, y=max(df['Monthly_Income']),\n",
    "            text=\"Higher Loan Amounts are linked to Higher Income Levels\",\n",
    "            showarrow=True,\n",
    "            arrowhead=2,\n",
    "            font=dict(size=12, color=\"red\")\n",
    "        )\n",
    "    ],\n",
    "    xaxis_title=\"Loan Amount (in $)\",\n",
    "    yaxis_title=\"Monthly Income (in $)\",\n",
    "    template=\"plotly_white\",\n",
    "    showlegend=True\n",
    ")\n",
    "fig.show()"
   ]
  },
  {
   "cell_type": "markdown",
   "id": "9348ab7c",
   "metadata": {},
   "source": [
    "## **Now, let’s have a look at the payment history. I’ll first analyze how payment history affects loan recovery amount:**"
   ]
  },
  {
   "cell_type": "code",
   "execution_count": 5,
   "id": "d3da67a8",
   "metadata": {},
   "outputs": [
    {
     "data": {
      "application/vnd.plotly.v1+json": {
       "config": {
        "plotlyServerURL": "https://plot.ly"
       },
       "data": [
        {
         "alignmentgroup": "True",
         "bingroup": "x",
         "hovertemplate": "Recovery_Status=Partially Recovered<br>Payment History=%{x}<br>count=%{y}<extra></extra>",
         "legendgroup": "Partially Recovered",
         "marker": {
          "color": "#00cc96",
          "pattern": {
           "shape": ""
          }
         },
         "name": "Partially Recovered",
         "offsetgroup": "Partially Recovered",
         "orientation": "v",
         "showlegend": true,
         "type": "histogram",
         "x": [
          "On-Time",
          "On-Time",
          "On-Time",
          "Delayed",
          "On-Time",
          "On-Time",
          "On-Time",
          "On-Time",
          "Delayed",
          "Delayed",
          "On-Time",
          "On-Time",
          "On-Time",
          "Delayed",
          "On-Time",
          "Delayed",
          "On-Time",
          "Delayed",
          "On-Time",
          "On-Time",
          "On-Time",
          "Missed",
          "On-Time",
          "On-Time",
          "On-Time",
          "On-Time",
          "On-Time",
          "Delayed",
          "Missed",
          "On-Time",
          "On-Time",
          "On-Time",
          "On-Time",
          "On-Time",
          "On-Time",
          "Missed",
          "On-Time",
          "Delayed",
          "Delayed",
          "On-Time",
          "Delayed",
          "Delayed",
          "Delayed",
          "On-Time",
          "Delayed",
          "Delayed",
          "Delayed",
          "Delayed",
          "On-Time",
          "Missed",
          "On-Time",
          "On-Time",
          "On-Time",
          "Missed",
          "Delayed",
          "Delayed",
          "Delayed",
          "Delayed",
          "On-Time",
          "Delayed",
          "On-Time",
          "Delayed",
          "On-Time",
          "On-Time",
          "On-Time",
          "On-Time",
          "Missed",
          "On-Time",
          "On-Time",
          "On-Time",
          "Delayed",
          "On-Time",
          "On-Time",
          "On-Time",
          "On-Time",
          "On-Time",
          "On-Time",
          "Delayed",
          "On-Time",
          "On-Time",
          "On-Time",
          "On-Time",
          "On-Time",
          "On-Time",
          "Delayed",
          "On-Time",
          "On-Time",
          "On-Time",
          "Delayed",
          "Missed",
          "On-Time",
          "On-Time",
          "Delayed",
          "Missed",
          "On-Time",
          "On-Time",
          "Delayed",
          "On-Time",
          "Delayed",
          "Missed",
          "On-Time",
          "On-Time",
          "On-Time",
          "Delayed",
          "On-Time",
          "On-Time",
          "Delayed",
          "Missed",
          "Delayed",
          "On-Time",
          "Delayed",
          "On-Time",
          "On-Time",
          "On-Time",
          "Delayed",
          "On-Time",
          "Delayed",
          "Delayed",
          "On-Time",
          "On-Time",
          "On-Time",
          "On-Time",
          "Delayed",
          "Missed",
          "Delayed",
          "On-Time",
          "On-Time",
          "Missed",
          "On-Time",
          "Delayed",
          "Delayed",
          "Delayed",
          "Delayed",
          "Missed",
          "On-Time",
          "On-Time",
          "Delayed",
          "On-Time",
          "Delayed",
          "On-Time",
          "On-Time",
          "On-Time",
          "On-Time",
          "On-Time",
          "Missed",
          "Delayed",
          "On-Time",
          "On-Time",
          "On-Time",
          "On-Time",
          "On-Time",
          "On-Time",
          "Delayed",
          "On-Time"
         ],
         "xaxis": "x",
         "yaxis": "y"
        },
        {
         "alignmentgroup": "True",
         "bingroup": "x",
         "hovertemplate": "Recovery_Status=Fully Recovered<br>Payment History=%{x}<br>count=%{y}<extra></extra>",
         "legendgroup": "Fully Recovered",
         "marker": {
          "color": "#ab63fa",
          "pattern": {
           "shape": ""
          }
         },
         "name": "Fully Recovered",
         "offsetgroup": "Fully Recovered",
         "orientation": "v",
         "showlegend": true,
         "type": "histogram",
         "x": [
          "On-Time",
          "Delayed",
          "On-Time",
          "On-Time",
          "Delayed",
          "On-Time",
          "On-Time",
          "On-Time",
          "Missed",
          "On-Time",
          "On-Time",
          "Delayed",
          "On-Time",
          "Delayed",
          "Missed",
          "Missed",
          "Delayed",
          "On-Time",
          "On-Time",
          "On-Time",
          "On-Time",
          "On-Time",
          "On-Time",
          "On-Time",
          "On-Time",
          "On-Time",
          "Missed",
          "On-Time",
          "On-Time",
          "On-Time",
          "On-Time",
          "On-Time",
          "Delayed",
          "On-Time",
          "On-Time",
          "Delayed",
          "Delayed",
          "On-Time",
          "Delayed",
          "On-Time",
          "On-Time",
          "On-Time",
          "On-Time",
          "Delayed",
          "On-Time",
          "Missed",
          "On-Time",
          "On-Time",
          "Delayed",
          "Delayed",
          "Delayed",
          "On-Time",
          "On-Time",
          "Delayed",
          "On-Time",
          "On-Time",
          "Delayed",
          "Missed",
          "On-Time",
          "Missed",
          "Delayed",
          "On-Time",
          "On-Time",
          "On-Time",
          "On-Time",
          "On-Time",
          "Delayed",
          "Delayed",
          "On-Time",
          "Delayed",
          "Delayed",
          "On-Time",
          "On-Time",
          "On-Time",
          "On-Time",
          "Delayed",
          "Delayed",
          "Delayed",
          "On-Time",
          "On-Time",
          "Missed",
          "Delayed",
          "Delayed",
          "On-Time",
          "On-Time",
          "Delayed",
          "On-Time",
          "On-Time",
          "On-Time",
          "Delayed",
          "Missed",
          "Missed",
          "On-Time",
          "Delayed",
          "On-Time",
          "On-Time",
          "Missed",
          "On-Time",
          "On-Time",
          "On-Time",
          "On-Time",
          "Delayed",
          "On-Time",
          "On-Time",
          "On-Time",
          "Delayed",
          "Delayed",
          "On-Time",
          "On-Time",
          "On-Time",
          "On-Time",
          "On-Time",
          "Missed",
          "On-Time",
          "On-Time",
          "Delayed",
          "Delayed",
          "On-Time",
          "On-Time",
          "On-Time",
          "On-Time",
          "Delayed",
          "On-Time",
          "Delayed",
          "Delayed",
          "On-Time",
          "Missed",
          "On-Time",
          "On-Time",
          "On-Time",
          "Missed",
          "Delayed",
          "Delayed",
          "Delayed",
          "On-Time",
          "On-Time",
          "On-Time",
          "Missed",
          "Missed",
          "On-Time",
          "On-Time",
          "Delayed",
          "On-Time",
          "Delayed",
          "On-Time",
          "Delayed",
          "Missed",
          "On-Time",
          "Missed",
          "Delayed",
          "On-Time",
          "On-Time",
          "Missed",
          "Delayed",
          "On-Time",
          "On-Time",
          "On-Time",
          "Delayed",
          "On-Time",
          "On-Time",
          "On-Time",
          "On-Time",
          "On-Time",
          "Delayed",
          "On-Time",
          "On-Time",
          "On-Time",
          "On-Time",
          "On-Time",
          "On-Time",
          "On-Time",
          "On-Time",
          "On-Time",
          "On-Time",
          "On-Time",
          "On-Time",
          "On-Time",
          "On-Time",
          "On-Time",
          "On-Time",
          "On-Time",
          "Delayed",
          "On-Time",
          "On-Time",
          "On-Time",
          "On-Time",
          "Delayed",
          "Delayed",
          "On-Time",
          "On-Time",
          "On-Time",
          "Missed",
          "Missed",
          "Delayed",
          "Delayed",
          "On-Time",
          "Missed",
          "Delayed",
          "On-Time",
          "On-Time",
          "On-Time",
          "Missed",
          "On-Time",
          "On-Time",
          "Delayed",
          "On-Time",
          "Delayed",
          "On-Time",
          "Delayed",
          "On-Time",
          "On-Time",
          "On-Time",
          "On-Time",
          "On-Time",
          "On-Time",
          "On-Time",
          "On-Time",
          "On-Time",
          "Delayed",
          "Delayed",
          "Delayed",
          "On-Time",
          "On-Time",
          "Delayed",
          "Missed",
          "On-Time",
          "On-Time",
          "On-Time",
          "Delayed",
          "Delayed",
          "On-Time",
          "On-Time",
          "Delayed",
          "Delayed",
          "On-Time",
          "On-Time",
          "Delayed",
          "Missed",
          "On-Time",
          "Delayed",
          "On-Time",
          "On-Time",
          "Delayed",
          "On-Time",
          "Delayed",
          "On-Time",
          "Missed",
          "On-Time",
          "On-Time",
          "On-Time",
          "On-Time",
          "On-Time",
          "Delayed",
          "On-Time",
          "On-Time",
          "Delayed",
          "On-Time",
          "On-Time",
          "On-Time",
          "On-Time",
          "On-Time",
          "Missed",
          "Delayed",
          "On-Time",
          "On-Time",
          "On-Time",
          "On-Time",
          "On-Time",
          "Delayed",
          "Missed",
          "Missed",
          "On-Time",
          "On-Time",
          "Delayed",
          "On-Time",
          "Missed",
          "Missed",
          "On-Time",
          "Missed",
          "On-Time",
          "On-Time",
          "On-Time",
          "On-Time",
          "On-Time",
          "Delayed",
          "Missed",
          "On-Time",
          "Delayed",
          "Missed",
          "Delayed",
          "Missed",
          "Delayed",
          "Delayed",
          "On-Time",
          "Delayed",
          "Delayed"
         ],
         "xaxis": "x",
         "yaxis": "y"
        },
        {
         "alignmentgroup": "True",
         "bingroup": "x",
         "hovertemplate": "Recovery_Status=Written Off<br>Payment History=%{x}<br>count=%{y}<extra></extra>",
         "legendgroup": "Written Off",
         "marker": {
          "color": "#FFA15A",
          "pattern": {
           "shape": ""
          }
         },
         "name": "Written Off",
         "offsetgroup": "Written Off",
         "orientation": "v",
         "showlegend": true,
         "type": "histogram",
         "x": [
          "Delayed",
          "Delayed",
          "On-Time",
          "Delayed",
          "On-Time",
          "On-Time",
          "On-Time",
          "On-Time",
          "Delayed",
          "On-Time",
          "On-Time",
          "On-Time",
          "Delayed",
          "Delayed",
          "On-Time",
          "Missed",
          "Missed",
          "On-Time",
          "Missed",
          "Delayed",
          "Delayed",
          "On-Time",
          "On-Time",
          "Missed",
          "On-Time",
          "Delayed",
          "On-Time",
          "Delayed",
          "On-Time",
          "On-Time",
          "On-Time",
          "On-Time",
          "On-Time",
          "Delayed",
          "Delayed",
          "On-Time",
          "On-Time",
          "On-Time",
          "Delayed",
          "Delayed",
          "Missed",
          "On-Time",
          "On-Time",
          "On-Time",
          "On-Time",
          "On-Time",
          "On-Time",
          "Delayed",
          "On-Time",
          "On-Time"
         ],
         "xaxis": "x",
         "yaxis": "y"
        }
       ],
       "layout": {
        "barmode": "group",
        "legend": {
         "title": {
          "text": "Recovery Status"
         },
         "tracegroupgap": 0
        },
        "template": {
         "data": {
          "bar": [
           {
            "error_x": {
             "color": "#2a3f5f"
            },
            "error_y": {
             "color": "#2a3f5f"
            },
            "marker": {
             "line": {
              "color": "white",
              "width": 0.5
             },
             "pattern": {
              "fillmode": "overlay",
              "size": 10,
              "solidity": 0.2
             }
            },
            "type": "bar"
           }
          ],
          "barpolar": [
           {
            "marker": {
             "line": {
              "color": "white",
              "width": 0.5
             },
             "pattern": {
              "fillmode": "overlay",
              "size": 10,
              "solidity": 0.2
             }
            },
            "type": "barpolar"
           }
          ],
          "carpet": [
           {
            "aaxis": {
             "endlinecolor": "#2a3f5f",
             "gridcolor": "#C8D4E3",
             "linecolor": "#C8D4E3",
             "minorgridcolor": "#C8D4E3",
             "startlinecolor": "#2a3f5f"
            },
            "baxis": {
             "endlinecolor": "#2a3f5f",
             "gridcolor": "#C8D4E3",
             "linecolor": "#C8D4E3",
             "minorgridcolor": "#C8D4E3",
             "startlinecolor": "#2a3f5f"
            },
            "type": "carpet"
           }
          ],
          "choropleth": [
           {
            "colorbar": {
             "outlinewidth": 0,
             "ticks": ""
            },
            "type": "choropleth"
           }
          ],
          "contour": [
           {
            "colorbar": {
             "outlinewidth": 0,
             "ticks": ""
            },
            "colorscale": [
             [
              0,
              "#0d0887"
             ],
             [
              0.1111111111111111,
              "#46039f"
             ],
             [
              0.2222222222222222,
              "#7201a8"
             ],
             [
              0.3333333333333333,
              "#9c179e"
             ],
             [
              0.4444444444444444,
              "#bd3786"
             ],
             [
              0.5555555555555556,
              "#d8576b"
             ],
             [
              0.6666666666666666,
              "#ed7953"
             ],
             [
              0.7777777777777778,
              "#fb9f3a"
             ],
             [
              0.8888888888888888,
              "#fdca26"
             ],
             [
              1,
              "#f0f921"
             ]
            ],
            "type": "contour"
           }
          ],
          "contourcarpet": [
           {
            "colorbar": {
             "outlinewidth": 0,
             "ticks": ""
            },
            "type": "contourcarpet"
           }
          ],
          "heatmap": [
           {
            "colorbar": {
             "outlinewidth": 0,
             "ticks": ""
            },
            "colorscale": [
             [
              0,
              "#0d0887"
             ],
             [
              0.1111111111111111,
              "#46039f"
             ],
             [
              0.2222222222222222,
              "#7201a8"
             ],
             [
              0.3333333333333333,
              "#9c179e"
             ],
             [
              0.4444444444444444,
              "#bd3786"
             ],
             [
              0.5555555555555556,
              "#d8576b"
             ],
             [
              0.6666666666666666,
              "#ed7953"
             ],
             [
              0.7777777777777778,
              "#fb9f3a"
             ],
             [
              0.8888888888888888,
              "#fdca26"
             ],
             [
              1,
              "#f0f921"
             ]
            ],
            "type": "heatmap"
           }
          ],
          "histogram": [
           {
            "marker": {
             "pattern": {
              "fillmode": "overlay",
              "size": 10,
              "solidity": 0.2
             }
            },
            "type": "histogram"
           }
          ],
          "histogram2d": [
           {
            "colorbar": {
             "outlinewidth": 0,
             "ticks": ""
            },
            "colorscale": [
             [
              0,
              "#0d0887"
             ],
             [
              0.1111111111111111,
              "#46039f"
             ],
             [
              0.2222222222222222,
              "#7201a8"
             ],
             [
              0.3333333333333333,
              "#9c179e"
             ],
             [
              0.4444444444444444,
              "#bd3786"
             ],
             [
              0.5555555555555556,
              "#d8576b"
             ],
             [
              0.6666666666666666,
              "#ed7953"
             ],
             [
              0.7777777777777778,
              "#fb9f3a"
             ],
             [
              0.8888888888888888,
              "#fdca26"
             ],
             [
              1,
              "#f0f921"
             ]
            ],
            "type": "histogram2d"
           }
          ],
          "histogram2dcontour": [
           {
            "colorbar": {
             "outlinewidth": 0,
             "ticks": ""
            },
            "colorscale": [
             [
              0,
              "#0d0887"
             ],
             [
              0.1111111111111111,
              "#46039f"
             ],
             [
              0.2222222222222222,
              "#7201a8"
             ],
             [
              0.3333333333333333,
              "#9c179e"
             ],
             [
              0.4444444444444444,
              "#bd3786"
             ],
             [
              0.5555555555555556,
              "#d8576b"
             ],
             [
              0.6666666666666666,
              "#ed7953"
             ],
             [
              0.7777777777777778,
              "#fb9f3a"
             ],
             [
              0.8888888888888888,
              "#fdca26"
             ],
             [
              1,
              "#f0f921"
             ]
            ],
            "type": "histogram2dcontour"
           }
          ],
          "mesh3d": [
           {
            "colorbar": {
             "outlinewidth": 0,
             "ticks": ""
            },
            "type": "mesh3d"
           }
          ],
          "parcoords": [
           {
            "line": {
             "colorbar": {
              "outlinewidth": 0,
              "ticks": ""
             }
            },
            "type": "parcoords"
           }
          ],
          "pie": [
           {
            "automargin": true,
            "type": "pie"
           }
          ],
          "scatter": [
           {
            "fillpattern": {
             "fillmode": "overlay",
             "size": 10,
             "solidity": 0.2
            },
            "type": "scatter"
           }
          ],
          "scatter3d": [
           {
            "line": {
             "colorbar": {
              "outlinewidth": 0,
              "ticks": ""
             }
            },
            "marker": {
             "colorbar": {
              "outlinewidth": 0,
              "ticks": ""
             }
            },
            "type": "scatter3d"
           }
          ],
          "scattercarpet": [
           {
            "marker": {
             "colorbar": {
              "outlinewidth": 0,
              "ticks": ""
             }
            },
            "type": "scattercarpet"
           }
          ],
          "scattergeo": [
           {
            "marker": {
             "colorbar": {
              "outlinewidth": 0,
              "ticks": ""
             }
            },
            "type": "scattergeo"
           }
          ],
          "scattergl": [
           {
            "marker": {
             "colorbar": {
              "outlinewidth": 0,
              "ticks": ""
             }
            },
            "type": "scattergl"
           }
          ],
          "scattermap": [
           {
            "marker": {
             "colorbar": {
              "outlinewidth": 0,
              "ticks": ""
             }
            },
            "type": "scattermap"
           }
          ],
          "scattermapbox": [
           {
            "marker": {
             "colorbar": {
              "outlinewidth": 0,
              "ticks": ""
             }
            },
            "type": "scattermapbox"
           }
          ],
          "scatterpolar": [
           {
            "marker": {
             "colorbar": {
              "outlinewidth": 0,
              "ticks": ""
             }
            },
            "type": "scatterpolar"
           }
          ],
          "scatterpolargl": [
           {
            "marker": {
             "colorbar": {
              "outlinewidth": 0,
              "ticks": ""
             }
            },
            "type": "scatterpolargl"
           }
          ],
          "scatterternary": [
           {
            "marker": {
             "colorbar": {
              "outlinewidth": 0,
              "ticks": ""
             }
            },
            "type": "scatterternary"
           }
          ],
          "surface": [
           {
            "colorbar": {
             "outlinewidth": 0,
             "ticks": ""
            },
            "colorscale": [
             [
              0,
              "#0d0887"
             ],
             [
              0.1111111111111111,
              "#46039f"
             ],
             [
              0.2222222222222222,
              "#7201a8"
             ],
             [
              0.3333333333333333,
              "#9c179e"
             ],
             [
              0.4444444444444444,
              "#bd3786"
             ],
             [
              0.5555555555555556,
              "#d8576b"
             ],
             [
              0.6666666666666666,
              "#ed7953"
             ],
             [
              0.7777777777777778,
              "#fb9f3a"
             ],
             [
              0.8888888888888888,
              "#fdca26"
             ],
             [
              1,
              "#f0f921"
             ]
            ],
            "type": "surface"
           }
          ],
          "table": [
           {
            "cells": {
             "fill": {
              "color": "#EBF0F8"
             },
             "line": {
              "color": "white"
             }
            },
            "header": {
             "fill": {
              "color": "#C8D4E3"
             },
             "line": {
              "color": "white"
             }
            },
            "type": "table"
           }
          ]
         },
         "layout": {
          "annotationdefaults": {
           "arrowcolor": "#2a3f5f",
           "arrowhead": 0,
           "arrowwidth": 1
          },
          "autotypenumbers": "strict",
          "coloraxis": {
           "colorbar": {
            "outlinewidth": 0,
            "ticks": ""
           }
          },
          "colorscale": {
           "diverging": [
            [
             0,
             "#8e0152"
            ],
            [
             0.1,
             "#c51b7d"
            ],
            [
             0.2,
             "#de77ae"
            ],
            [
             0.3,
             "#f1b6da"
            ],
            [
             0.4,
             "#fde0ef"
            ],
            [
             0.5,
             "#f7f7f7"
            ],
            [
             0.6,
             "#e6f5d0"
            ],
            [
             0.7,
             "#b8e186"
            ],
            [
             0.8,
             "#7fbc41"
            ],
            [
             0.9,
             "#4d9221"
            ],
            [
             1,
             "#276419"
            ]
           ],
           "sequential": [
            [
             0,
             "#0d0887"
            ],
            [
             0.1111111111111111,
             "#46039f"
            ],
            [
             0.2222222222222222,
             "#7201a8"
            ],
            [
             0.3333333333333333,
             "#9c179e"
            ],
            [
             0.4444444444444444,
             "#bd3786"
            ],
            [
             0.5555555555555556,
             "#d8576b"
            ],
            [
             0.6666666666666666,
             "#ed7953"
            ],
            [
             0.7777777777777778,
             "#fb9f3a"
            ],
            [
             0.8888888888888888,
             "#fdca26"
            ],
            [
             1,
             "#f0f921"
            ]
           ],
           "sequentialminus": [
            [
             0,
             "#0d0887"
            ],
            [
             0.1111111111111111,
             "#46039f"
            ],
            [
             0.2222222222222222,
             "#7201a8"
            ],
            [
             0.3333333333333333,
             "#9c179e"
            ],
            [
             0.4444444444444444,
             "#bd3786"
            ],
            [
             0.5555555555555556,
             "#d8576b"
            ],
            [
             0.6666666666666666,
             "#ed7953"
            ],
            [
             0.7777777777777778,
             "#fb9f3a"
            ],
            [
             0.8888888888888888,
             "#fdca26"
            ],
            [
             1,
             "#f0f921"
            ]
           ]
          },
          "colorway": [
           "#636efa",
           "#EF553B",
           "#00cc96",
           "#ab63fa",
           "#FFA15A",
           "#19d3f3",
           "#FF6692",
           "#B6E880",
           "#FF97FF",
           "#FECB52"
          ],
          "font": {
           "color": "#2a3f5f"
          },
          "geo": {
           "bgcolor": "white",
           "lakecolor": "white",
           "landcolor": "white",
           "showlakes": true,
           "showland": true,
           "subunitcolor": "#C8D4E3"
          },
          "hoverlabel": {
           "align": "left"
          },
          "hovermode": "closest",
          "mapbox": {
           "style": "light"
          },
          "paper_bgcolor": "white",
          "plot_bgcolor": "white",
          "polar": {
           "angularaxis": {
            "gridcolor": "#EBF0F8",
            "linecolor": "#EBF0F8",
            "ticks": ""
           },
           "bgcolor": "white",
           "radialaxis": {
            "gridcolor": "#EBF0F8",
            "linecolor": "#EBF0F8",
            "ticks": ""
           }
          },
          "scene": {
           "xaxis": {
            "backgroundcolor": "white",
            "gridcolor": "#DFE8F3",
            "gridwidth": 2,
            "linecolor": "#EBF0F8",
            "showbackground": true,
            "ticks": "",
            "zerolinecolor": "#EBF0F8"
           },
           "yaxis": {
            "backgroundcolor": "white",
            "gridcolor": "#DFE8F3",
            "gridwidth": 2,
            "linecolor": "#EBF0F8",
            "showbackground": true,
            "ticks": "",
            "zerolinecolor": "#EBF0F8"
           },
           "zaxis": {
            "backgroundcolor": "white",
            "gridcolor": "#DFE8F3",
            "gridwidth": 2,
            "linecolor": "#EBF0F8",
            "showbackground": true,
            "ticks": "",
            "zerolinecolor": "#EBF0F8"
           }
          },
          "shapedefaults": {
           "line": {
            "color": "#2a3f5f"
           }
          },
          "ternary": {
           "aaxis": {
            "gridcolor": "#DFE8F3",
            "linecolor": "#A2B1C6",
            "ticks": ""
           },
           "baxis": {
            "gridcolor": "#DFE8F3",
            "linecolor": "#A2B1C6",
            "ticks": ""
           },
           "bgcolor": "white",
           "caxis": {
            "gridcolor": "#DFE8F3",
            "linecolor": "#A2B1C6",
            "ticks": ""
           }
          },
          "title": {
           "x": 0.05
          },
          "xaxis": {
           "automargin": true,
           "gridcolor": "#EBF0F8",
           "linecolor": "#EBF0F8",
           "ticks": "",
           "title": {
            "standoff": 15
           },
           "zerolinecolor": "#EBF0F8",
           "zerolinewidth": 2
          },
          "yaxis": {
           "automargin": true,
           "gridcolor": "#EBF0F8",
           "linecolor": "#EBF0F8",
           "ticks": "",
           "title": {
            "standoff": 15
           },
           "zerolinecolor": "#EBF0F8",
           "zerolinewidth": 2
          }
         }
        },
        "title": {
         "text": "How Payment History Affects Loan Recovery Status"
        },
        "xaxis": {
         "anchor": "y",
         "domain": [
          0,
          1
         ],
         "title": {
          "text": "Payment History"
         }
        },
        "yaxis": {
         "anchor": "x",
         "domain": [
          0,
          1
         ],
         "title": {
          "text": "Number of Loans"
         }
        }
       }
      }
     },
     "metadata": {},
     "output_type": "display_data"
    }
   ],
   "source": [
    "fig = px.histogram(df, x=\"Payment_History\", color=\"Recovery_Status\", barmode=\"group\",\n",
    "                   title=\"How Payment History Affects Loan Recovery Status\",\n",
    "                   labels={\"Payment_History\": \"Payment History\", \"count\": \"Number of Loans\"},\n",
    "                   color_discrete_map={\"Recovered\": \"green\", \"Not Recovered\": \"red\"})\n",
    "\n",
    "fig.update_layout(\n",
    "    xaxis_title=\"Payment History\",\n",
    "    yaxis_title=\"Number of Loans\",\n",
    "    legend_title=\"Recovery Status\",\n",
    "    template=\"plotly_white\",\n",
    "        )\n",
    "\n",
    "fig.show()"
   ]
  },
  {
   "cell_type": "markdown",
   "id": "2d352dc9",
   "metadata": {},
   "source": [
    "## **Let’s dive into missed payments in detail by analyzing how missed payments affect loan recovery:**"
   ]
  },
  {
   "cell_type": "code",
   "execution_count": 6,
   "id": "cfa9c45b",
   "metadata": {},
   "outputs": [
    {
     "data": {
      "application/vnd.plotly.v1+json": {
       "config": {
        "plotlyServerURL": "https://plot.ly"
       },
       "data": [
        {
         "alignmentgroup": "True",
         "boxpoints": "all",
         "hovertemplate": "Recovery Status=%{x}<br>Number of Missed Payments=%{y}<extra></extra>",
         "legendgroup": "Partially Recovered",
         "marker": {
          "color": "#00cc96"
         },
         "name": "Partially Recovered",
         "notched": false,
         "offsetgroup": "Partially Recovered",
         "orientation": "v",
         "showlegend": true,
         "type": "box",
         "x": [
          "Partially Recovered",
          "Partially Recovered",
          "Partially Recovered",
          "Partially Recovered",
          "Partially Recovered",
          "Partially Recovered",
          "Partially Recovered",
          "Partially Recovered",
          "Partially Recovered",
          "Partially Recovered",
          "Partially Recovered",
          "Partially Recovered",
          "Partially Recovered",
          "Partially Recovered",
          "Partially Recovered",
          "Partially Recovered",
          "Partially Recovered",
          "Partially Recovered",
          "Partially Recovered",
          "Partially Recovered",
          "Partially Recovered",
          "Partially Recovered",
          "Partially Recovered",
          "Partially Recovered",
          "Partially Recovered",
          "Partially Recovered",
          "Partially Recovered",
          "Partially Recovered",
          "Partially Recovered",
          "Partially Recovered",
          "Partially Recovered",
          "Partially Recovered",
          "Partially Recovered",
          "Partially Recovered",
          "Partially Recovered",
          "Partially Recovered",
          "Partially Recovered",
          "Partially Recovered",
          "Partially Recovered",
          "Partially Recovered",
          "Partially Recovered",
          "Partially Recovered",
          "Partially Recovered",
          "Partially Recovered",
          "Partially Recovered",
          "Partially Recovered",
          "Partially Recovered",
          "Partially Recovered",
          "Partially Recovered",
          "Partially Recovered",
          "Partially Recovered",
          "Partially Recovered",
          "Partially Recovered",
          "Partially Recovered",
          "Partially Recovered",
          "Partially Recovered",
          "Partially Recovered",
          "Partially Recovered",
          "Partially Recovered",
          "Partially Recovered",
          "Partially Recovered",
          "Partially Recovered",
          "Partially Recovered",
          "Partially Recovered",
          "Partially Recovered",
          "Partially Recovered",
          "Partially Recovered",
          "Partially Recovered",
          "Partially Recovered",
          "Partially Recovered",
          "Partially Recovered",
          "Partially Recovered",
          "Partially Recovered",
          "Partially Recovered",
          "Partially Recovered",
          "Partially Recovered",
          "Partially Recovered",
          "Partially Recovered",
          "Partially Recovered",
          "Partially Recovered",
          "Partially Recovered",
          "Partially Recovered",
          "Partially Recovered",
          "Partially Recovered",
          "Partially Recovered",
          "Partially Recovered",
          "Partially Recovered",
          "Partially Recovered",
          "Partially Recovered",
          "Partially Recovered",
          "Partially Recovered",
          "Partially Recovered",
          "Partially Recovered",
          "Partially Recovered",
          "Partially Recovered",
          "Partially Recovered",
          "Partially Recovered",
          "Partially Recovered",
          "Partially Recovered",
          "Partially Recovered",
          "Partially Recovered",
          "Partially Recovered",
          "Partially Recovered",
          "Partially Recovered",
          "Partially Recovered",
          "Partially Recovered",
          "Partially Recovered",
          "Partially Recovered",
          "Partially Recovered",
          "Partially Recovered",
          "Partially Recovered",
          "Partially Recovered",
          "Partially Recovered",
          "Partially Recovered",
          "Partially Recovered",
          "Partially Recovered",
          "Partially Recovered",
          "Partially Recovered",
          "Partially Recovered",
          "Partially Recovered",
          "Partially Recovered",
          "Partially Recovered",
          "Partially Recovered",
          "Partially Recovered",
          "Partially Recovered",
          "Partially Recovered",
          "Partially Recovered",
          "Partially Recovered",
          "Partially Recovered",
          "Partially Recovered",
          "Partially Recovered",
          "Partially Recovered",
          "Partially Recovered",
          "Partially Recovered",
          "Partially Recovered",
          "Partially Recovered",
          "Partially Recovered",
          "Partially Recovered",
          "Partially Recovered",
          "Partially Recovered",
          "Partially Recovered",
          "Partially Recovered",
          "Partially Recovered",
          "Partially Recovered",
          "Partially Recovered",
          "Partially Recovered",
          "Partially Recovered",
          "Partially Recovered",
          "Partially Recovered",
          "Partially Recovered",
          "Partially Recovered",
          "Partially Recovered",
          "Partially Recovered",
          "Partially Recovered"
         ],
         "x0": " ",
         "xaxis": "x",
         "y": {
          "bdata": "AAEAAAIAAgIAAwIBAAAAAwICAgECAAABAgMAAwgCAAMAAgIAAgADAQIAAAAAAQIBAQgBAQAKAAACAQEBAgABAwMAAAMAAAEDAAIDAgIBAwABAQMAAAACAQMAAQEDAgICAAMCBAECAgICAAILAAECAwACAgEAAgEDAQMAAwEBAAkDAwEBAwwDAwMBAwIBAwEAAgMBAQMDAwACAw==",
          "dtype": "i1"
         },
         "y0": " ",
         "yaxis": "y"
        },
        {
         "alignmentgroup": "True",
         "boxpoints": "all",
         "hovertemplate": "Recovery Status=%{x}<br>Number of Missed Payments=%{y}<extra></extra>",
         "legendgroup": "Fully Recovered",
         "marker": {
          "color": "#ab63fa"
         },
         "name": "Fully Recovered",
         "notched": false,
         "offsetgroup": "Fully Recovered",
         "orientation": "v",
         "showlegend": true,
         "type": "box",
         "x": [
          "Fully Recovered",
          "Fully Recovered",
          "Fully Recovered",
          "Fully Recovered",
          "Fully Recovered",
          "Fully Recovered",
          "Fully Recovered",
          "Fully Recovered",
          "Fully Recovered",
          "Fully Recovered",
          "Fully Recovered",
          "Fully Recovered",
          "Fully Recovered",
          "Fully Recovered",
          "Fully Recovered",
          "Fully Recovered",
          "Fully Recovered",
          "Fully Recovered",
          "Fully Recovered",
          "Fully Recovered",
          "Fully Recovered",
          "Fully Recovered",
          "Fully Recovered",
          "Fully Recovered",
          "Fully Recovered",
          "Fully Recovered",
          "Fully Recovered",
          "Fully Recovered",
          "Fully Recovered",
          "Fully Recovered",
          "Fully Recovered",
          "Fully Recovered",
          "Fully Recovered",
          "Fully Recovered",
          "Fully Recovered",
          "Fully Recovered",
          "Fully Recovered",
          "Fully Recovered",
          "Fully Recovered",
          "Fully Recovered",
          "Fully Recovered",
          "Fully Recovered",
          "Fully Recovered",
          "Fully Recovered",
          "Fully Recovered",
          "Fully Recovered",
          "Fully Recovered",
          "Fully Recovered",
          "Fully Recovered",
          "Fully Recovered",
          "Fully Recovered",
          "Fully Recovered",
          "Fully Recovered",
          "Fully Recovered",
          "Fully Recovered",
          "Fully Recovered",
          "Fully Recovered",
          "Fully Recovered",
          "Fully Recovered",
          "Fully Recovered",
          "Fully Recovered",
          "Fully Recovered",
          "Fully Recovered",
          "Fully Recovered",
          "Fully Recovered",
          "Fully Recovered",
          "Fully Recovered",
          "Fully Recovered",
          "Fully Recovered",
          "Fully Recovered",
          "Fully Recovered",
          "Fully Recovered",
          "Fully Recovered",
          "Fully Recovered",
          "Fully Recovered",
          "Fully Recovered",
          "Fully Recovered",
          "Fully Recovered",
          "Fully Recovered",
          "Fully Recovered",
          "Fully Recovered",
          "Fully Recovered",
          "Fully Recovered",
          "Fully Recovered",
          "Fully Recovered",
          "Fully Recovered",
          "Fully Recovered",
          "Fully Recovered",
          "Fully Recovered",
          "Fully Recovered",
          "Fully Recovered",
          "Fully Recovered",
          "Fully Recovered",
          "Fully Recovered",
          "Fully Recovered",
          "Fully Recovered",
          "Fully Recovered",
          "Fully Recovered",
          "Fully Recovered",
          "Fully Recovered",
          "Fully Recovered",
          "Fully Recovered",
          "Fully Recovered",
          "Fully Recovered",
          "Fully Recovered",
          "Fully Recovered",
          "Fully Recovered",
          "Fully Recovered",
          "Fully Recovered",
          "Fully Recovered",
          "Fully Recovered",
          "Fully Recovered",
          "Fully Recovered",
          "Fully Recovered",
          "Fully Recovered",
          "Fully Recovered",
          "Fully Recovered",
          "Fully Recovered",
          "Fully Recovered",
          "Fully Recovered",
          "Fully Recovered",
          "Fully Recovered",
          "Fully Recovered",
          "Fully Recovered",
          "Fully Recovered",
          "Fully Recovered",
          "Fully Recovered",
          "Fully Recovered",
          "Fully Recovered",
          "Fully Recovered",
          "Fully Recovered",
          "Fully Recovered",
          "Fully Recovered",
          "Fully Recovered",
          "Fully Recovered",
          "Fully Recovered",
          "Fully Recovered",
          "Fully Recovered",
          "Fully Recovered",
          "Fully Recovered",
          "Fully Recovered",
          "Fully Recovered",
          "Fully Recovered",
          "Fully Recovered",
          "Fully Recovered",
          "Fully Recovered",
          "Fully Recovered",
          "Fully Recovered",
          "Fully Recovered",
          "Fully Recovered",
          "Fully Recovered",
          "Fully Recovered",
          "Fully Recovered",
          "Fully Recovered",
          "Fully Recovered",
          "Fully Recovered",
          "Fully Recovered",
          "Fully Recovered",
          "Fully Recovered",
          "Fully Recovered",
          "Fully Recovered",
          "Fully Recovered",
          "Fully Recovered",
          "Fully Recovered",
          "Fully Recovered",
          "Fully Recovered",
          "Fully Recovered",
          "Fully Recovered",
          "Fully Recovered",
          "Fully Recovered",
          "Fully Recovered",
          "Fully Recovered",
          "Fully Recovered",
          "Fully Recovered",
          "Fully Recovered",
          "Fully Recovered",
          "Fully Recovered",
          "Fully Recovered",
          "Fully Recovered",
          "Fully Recovered",
          "Fully Recovered",
          "Fully Recovered",
          "Fully Recovered",
          "Fully Recovered",
          "Fully Recovered",
          "Fully Recovered",
          "Fully Recovered",
          "Fully Recovered",
          "Fully Recovered",
          "Fully Recovered",
          "Fully Recovered",
          "Fully Recovered",
          "Fully Recovered",
          "Fully Recovered",
          "Fully Recovered",
          "Fully Recovered",
          "Fully Recovered",
          "Fully Recovered",
          "Fully Recovered",
          "Fully Recovered",
          "Fully Recovered",
          "Fully Recovered",
          "Fully Recovered",
          "Fully Recovered",
          "Fully Recovered",
          "Fully Recovered",
          "Fully Recovered",
          "Fully Recovered",
          "Fully Recovered",
          "Fully Recovered",
          "Fully Recovered",
          "Fully Recovered",
          "Fully Recovered",
          "Fully Recovered",
          "Fully Recovered",
          "Fully Recovered",
          "Fully Recovered",
          "Fully Recovered",
          "Fully Recovered",
          "Fully Recovered",
          "Fully Recovered",
          "Fully Recovered",
          "Fully Recovered",
          "Fully Recovered",
          "Fully Recovered",
          "Fully Recovered",
          "Fully Recovered",
          "Fully Recovered",
          "Fully Recovered",
          "Fully Recovered",
          "Fully Recovered",
          "Fully Recovered",
          "Fully Recovered",
          "Fully Recovered",
          "Fully Recovered",
          "Fully Recovered",
          "Fully Recovered",
          "Fully Recovered",
          "Fully Recovered",
          "Fully Recovered",
          "Fully Recovered",
          "Fully Recovered",
          "Fully Recovered",
          "Fully Recovered",
          "Fully Recovered",
          "Fully Recovered",
          "Fully Recovered",
          "Fully Recovered",
          "Fully Recovered",
          "Fully Recovered",
          "Fully Recovered",
          "Fully Recovered",
          "Fully Recovered",
          "Fully Recovered",
          "Fully Recovered",
          "Fully Recovered",
          "Fully Recovered",
          "Fully Recovered",
          "Fully Recovered",
          "Fully Recovered",
          "Fully Recovered",
          "Fully Recovered",
          "Fully Recovered",
          "Fully Recovered",
          "Fully Recovered",
          "Fully Recovered",
          "Fully Recovered",
          "Fully Recovered",
          "Fully Recovered",
          "Fully Recovered",
          "Fully Recovered",
          "Fully Recovered",
          "Fully Recovered",
          "Fully Recovered",
          "Fully Recovered",
          "Fully Recovered",
          "Fully Recovered",
          "Fully Recovered",
          "Fully Recovered",
          "Fully Recovered",
          "Fully Recovered",
          "Fully Recovered",
          "Fully Recovered",
          "Fully Recovered",
          "Fully Recovered",
          "Fully Recovered",
          "Fully Recovered",
          "Fully Recovered",
          "Fully Recovered",
          "Fully Recovered",
          "Fully Recovered",
          "Fully Recovered",
          "Fully Recovered",
          "Fully Recovered",
          "Fully Recovered",
          "Fully Recovered"
         ],
         "x0": " ",
         "xaxis": "x",
         "y": {
          "bdata": "AAIBAQADAAADAQMBAgALBgIBAQIAAgMAAAILAQIAAQIBAQIAAwMCAQIDAgIBCgMDAwEBAQIDAwIBAgABAQEDAgACAgMBAgEAAQECAQADAAIMAQAAAQMBAgMBCAwBAwIDAQEBAgABAQAAAAIDAwMDAAYCAwMAAwADAwMBAAMACgAAAQYDAQABAwAGBAMCAwMBAQEJAAABAAAJAQADAgIBAQIBAgMAAAMAAAECAgABAgEDAAIAAQIAAAICAQIBAAMEAAICAAICAgACAwEAAgMAAwEBAwADAQEBAAEDAgIAAwIAAAEAAgIDAAMBAwIACAIDAwIDAwMCBgIDAQIAAQIAAwADAwMBDAABAwABAAEMBwIDAwEKBAMEAAICAgIBAQMCAAEGAAMDAgM=",
          "dtype": "i1"
         },
         "y0": " ",
         "yaxis": "y"
        },
        {
         "alignmentgroup": "True",
         "boxpoints": "all",
         "hovertemplate": "Recovery Status=%{x}<br>Number of Missed Payments=%{y}<extra></extra>",
         "legendgroup": "Written Off",
         "marker": {
          "color": "#FFA15A"
         },
         "name": "Written Off",
         "notched": false,
         "offsetgroup": "Written Off",
         "orientation": "v",
         "showlegend": true,
         "type": "box",
         "x": [
          "Written Off",
          "Written Off",
          "Written Off",
          "Written Off",
          "Written Off",
          "Written Off",
          "Written Off",
          "Written Off",
          "Written Off",
          "Written Off",
          "Written Off",
          "Written Off",
          "Written Off",
          "Written Off",
          "Written Off",
          "Written Off",
          "Written Off",
          "Written Off",
          "Written Off",
          "Written Off",
          "Written Off",
          "Written Off",
          "Written Off",
          "Written Off",
          "Written Off",
          "Written Off",
          "Written Off",
          "Written Off",
          "Written Off",
          "Written Off",
          "Written Off",
          "Written Off",
          "Written Off",
          "Written Off",
          "Written Off",
          "Written Off",
          "Written Off",
          "Written Off",
          "Written Off",
          "Written Off",
          "Written Off",
          "Written Off",
          "Written Off",
          "Written Off",
          "Written Off",
          "Written Off",
          "Written Off",
          "Written Off",
          "Written Off",
          "Written Off"
         ],
         "x0": " ",
         "xaxis": "x",
         "y": {
          "bdata": "AQADAQADAwEBAAEAAwMAAwADAwMBAQILAgEAAgECAgADAQEBAwACAQMCAwIBAAEBAwE=",
          "dtype": "i1"
         },
         "y0": " ",
         "yaxis": "y"
        }
       ],
       "layout": {
        "boxmode": "overlay",
        "legend": {
         "title": {
          "text": "Recovery Status"
         },
         "tracegroupgap": 0
        },
        "template": {
         "data": {
          "bar": [
           {
            "error_x": {
             "color": "#2a3f5f"
            },
            "error_y": {
             "color": "#2a3f5f"
            },
            "marker": {
             "line": {
              "color": "white",
              "width": 0.5
             },
             "pattern": {
              "fillmode": "overlay",
              "size": 10,
              "solidity": 0.2
             }
            },
            "type": "bar"
           }
          ],
          "barpolar": [
           {
            "marker": {
             "line": {
              "color": "white",
              "width": 0.5
             },
             "pattern": {
              "fillmode": "overlay",
              "size": 10,
              "solidity": 0.2
             }
            },
            "type": "barpolar"
           }
          ],
          "carpet": [
           {
            "aaxis": {
             "endlinecolor": "#2a3f5f",
             "gridcolor": "#C8D4E3",
             "linecolor": "#C8D4E3",
             "minorgridcolor": "#C8D4E3",
             "startlinecolor": "#2a3f5f"
            },
            "baxis": {
             "endlinecolor": "#2a3f5f",
             "gridcolor": "#C8D4E3",
             "linecolor": "#C8D4E3",
             "minorgridcolor": "#C8D4E3",
             "startlinecolor": "#2a3f5f"
            },
            "type": "carpet"
           }
          ],
          "choropleth": [
           {
            "colorbar": {
             "outlinewidth": 0,
             "ticks": ""
            },
            "type": "choropleth"
           }
          ],
          "contour": [
           {
            "colorbar": {
             "outlinewidth": 0,
             "ticks": ""
            },
            "colorscale": [
             [
              0,
              "#0d0887"
             ],
             [
              0.1111111111111111,
              "#46039f"
             ],
             [
              0.2222222222222222,
              "#7201a8"
             ],
             [
              0.3333333333333333,
              "#9c179e"
             ],
             [
              0.4444444444444444,
              "#bd3786"
             ],
             [
              0.5555555555555556,
              "#d8576b"
             ],
             [
              0.6666666666666666,
              "#ed7953"
             ],
             [
              0.7777777777777778,
              "#fb9f3a"
             ],
             [
              0.8888888888888888,
              "#fdca26"
             ],
             [
              1,
              "#f0f921"
             ]
            ],
            "type": "contour"
           }
          ],
          "contourcarpet": [
           {
            "colorbar": {
             "outlinewidth": 0,
             "ticks": ""
            },
            "type": "contourcarpet"
           }
          ],
          "heatmap": [
           {
            "colorbar": {
             "outlinewidth": 0,
             "ticks": ""
            },
            "colorscale": [
             [
              0,
              "#0d0887"
             ],
             [
              0.1111111111111111,
              "#46039f"
             ],
             [
              0.2222222222222222,
              "#7201a8"
             ],
             [
              0.3333333333333333,
              "#9c179e"
             ],
             [
              0.4444444444444444,
              "#bd3786"
             ],
             [
              0.5555555555555556,
              "#d8576b"
             ],
             [
              0.6666666666666666,
              "#ed7953"
             ],
             [
              0.7777777777777778,
              "#fb9f3a"
             ],
             [
              0.8888888888888888,
              "#fdca26"
             ],
             [
              1,
              "#f0f921"
             ]
            ],
            "type": "heatmap"
           }
          ],
          "histogram": [
           {
            "marker": {
             "pattern": {
              "fillmode": "overlay",
              "size": 10,
              "solidity": 0.2
             }
            },
            "type": "histogram"
           }
          ],
          "histogram2d": [
           {
            "colorbar": {
             "outlinewidth": 0,
             "ticks": ""
            },
            "colorscale": [
             [
              0,
              "#0d0887"
             ],
             [
              0.1111111111111111,
              "#46039f"
             ],
             [
              0.2222222222222222,
              "#7201a8"
             ],
             [
              0.3333333333333333,
              "#9c179e"
             ],
             [
              0.4444444444444444,
              "#bd3786"
             ],
             [
              0.5555555555555556,
              "#d8576b"
             ],
             [
              0.6666666666666666,
              "#ed7953"
             ],
             [
              0.7777777777777778,
              "#fb9f3a"
             ],
             [
              0.8888888888888888,
              "#fdca26"
             ],
             [
              1,
              "#f0f921"
             ]
            ],
            "type": "histogram2d"
           }
          ],
          "histogram2dcontour": [
           {
            "colorbar": {
             "outlinewidth": 0,
             "ticks": ""
            },
            "colorscale": [
             [
              0,
              "#0d0887"
             ],
             [
              0.1111111111111111,
              "#46039f"
             ],
             [
              0.2222222222222222,
              "#7201a8"
             ],
             [
              0.3333333333333333,
              "#9c179e"
             ],
             [
              0.4444444444444444,
              "#bd3786"
             ],
             [
              0.5555555555555556,
              "#d8576b"
             ],
             [
              0.6666666666666666,
              "#ed7953"
             ],
             [
              0.7777777777777778,
              "#fb9f3a"
             ],
             [
              0.8888888888888888,
              "#fdca26"
             ],
             [
              1,
              "#f0f921"
             ]
            ],
            "type": "histogram2dcontour"
           }
          ],
          "mesh3d": [
           {
            "colorbar": {
             "outlinewidth": 0,
             "ticks": ""
            },
            "type": "mesh3d"
           }
          ],
          "parcoords": [
           {
            "line": {
             "colorbar": {
              "outlinewidth": 0,
              "ticks": ""
             }
            },
            "type": "parcoords"
           }
          ],
          "pie": [
           {
            "automargin": true,
            "type": "pie"
           }
          ],
          "scatter": [
           {
            "fillpattern": {
             "fillmode": "overlay",
             "size": 10,
             "solidity": 0.2
            },
            "type": "scatter"
           }
          ],
          "scatter3d": [
           {
            "line": {
             "colorbar": {
              "outlinewidth": 0,
              "ticks": ""
             }
            },
            "marker": {
             "colorbar": {
              "outlinewidth": 0,
              "ticks": ""
             }
            },
            "type": "scatter3d"
           }
          ],
          "scattercarpet": [
           {
            "marker": {
             "colorbar": {
              "outlinewidth": 0,
              "ticks": ""
             }
            },
            "type": "scattercarpet"
           }
          ],
          "scattergeo": [
           {
            "marker": {
             "colorbar": {
              "outlinewidth": 0,
              "ticks": ""
             }
            },
            "type": "scattergeo"
           }
          ],
          "scattergl": [
           {
            "marker": {
             "colorbar": {
              "outlinewidth": 0,
              "ticks": ""
             }
            },
            "type": "scattergl"
           }
          ],
          "scattermap": [
           {
            "marker": {
             "colorbar": {
              "outlinewidth": 0,
              "ticks": ""
             }
            },
            "type": "scattermap"
           }
          ],
          "scattermapbox": [
           {
            "marker": {
             "colorbar": {
              "outlinewidth": 0,
              "ticks": ""
             }
            },
            "type": "scattermapbox"
           }
          ],
          "scatterpolar": [
           {
            "marker": {
             "colorbar": {
              "outlinewidth": 0,
              "ticks": ""
             }
            },
            "type": "scatterpolar"
           }
          ],
          "scatterpolargl": [
           {
            "marker": {
             "colorbar": {
              "outlinewidth": 0,
              "ticks": ""
             }
            },
            "type": "scatterpolargl"
           }
          ],
          "scatterternary": [
           {
            "marker": {
             "colorbar": {
              "outlinewidth": 0,
              "ticks": ""
             }
            },
            "type": "scatterternary"
           }
          ],
          "surface": [
           {
            "colorbar": {
             "outlinewidth": 0,
             "ticks": ""
            },
            "colorscale": [
             [
              0,
              "#0d0887"
             ],
             [
              0.1111111111111111,
              "#46039f"
             ],
             [
              0.2222222222222222,
              "#7201a8"
             ],
             [
              0.3333333333333333,
              "#9c179e"
             ],
             [
              0.4444444444444444,
              "#bd3786"
             ],
             [
              0.5555555555555556,
              "#d8576b"
             ],
             [
              0.6666666666666666,
              "#ed7953"
             ],
             [
              0.7777777777777778,
              "#fb9f3a"
             ],
             [
              0.8888888888888888,
              "#fdca26"
             ],
             [
              1,
              "#f0f921"
             ]
            ],
            "type": "surface"
           }
          ],
          "table": [
           {
            "cells": {
             "fill": {
              "color": "#EBF0F8"
             },
             "line": {
              "color": "white"
             }
            },
            "header": {
             "fill": {
              "color": "#C8D4E3"
             },
             "line": {
              "color": "white"
             }
            },
            "type": "table"
           }
          ]
         },
         "layout": {
          "annotationdefaults": {
           "arrowcolor": "#2a3f5f",
           "arrowhead": 0,
           "arrowwidth": 1
          },
          "autotypenumbers": "strict",
          "coloraxis": {
           "colorbar": {
            "outlinewidth": 0,
            "ticks": ""
           }
          },
          "colorscale": {
           "diverging": [
            [
             0,
             "#8e0152"
            ],
            [
             0.1,
             "#c51b7d"
            ],
            [
             0.2,
             "#de77ae"
            ],
            [
             0.3,
             "#f1b6da"
            ],
            [
             0.4,
             "#fde0ef"
            ],
            [
             0.5,
             "#f7f7f7"
            ],
            [
             0.6,
             "#e6f5d0"
            ],
            [
             0.7,
             "#b8e186"
            ],
            [
             0.8,
             "#7fbc41"
            ],
            [
             0.9,
             "#4d9221"
            ],
            [
             1,
             "#276419"
            ]
           ],
           "sequential": [
            [
             0,
             "#0d0887"
            ],
            [
             0.1111111111111111,
             "#46039f"
            ],
            [
             0.2222222222222222,
             "#7201a8"
            ],
            [
             0.3333333333333333,
             "#9c179e"
            ],
            [
             0.4444444444444444,
             "#bd3786"
            ],
            [
             0.5555555555555556,
             "#d8576b"
            ],
            [
             0.6666666666666666,
             "#ed7953"
            ],
            [
             0.7777777777777778,
             "#fb9f3a"
            ],
            [
             0.8888888888888888,
             "#fdca26"
            ],
            [
             1,
             "#f0f921"
            ]
           ],
           "sequentialminus": [
            [
             0,
             "#0d0887"
            ],
            [
             0.1111111111111111,
             "#46039f"
            ],
            [
             0.2222222222222222,
             "#7201a8"
            ],
            [
             0.3333333333333333,
             "#9c179e"
            ],
            [
             0.4444444444444444,
             "#bd3786"
            ],
            [
             0.5555555555555556,
             "#d8576b"
            ],
            [
             0.6666666666666666,
             "#ed7953"
            ],
            [
             0.7777777777777778,
             "#fb9f3a"
            ],
            [
             0.8888888888888888,
             "#fdca26"
            ],
            [
             1,
             "#f0f921"
            ]
           ]
          },
          "colorway": [
           "#636efa",
           "#EF553B",
           "#00cc96",
           "#ab63fa",
           "#FFA15A",
           "#19d3f3",
           "#FF6692",
           "#B6E880",
           "#FF97FF",
           "#FECB52"
          ],
          "font": {
           "color": "#2a3f5f"
          },
          "geo": {
           "bgcolor": "white",
           "lakecolor": "white",
           "landcolor": "white",
           "showlakes": true,
           "showland": true,
           "subunitcolor": "#C8D4E3"
          },
          "hoverlabel": {
           "align": "left"
          },
          "hovermode": "closest",
          "mapbox": {
           "style": "light"
          },
          "paper_bgcolor": "white",
          "plot_bgcolor": "white",
          "polar": {
           "angularaxis": {
            "gridcolor": "#EBF0F8",
            "linecolor": "#EBF0F8",
            "ticks": ""
           },
           "bgcolor": "white",
           "radialaxis": {
            "gridcolor": "#EBF0F8",
            "linecolor": "#EBF0F8",
            "ticks": ""
           }
          },
          "scene": {
           "xaxis": {
            "backgroundcolor": "white",
            "gridcolor": "#DFE8F3",
            "gridwidth": 2,
            "linecolor": "#EBF0F8",
            "showbackground": true,
            "ticks": "",
            "zerolinecolor": "#EBF0F8"
           },
           "yaxis": {
            "backgroundcolor": "white",
            "gridcolor": "#DFE8F3",
            "gridwidth": 2,
            "linecolor": "#EBF0F8",
            "showbackground": true,
            "ticks": "",
            "zerolinecolor": "#EBF0F8"
           },
           "zaxis": {
            "backgroundcolor": "white",
            "gridcolor": "#DFE8F3",
            "gridwidth": 2,
            "linecolor": "#EBF0F8",
            "showbackground": true,
            "ticks": "",
            "zerolinecolor": "#EBF0F8"
           }
          },
          "shapedefaults": {
           "line": {
            "color": "#2a3f5f"
           }
          },
          "ternary": {
           "aaxis": {
            "gridcolor": "#DFE8F3",
            "linecolor": "#A2B1C6",
            "ticks": ""
           },
           "baxis": {
            "gridcolor": "#DFE8F3",
            "linecolor": "#A2B1C6",
            "ticks": ""
           },
           "bgcolor": "white",
           "caxis": {
            "gridcolor": "#DFE8F3",
            "linecolor": "#A2B1C6",
            "ticks": ""
           }
          },
          "title": {
           "x": 0.05
          },
          "xaxis": {
           "automargin": true,
           "gridcolor": "#EBF0F8",
           "linecolor": "#EBF0F8",
           "ticks": "",
           "title": {
            "standoff": 15
           },
           "zerolinecolor": "#EBF0F8",
           "zerolinewidth": 2
          },
          "yaxis": {
           "automargin": true,
           "gridcolor": "#EBF0F8",
           "linecolor": "#EBF0F8",
           "ticks": "",
           "title": {
            "standoff": 15
           },
           "zerolinecolor": "#EBF0F8",
           "zerolinewidth": 2
          }
         }
        },
        "title": {
         "text": "How Missed Payments Affect Loan Recovery Status"
        },
        "xaxis": {
         "anchor": "y",
         "categoryarray": [
          "Partially Recovered",
          "Fully Recovered",
          "Written Off"
         ],
         "categoryorder": "array",
         "domain": [
          0,
          1
         ],
         "title": {
          "text": "Recovery Status"
         }
        },
        "yaxis": {
         "anchor": "x",
         "domain": [
          0,
          1
         ],
         "title": {
          "text": "Number of Missed Payments"
         }
        }
       }
      }
     },
     "metadata": {},
     "output_type": "display_data"
    }
   ],
   "source": [
    "fig = px.box(df, x=\"Recovery_Status\", y=\"Num_Missed_Payments\",\n",
    "             title=\"How Missed Payments Affect Loan Recovery Status\",\n",
    "             labels={\"Recovery_Status\": \"Recovery Status\", \"Num_Missed_Payments\": \"Number of Missed Payments\"},\n",
    "             color=\"Recovery_Status\",\n",
    "             color_discrete_map={\"Recovered\": \"green\", \"Not Recovered\": \"red\"},\n",
    "             points=\"all\")\n",
    "\n",
    "fig.update_layout(\n",
    "    xaxis_title=\"Recovery Status\",\n",
    "    yaxis_title=\"Number of Missed Payments\",\n",
    "    template=\"plotly_white\"\n",
    ")\n",
    "\n",
    "fig.show()"
   ]
  },
  {
   "cell_type": "markdown",
   "id": "c138d8f6",
   "metadata": {},
   "source": [
    "## **Now, let’s dive deep into the relationship between monthly income and loan amount recovery. I’ll first analyze how monthly income and loan amount affect the loan recovery:**"
   ]
  },
  {
   "cell_type": "code",
   "execution_count": 7,
   "id": "861730fb",
   "metadata": {},
   "outputs": [
    {
     "data": {
      "application/vnd.plotly.v1+json": {
       "config": {
        "plotlyServerURL": "https://plot.ly"
       },
       "data": [
        {
         "customdata": [
          [
           "Partially Recovered"
          ],
          [
           "Partially Recovered"
          ],
          [
           "Partially Recovered"
          ],
          [
           "Partially Recovered"
          ],
          [
           "Partially Recovered"
          ],
          [
           "Partially Recovered"
          ],
          [
           "Partially Recovered"
          ],
          [
           "Partially Recovered"
          ],
          [
           "Partially Recovered"
          ],
          [
           "Partially Recovered"
          ],
          [
           "Partially Recovered"
          ],
          [
           "Partially Recovered"
          ],
          [
           "Partially Recovered"
          ],
          [
           "Partially Recovered"
          ],
          [
           "Partially Recovered"
          ],
          [
           "Partially Recovered"
          ],
          [
           "Partially Recovered"
          ],
          [
           "Partially Recovered"
          ],
          [
           "Partially Recovered"
          ],
          [
           "Partially Recovered"
          ],
          [
           "Partially Recovered"
          ],
          [
           "Partially Recovered"
          ],
          [
           "Partially Recovered"
          ],
          [
           "Partially Recovered"
          ],
          [
           "Partially Recovered"
          ],
          [
           "Partially Recovered"
          ],
          [
           "Partially Recovered"
          ],
          [
           "Partially Recovered"
          ],
          [
           "Partially Recovered"
          ],
          [
           "Partially Recovered"
          ],
          [
           "Partially Recovered"
          ],
          [
           "Partially Recovered"
          ],
          [
           "Partially Recovered"
          ],
          [
           "Partially Recovered"
          ],
          [
           "Partially Recovered"
          ],
          [
           "Partially Recovered"
          ],
          [
           "Partially Recovered"
          ],
          [
           "Partially Recovered"
          ],
          [
           "Partially Recovered"
          ],
          [
           "Partially Recovered"
          ],
          [
           "Partially Recovered"
          ],
          [
           "Partially Recovered"
          ],
          [
           "Partially Recovered"
          ],
          [
           "Partially Recovered"
          ],
          [
           "Partially Recovered"
          ],
          [
           "Partially Recovered"
          ],
          [
           "Partially Recovered"
          ],
          [
           "Partially Recovered"
          ],
          [
           "Partially Recovered"
          ],
          [
           "Partially Recovered"
          ],
          [
           "Partially Recovered"
          ],
          [
           "Partially Recovered"
          ],
          [
           "Partially Recovered"
          ],
          [
           "Partially Recovered"
          ],
          [
           "Partially Recovered"
          ],
          [
           "Partially Recovered"
          ],
          [
           "Partially Recovered"
          ],
          [
           "Partially Recovered"
          ],
          [
           "Partially Recovered"
          ],
          [
           "Partially Recovered"
          ],
          [
           "Partially Recovered"
          ],
          [
           "Partially Recovered"
          ],
          [
           "Partially Recovered"
          ],
          [
           "Partially Recovered"
          ],
          [
           "Partially Recovered"
          ],
          [
           "Partially Recovered"
          ],
          [
           "Partially Recovered"
          ],
          [
           "Partially Recovered"
          ],
          [
           "Partially Recovered"
          ],
          [
           "Partially Recovered"
          ],
          [
           "Partially Recovered"
          ],
          [
           "Partially Recovered"
          ],
          [
           "Partially Recovered"
          ],
          [
           "Partially Recovered"
          ],
          [
           "Partially Recovered"
          ],
          [
           "Partially Recovered"
          ],
          [
           "Partially Recovered"
          ],
          [
           "Partially Recovered"
          ],
          [
           "Partially Recovered"
          ],
          [
           "Partially Recovered"
          ],
          [
           "Partially Recovered"
          ],
          [
           "Partially Recovered"
          ],
          [
           "Partially Recovered"
          ],
          [
           "Partially Recovered"
          ],
          [
           "Partially Recovered"
          ],
          [
           "Partially Recovered"
          ],
          [
           "Partially Recovered"
          ],
          [
           "Partially Recovered"
          ],
          [
           "Partially Recovered"
          ],
          [
           "Partially Recovered"
          ],
          [
           "Partially Recovered"
          ],
          [
           "Partially Recovered"
          ],
          [
           "Partially Recovered"
          ],
          [
           "Partially Recovered"
          ],
          [
           "Partially Recovered"
          ],
          [
           "Partially Recovered"
          ],
          [
           "Partially Recovered"
          ],
          [
           "Partially Recovered"
          ],
          [
           "Partially Recovered"
          ],
          [
           "Partially Recovered"
          ],
          [
           "Partially Recovered"
          ],
          [
           "Partially Recovered"
          ],
          [
           "Partially Recovered"
          ],
          [
           "Partially Recovered"
          ],
          [
           "Partially Recovered"
          ],
          [
           "Partially Recovered"
          ],
          [
           "Partially Recovered"
          ],
          [
           "Partially Recovered"
          ],
          [
           "Partially Recovered"
          ],
          [
           "Partially Recovered"
          ],
          [
           "Partially Recovered"
          ],
          [
           "Partially Recovered"
          ],
          [
           "Partially Recovered"
          ],
          [
           "Partially Recovered"
          ],
          [
           "Partially Recovered"
          ],
          [
           "Partially Recovered"
          ],
          [
           "Partially Recovered"
          ],
          [
           "Partially Recovered"
          ],
          [
           "Partially Recovered"
          ],
          [
           "Partially Recovered"
          ],
          [
           "Partially Recovered"
          ],
          [
           "Partially Recovered"
          ],
          [
           "Partially Recovered"
          ],
          [
           "Partially Recovered"
          ],
          [
           "Partially Recovered"
          ],
          [
           "Partially Recovered"
          ],
          [
           "Partially Recovered"
          ],
          [
           "Partially Recovered"
          ],
          [
           "Partially Recovered"
          ],
          [
           "Partially Recovered"
          ],
          [
           "Partially Recovered"
          ],
          [
           "Partially Recovered"
          ],
          [
           "Partially Recovered"
          ],
          [
           "Partially Recovered"
          ],
          [
           "Partially Recovered"
          ],
          [
           "Partially Recovered"
          ],
          [
           "Partially Recovered"
          ],
          [
           "Partially Recovered"
          ],
          [
           "Partially Recovered"
          ],
          [
           "Partially Recovered"
          ],
          [
           "Partially Recovered"
          ],
          [
           "Partially Recovered"
          ],
          [
           "Partially Recovered"
          ],
          [
           "Partially Recovered"
          ],
          [
           "Partially Recovered"
          ],
          [
           "Partially Recovered"
          ],
          [
           "Partially Recovered"
          ],
          [
           "Partially Recovered"
          ],
          [
           "Partially Recovered"
          ],
          [
           "Partially Recovered"
          ],
          [
           "Partially Recovered"
          ],
          [
           "Partially Recovered"
          ],
          [
           "Partially Recovered"
          ],
          [
           "Partially Recovered"
          ]
         ],
         "hovertemplate": "Recovery_Status=%{customdata[0]}<br>Monthly Income ($)=%{x}<br>Loan Amount ($)=%{marker.size}<extra></extra>",
         "legendgroup": "Partially Recovered",
         "marker": {
          "color": "#00cc96",
          "size": {
           "bdata": "pA8WAKUkCgB+GhcAm3YCAL8nGQB+3wIAxToEAF+xEgBl1xIAFwsNAF+kFQBGcxsA+b4bABnQFgBY5RIAL9EBAFnzHABILQ0AYM4ZALTuAgCgRxEApzcYAPawBgDKyhMAiLwYAFVUCwCDaAEAvwoLAAZMFQBech0Ab4kFAOHaBQDAZB0A8lAYAPHVAQBGdhcA7A4IAABjEAD3Vw4ARMMaAA1jBADj0QMAUSkKAMfAFQBlDwEAwgYXAJe2BgAHgxgAXyIVAKIVFgAC8AQAQ5UdADBjGgBbFxIA2wMDANWOHABUpRgA61oEAJQfAwCNOAgAgYMcAMqiFgBwXAgAo3cNAJ4BHgCINRoAGUQEAJHsBgDruB0AoX8YAClxHgAjuQoA+LQYAFl2EQBy+hsABXcSAKM1CADVtw4AfzUKADh2GwATYREAos0YACj7FwBZnAMAnv8aAOVVDgACzwYAf6UMAOSuFgBlygwAVvcPAPOfBADQygQA8/AHAJjvCQC59QQAbyIHAGqKCgAB9hkA8hAXAErhFgDKzAIAmKMUAKvGCwB60wAAeCcSAOajAgAvuR0AfpcFAE9XDgCOWRYAMK4BAEgbBACUUxQAEi8VAK1JCQDZKQgAdSkbAGLUDwCc/RQA/XEGABlLBgCQPg4APSUQADkFAgAgHhEAmB8YAHYECAALEx4Aa24TALAODwChChcADKUYAMq7EQDzbAsAq3sDAGHhHQCxIgMAjgMGAE/tHABTHhIATzQNALqWEwAe0BsA0N8SAB33AAD17hEAQToaALXJDQDsJhUAGU4HABK/FwB+fBUAogEbAA==",
           "dtype": "i4"
          },
          "sizemode": "area",
          "sizeref": 4988.3125,
          "symbol": "circle"
         },
         "mode": "markers",
         "name": "Partially Recovered",
         "orientation": "v",
         "showlegend": true,
         "type": "scatter",
         "x": {
          "bdata": "fkkDAJCiAwDZQgEAP5ACAPXtAQDQ4wEA13wDAGtSAQAQhwMARgUDAGN3AADIowMAD2EAAMOgAAAdggIAVP4CACvCAAAZeQEAYD4DAJh2AwCMqQIAiF4CAIEMAgCr2wIAtCkBAOtpAAAXlAAAgeUAAJ8WAgD31wEAnMwCAM7zAgAOzwMACRMDAH+1AwDjrAMAxQ0BAGfyAADMhgAA3G4DAEBZAwBi1gIAG0EBAP2gAwCqSgAAXTgDACS0AQDqnQIAGEkAAO8/AgBe/AEAbAUBAJEqAgAmwwEAOIADAIioAQBDkgIAcTIBAF9mAwCgaQEAmt4BADOiAwAcjwAAxwsBAMNnAgAMpwMAYl0CAKbpAQCqzQIAW/4CAIdWAAAMHAEAy6gBAAH7AQAp4QEAiPcAAMFTAgBDjwIALToDAKy/AgBvLgIAFGEBAC9TAwBnDQIA8i0CAMnqAQAv1QEAqhQDAPvIAgA+twIAyKAAADitAwAsdQEALd0CAEdoAQA6pAEAXtgAAFAcAwCVVwAAMI4DANd/AAAUlQMAPrcAAK/nAQDFAwMAqigDALtqAAB88QEAO1kDABpyAgDgegAAH7UAAPgPAQDdzgMA0zUBACxzAgBfwQIAFMQDANHqAACZhQIAaB8DAG5gAACftwEAdPgAALZjAADGRwEAkJ4AADWVAQDOIgIAo0YBACitAgCaZAIA88sBAA2tAAAQuQMAaRYBAH6hAQC3TQAAOA8CAKdlAQAlCQIAeAwCANkgAgCQ9QIAYDYCANotAgBLzwAAVeECAFvHAAA6gAEAJmMAAIEsAQCGtwMAwWoCAA==",
          "dtype": "i4"
         },
         "xaxis": "x",
         "y": {
          "bdata": "pA8WAKUkCgB+GhcAm3YCAL8nGQB+3wIAxToEAF+xEgBl1xIAFwsNAF+kFQBGcxsA+b4bABnQFgBY5RIAL9EBAFnzHABILQ0AYM4ZALTuAgCgRxEApzcYAPawBgDKyhMAiLwYAFVUCwCDaAEAvwoLAAZMFQBech0Ab4kFAOHaBQDAZB0A8lAYAPHVAQBGdhcA7A4IAABjEAD3Vw4ARMMaAA1jBADj0QMAUSkKAMfAFQBlDwEAwgYXAJe2BgAHgxgAXyIVAKIVFgAC8AQAQ5UdADBjGgBbFxIA2wMDANWOHABUpRgA61oEAJQfAwCNOAgAgYMcAMqiFgBwXAgAo3cNAJ4BHgCINRoAGUQEAJHsBgDruB0AoX8YAClxHgAjuQoA+LQYAFl2EQBy+hsABXcSAKM1CADVtw4AfzUKADh2GwATYREAos0YACj7FwBZnAMAnv8aAOVVDgACzwYAf6UMAOSuFgBlygwAVvcPAPOfBADQygQA8/AHAJjvCQC59QQAbyIHAGqKCgAB9hkA8hAXAErhFgDKzAIAmKMUAKvGCwB60wAAeCcSAOajAgAvuR0AfpcFAE9XDgCOWRYAMK4BAEgbBACUUxQAEi8VAK1JCQDZKQgAdSkbAGLUDwCc/RQA/XEGABlLBgCQPg4APSUQADkFAgAgHhEAmB8YAHYECAALEx4Aa24TALAODwChChcADKUYAMq7EQDzbAsAq3sDAGHhHQCxIgMAjgMGAE/tHABTHhIATzQNALqWEwAe0BsA0N8SAB33AAD17hEAQToaALXJDQDsJhUAGU4HABK/FwB+fBUAogEbAA==",
          "dtype": "i4"
         },
         "yaxis": "y"
        },
        {
         "customdata": [
          [
           "Fully Recovered"
          ],
          [
           "Fully Recovered"
          ],
          [
           "Fully Recovered"
          ],
          [
           "Fully Recovered"
          ],
          [
           "Fully Recovered"
          ],
          [
           "Fully Recovered"
          ],
          [
           "Fully Recovered"
          ],
          [
           "Fully Recovered"
          ],
          [
           "Fully Recovered"
          ],
          [
           "Fully Recovered"
          ],
          [
           "Fully Recovered"
          ],
          [
           "Fully Recovered"
          ],
          [
           "Fully Recovered"
          ],
          [
           "Fully Recovered"
          ],
          [
           "Fully Recovered"
          ],
          [
           "Fully Recovered"
          ],
          [
           "Fully Recovered"
          ],
          [
           "Fully Recovered"
          ],
          [
           "Fully Recovered"
          ],
          [
           "Fully Recovered"
          ],
          [
           "Fully Recovered"
          ],
          [
           "Fully Recovered"
          ],
          [
           "Fully Recovered"
          ],
          [
           "Fully Recovered"
          ],
          [
           "Fully Recovered"
          ],
          [
           "Fully Recovered"
          ],
          [
           "Fully Recovered"
          ],
          [
           "Fully Recovered"
          ],
          [
           "Fully Recovered"
          ],
          [
           "Fully Recovered"
          ],
          [
           "Fully Recovered"
          ],
          [
           "Fully Recovered"
          ],
          [
           "Fully Recovered"
          ],
          [
           "Fully Recovered"
          ],
          [
           "Fully Recovered"
          ],
          [
           "Fully Recovered"
          ],
          [
           "Fully Recovered"
          ],
          [
           "Fully Recovered"
          ],
          [
           "Fully Recovered"
          ],
          [
           "Fully Recovered"
          ],
          [
           "Fully Recovered"
          ],
          [
           "Fully Recovered"
          ],
          [
           "Fully Recovered"
          ],
          [
           "Fully Recovered"
          ],
          [
           "Fully Recovered"
          ],
          [
           "Fully Recovered"
          ],
          [
           "Fully Recovered"
          ],
          [
           "Fully Recovered"
          ],
          [
           "Fully Recovered"
          ],
          [
           "Fully Recovered"
          ],
          [
           "Fully Recovered"
          ],
          [
           "Fully Recovered"
          ],
          [
           "Fully Recovered"
          ],
          [
           "Fully Recovered"
          ],
          [
           "Fully Recovered"
          ],
          [
           "Fully Recovered"
          ],
          [
           "Fully Recovered"
          ],
          [
           "Fully Recovered"
          ],
          [
           "Fully Recovered"
          ],
          [
           "Fully Recovered"
          ],
          [
           "Fully Recovered"
          ],
          [
           "Fully Recovered"
          ],
          [
           "Fully Recovered"
          ],
          [
           "Fully Recovered"
          ],
          [
           "Fully Recovered"
          ],
          [
           "Fully Recovered"
          ],
          [
           "Fully Recovered"
          ],
          [
           "Fully Recovered"
          ],
          [
           "Fully Recovered"
          ],
          [
           "Fully Recovered"
          ],
          [
           "Fully Recovered"
          ],
          [
           "Fully Recovered"
          ],
          [
           "Fully Recovered"
          ],
          [
           "Fully Recovered"
          ],
          [
           "Fully Recovered"
          ],
          [
           "Fully Recovered"
          ],
          [
           "Fully Recovered"
          ],
          [
           "Fully Recovered"
          ],
          [
           "Fully Recovered"
          ],
          [
           "Fully Recovered"
          ],
          [
           "Fully Recovered"
          ],
          [
           "Fully Recovered"
          ],
          [
           "Fully Recovered"
          ],
          [
           "Fully Recovered"
          ],
          [
           "Fully Recovered"
          ],
          [
           "Fully Recovered"
          ],
          [
           "Fully Recovered"
          ],
          [
           "Fully Recovered"
          ],
          [
           "Fully Recovered"
          ],
          [
           "Fully Recovered"
          ],
          [
           "Fully Recovered"
          ],
          [
           "Fully Recovered"
          ],
          [
           "Fully Recovered"
          ],
          [
           "Fully Recovered"
          ],
          [
           "Fully Recovered"
          ],
          [
           "Fully Recovered"
          ],
          [
           "Fully Recovered"
          ],
          [
           "Fully Recovered"
          ],
          [
           "Fully Recovered"
          ],
          [
           "Fully Recovered"
          ],
          [
           "Fully Recovered"
          ],
          [
           "Fully Recovered"
          ],
          [
           "Fully Recovered"
          ],
          [
           "Fully Recovered"
          ],
          [
           "Fully Recovered"
          ],
          [
           "Fully Recovered"
          ],
          [
           "Fully Recovered"
          ],
          [
           "Fully Recovered"
          ],
          [
           "Fully Recovered"
          ],
          [
           "Fully Recovered"
          ],
          [
           "Fully Recovered"
          ],
          [
           "Fully Recovered"
          ],
          [
           "Fully Recovered"
          ],
          [
           "Fully Recovered"
          ],
          [
           "Fully Recovered"
          ],
          [
           "Fully Recovered"
          ],
          [
           "Fully Recovered"
          ],
          [
           "Fully Recovered"
          ],
          [
           "Fully Recovered"
          ],
          [
           "Fully Recovered"
          ],
          [
           "Fully Recovered"
          ],
          [
           "Fully Recovered"
          ],
          [
           "Fully Recovered"
          ],
          [
           "Fully Recovered"
          ],
          [
           "Fully Recovered"
          ],
          [
           "Fully Recovered"
          ],
          [
           "Fully Recovered"
          ],
          [
           "Fully Recovered"
          ],
          [
           "Fully Recovered"
          ],
          [
           "Fully Recovered"
          ],
          [
           "Fully Recovered"
          ],
          [
           "Fully Recovered"
          ],
          [
           "Fully Recovered"
          ],
          [
           "Fully Recovered"
          ],
          [
           "Fully Recovered"
          ],
          [
           "Fully Recovered"
          ],
          [
           "Fully Recovered"
          ],
          [
           "Fully Recovered"
          ],
          [
           "Fully Recovered"
          ],
          [
           "Fully Recovered"
          ],
          [
           "Fully Recovered"
          ],
          [
           "Fully Recovered"
          ],
          [
           "Fully Recovered"
          ],
          [
           "Fully Recovered"
          ],
          [
           "Fully Recovered"
          ],
          [
           "Fully Recovered"
          ],
          [
           "Fully Recovered"
          ],
          [
           "Fully Recovered"
          ],
          [
           "Fully Recovered"
          ],
          [
           "Fully Recovered"
          ],
          [
           "Fully Recovered"
          ],
          [
           "Fully Recovered"
          ],
          [
           "Fully Recovered"
          ],
          [
           "Fully Recovered"
          ],
          [
           "Fully Recovered"
          ],
          [
           "Fully Recovered"
          ],
          [
           "Fully Recovered"
          ],
          [
           "Fully Recovered"
          ],
          [
           "Fully Recovered"
          ],
          [
           "Fully Recovered"
          ],
          [
           "Fully Recovered"
          ],
          [
           "Fully Recovered"
          ],
          [
           "Fully Recovered"
          ],
          [
           "Fully Recovered"
          ],
          [
           "Fully Recovered"
          ],
          [
           "Fully Recovered"
          ],
          [
           "Fully Recovered"
          ],
          [
           "Fully Recovered"
          ],
          [
           "Fully Recovered"
          ],
          [
           "Fully Recovered"
          ],
          [
           "Fully Recovered"
          ],
          [
           "Fully Recovered"
          ],
          [
           "Fully Recovered"
          ],
          [
           "Fully Recovered"
          ],
          [
           "Fully Recovered"
          ],
          [
           "Fully Recovered"
          ],
          [
           "Fully Recovered"
          ],
          [
           "Fully Recovered"
          ],
          [
           "Fully Recovered"
          ],
          [
           "Fully Recovered"
          ],
          [
           "Fully Recovered"
          ],
          [
           "Fully Recovered"
          ],
          [
           "Fully Recovered"
          ],
          [
           "Fully Recovered"
          ],
          [
           "Fully Recovered"
          ],
          [
           "Fully Recovered"
          ],
          [
           "Fully Recovered"
          ],
          [
           "Fully Recovered"
          ],
          [
           "Fully Recovered"
          ],
          [
           "Fully Recovered"
          ],
          [
           "Fully Recovered"
          ],
          [
           "Fully Recovered"
          ],
          [
           "Fully Recovered"
          ],
          [
           "Fully Recovered"
          ],
          [
           "Fully Recovered"
          ],
          [
           "Fully Recovered"
          ],
          [
           "Fully Recovered"
          ],
          [
           "Fully Recovered"
          ],
          [
           "Fully Recovered"
          ],
          [
           "Fully Recovered"
          ],
          [
           "Fully Recovered"
          ],
          [
           "Fully Recovered"
          ],
          [
           "Fully Recovered"
          ],
          [
           "Fully Recovered"
          ],
          [
           "Fully Recovered"
          ],
          [
           "Fully Recovered"
          ],
          [
           "Fully Recovered"
          ],
          [
           "Fully Recovered"
          ],
          [
           "Fully Recovered"
          ],
          [
           "Fully Recovered"
          ],
          [
           "Fully Recovered"
          ],
          [
           "Fully Recovered"
          ],
          [
           "Fully Recovered"
          ],
          [
           "Fully Recovered"
          ],
          [
           "Fully Recovered"
          ],
          [
           "Fully Recovered"
          ],
          [
           "Fully Recovered"
          ],
          [
           "Fully Recovered"
          ],
          [
           "Fully Recovered"
          ],
          [
           "Fully Recovered"
          ],
          [
           "Fully Recovered"
          ],
          [
           "Fully Recovered"
          ],
          [
           "Fully Recovered"
          ],
          [
           "Fully Recovered"
          ],
          [
           "Fully Recovered"
          ],
          [
           "Fully Recovered"
          ],
          [
           "Fully Recovered"
          ],
          [
           "Fully Recovered"
          ],
          [
           "Fully Recovered"
          ],
          [
           "Fully Recovered"
          ],
          [
           "Fully Recovered"
          ],
          [
           "Fully Recovered"
          ],
          [
           "Fully Recovered"
          ],
          [
           "Fully Recovered"
          ],
          [
           "Fully Recovered"
          ],
          [
           "Fully Recovered"
          ],
          [
           "Fully Recovered"
          ],
          [
           "Fully Recovered"
          ],
          [
           "Fully Recovered"
          ],
          [
           "Fully Recovered"
          ],
          [
           "Fully Recovered"
          ],
          [
           "Fully Recovered"
          ],
          [
           "Fully Recovered"
          ],
          [
           "Fully Recovered"
          ],
          [
           "Fully Recovered"
          ],
          [
           "Fully Recovered"
          ],
          [
           "Fully Recovered"
          ],
          [
           "Fully Recovered"
          ],
          [
           "Fully Recovered"
          ],
          [
           "Fully Recovered"
          ],
          [
           "Fully Recovered"
          ],
          [
           "Fully Recovered"
          ],
          [
           "Fully Recovered"
          ],
          [
           "Fully Recovered"
          ],
          [
           "Fully Recovered"
          ],
          [
           "Fully Recovered"
          ],
          [
           "Fully Recovered"
          ],
          [
           "Fully Recovered"
          ],
          [
           "Fully Recovered"
          ],
          [
           "Fully Recovered"
          ],
          [
           "Fully Recovered"
          ],
          [
           "Fully Recovered"
          ],
          [
           "Fully Recovered"
          ],
          [
           "Fully Recovered"
          ],
          [
           "Fully Recovered"
          ],
          [
           "Fully Recovered"
          ],
          [
           "Fully Recovered"
          ],
          [
           "Fully Recovered"
          ],
          [
           "Fully Recovered"
          ],
          [
           "Fully Recovered"
          ],
          [
           "Fully Recovered"
          ],
          [
           "Fully Recovered"
          ],
          [
           "Fully Recovered"
          ],
          [
           "Fully Recovered"
          ],
          [
           "Fully Recovered"
          ],
          [
           "Fully Recovered"
          ],
          [
           "Fully Recovered"
          ],
          [
           "Fully Recovered"
          ],
          [
           "Fully Recovered"
          ],
          [
           "Fully Recovered"
          ],
          [
           "Fully Recovered"
          ],
          [
           "Fully Recovered"
          ],
          [
           "Fully Recovered"
          ],
          [
           "Fully Recovered"
          ],
          [
           "Fully Recovered"
          ],
          [
           "Fully Recovered"
          ],
          [
           "Fully Recovered"
          ],
          [
           "Fully Recovered"
          ],
          [
           "Fully Recovered"
          ],
          [
           "Fully Recovered"
          ],
          [
           "Fully Recovered"
          ],
          [
           "Fully Recovered"
          ],
          [
           "Fully Recovered"
          ],
          [
           "Fully Recovered"
          ],
          [
           "Fully Recovered"
          ],
          [
           "Fully Recovered"
          ]
         ],
         "hovertemplate": "Recovery_Status=%{customdata[0]}<br>Monthly Income ($)=%{x}<br>Loan Amount ($)=%{marker.size}<extra></extra>",
         "legendgroup": "Fully Recovered",
         "marker": {
          "color": "#ab63fa",
          "size": {
           "bdata": "jPAPAFJZHQDPpBsAAloBABPrDQAr8wMAdQ8MAEITEwDzdAEA+A8cABQrEwDcGhMAiYoRAIGkDQANTgcAtPYKAGgdDwDqOBkAAsMdAAggGADNwBYARy0XACQ0CQDkzRQAQP4YAIpxFgBu6gQAb3sLAApVFgBOPhgATfQBANqRBQAlbhwAAx0MAL73FQDoQwUAkLoMAChqBwCCzQ4Ac/IJABGgFgC3Ex0AXhICABUgFABQDwcAPiceAObEEQDJ+AgATEUZAM2JGACgUQoA8RAHAEr2HAD4xQkALA0cAJgLBgDcFwkAlbUBAKPIBwBETAcAUskGAKBQDwCAZQUAkJMLABJfCgCzDxYAr74CAM9HBQAT4RUAotYTAHojHQDDSgkANw0NAJ3TDACJbgYAcCoNAF2IAwAMVgsA0/oHACceGgCKMBMAyJ4DADAHCACi7BoAEAwbABSJEABqXA0An3AWANXEFgA3RxYAXHUEAD+ABgCPyg0A4qUVABtOBQCfkQsAekEdABnJBAConw0Arp8aABMFDwD7rAIA5i8BAIgUBAA0ExQAHZAYAMZkEADB8QYAIXgdAB9VDQCXAg8AwMMCAM0PAwCEgQQAmqwJAGpAHADgyA0AsA8FAIjtEgDHxgQAcA8aAL+SCgBiAxoAJRYUABScHAARKR0ALfMVAH4NGgD24QYAEyUIANx3CQAF0gYA1owGAF3pEQAmHBAA4rAYAM8jCACFWh4ALKECAEdWFADjHAkAbB8CAGeaBAChnB0Ajv4XALiUDADXKBEAjZkbAGCbCwCJYRwAlDgCAPi1FQAUywYAAPsWAAAaDAAbsAoAljEVAEpfCADSrAEAsRsNAKhACQBRWRYAy9kXAGfCEwD1GxYAZdMSAOkjGgD6uggABkEKAHawFQAqNBAAPskPADU8EQAqAxwAeM0NALu/GwDitAEAMlEUAL4sBQCRAgsA7TgVAITAAgDlfgwAkgIMAB5KGwBqyAwAWdIQAJjzAAAwdQYACrkYALNTBwCKlwEAS40BAOw0GQCQ5x0AhLYdAEdIFgCzLg4A7QwCAGiTHAA8mw0Aa2QdABC5AwDArhEAfFQYAJNnGwDZYRIAPAAeAH3LBADvngoAVTwVAP/jHQD11x0A4G0WAMEEAgBDihsApIgVAOi4BADrwhwAXrAbANM1GACs0RUA6sIaAOkiEgDizgsARzgHAGByAQD56xUAI+wMADy5GwD3MQYAdusMAMAkBABEbgEAAzkaAL0YDQD/1gAAd3wCABrsGACM4x0AjZIBAImIEwBfyQUAofQGAEaJAgChyA0A89cWAArhBgBHfQoAtcYcAEbHHACqBRgAPXIeAAJGBwBMbQsAqOIQAMBYFAAFKhYAdC0eANgVHgCH9RIApL4QAFFODgCJEQ0AC9gZADVmCgBJCxgA94UbAMExGABLwBoAulkXAHTZEACeKBQA5WEaANp3BQAJsg4ACOAcABz4GwAlQBoA1mMbAIxRAgCFNhkAk+IXACs/BQCGJhMAyGMGAHU/FQCk+AQA1IUMAEBLGgCrfgoAZAsLAEGEDQAWPRcAvE0LAKO5BQA=",
           "dtype": "i4"
          },
          "sizemode": "area",
          "sizeref": 4988.3125,
          "symbol": "circle"
         },
         "mode": "markers",
         "name": "Fully Recovered",
         "orientation": "v",
         "showlegend": true,
         "type": "scatter",
         "x": {
          "bdata": "3e0AACjHAQASJgIA8CkBADo3AQBYcAIAY4wBAE8qAQDEawIAxscDACIIAgChBgMADb0AAKV7AQD0UAMAoRECAONlAQAAiAAAmN8CABxTAgBCcQEAs98BAALHAAA8EgEAfFIDADyjAQCIyAMAz3EBADMDAgAGgAEAZkEDAJJ/AwAJigIAlvQCALyfAwCrngEADtMCALo+AgBdiwMAfGQBAEo1AQBlvwAAo54CAInDAgBvPwIAks8DABU7AwB5KgIAcOsAAMmXAQC+dgIAdg8CAE8XAQCGVAIAQlQAAElHAQAuXgAAvW8BAC7TAAAV0QEAxLkAAMtrAwDnLwIAiWIAABgbAgD9bwAAhiACAO3qAQBY9wAAcXcCAEIkAgBhkgEAaaoAACh3AwCxmAAAH8kAAMY7AwAI6gEAcv4AAN/hAgDwywIAKrcCALZvAQDH3wIAAKQCAPHoAQBVWgAAc8cAAFlKAwCJzgEAV30CAOBQAAA4JwMA8I4DAEftAQCkVQMAjAkCADaHAwCAPAMA258CABT4AQD9xgMAhawAAHnIAADpWAEAgL4BAASAAADizwEA8KABACZJAADYlgEAXs0DACxeAgAqagMA08UAAHDQAQB3XQIAurMBAP1yAQDhJQMARcYDAOySAACxqQMA31MAAMfFAgAMtQAAdDcDADE/AAAwTQIAo7oAAHl6AQC8ZwIAZqYCAHvxAADCWgEAR54DAO6jAgDFeQMAiSQDAAOkAgASbgEAhB4DAKyaAAAuvAIAAjUBAMYhAQATjwEAsBUBAMrKAADb6wAArG0DAOXvAAAUUgIAhaQDADThAgCGVQMAM28CALqzAgAnFwIAOxADADU1AwCZagAASOoCAOTkAgDxwgMA9YsBAJ6/AwD29wEAA+cCAOH4AgC+rgIANjMBAN5IAABWlgMAz4MAAEGaAwBUXAMATw4CALuaAgDrDgIAW+ABAA1qAACewQEAzSEBAA9QAQBE4QAAAXACABJmAwAkkwEAbZUDAHNfAgAgqgMAsQYDAKF6AQARZAEAMccDANNWAgBhxwAA8JUBACk7AQAqzgMAO3kBAGE6AwB4RgMA3CwCAEY1AwBo+gAAvEUBACZ5AABzvgIAN5cAAKKgAQAhHQEAYF4DAOWkAgCZvQMAuvEBAJ5LAADsOAEA2qkBAMEgAgANuAIAQCoCAIi5AwBiFAEAfi4DAFOtAgDb0AAA/b4AAMFkAQC3swAAPp8DAATVAgCFDgEA+OsBABJiAgBARAEAW/0BAKQBAgDIVAEAGUkDAFNOAwCyyAAAN0sCAH0XAQDaWgEA7VsBAN25AwD9JAIACwsBAC09AgBRsAEAuygDAOThAADOqwAAAcUDABC9AwAn8AAAH4kCAGvWAgAnwQMAhLsBAK5XAQAKFQMAnKADAI8vAwAD3AIA2IMAALV7AwAsuwEA624CAF2KAwAtFAIAjP4BAGNkAAC9OAMAi2AAAHmFAAC7eQIALlEAAAmTAwAAhAMAmcUAAHKyAABYhAEAMYEAAGk4AwDOywMALZwBAEI6AQDtSwIA008DAPw2AwCLmwMAo8oDAMi8AQA=",
          "dtype": "i4"
         },
         "xaxis": "x",
         "y": {
          "bdata": "jPAPAFJZHQDPpBsAAloBABPrDQAr8wMAdQ8MAEITEwDzdAEA+A8cABQrEwDcGhMAiYoRAIGkDQANTgcAtPYKAGgdDwDqOBkAAsMdAAggGADNwBYARy0XACQ0CQDkzRQAQP4YAIpxFgBu6gQAb3sLAApVFgBOPhgATfQBANqRBQAlbhwAAx0MAL73FQDoQwUAkLoMAChqBwCCzQ4Ac/IJABGgFgC3Ex0AXhICABUgFABQDwcAPiceAObEEQDJ+AgATEUZAM2JGACgUQoA8RAHAEr2HAD4xQkALA0cAJgLBgDcFwkAlbUBAKPIBwBETAcAUskGAKBQDwCAZQUAkJMLABJfCgCzDxYAr74CAM9HBQAT4RUAotYTAHojHQDDSgkANw0NAJ3TDACJbgYAcCoNAF2IAwAMVgsA0/oHACceGgCKMBMAyJ4DADAHCACi7BoAEAwbABSJEABqXA0An3AWANXEFgA3RxYAXHUEAD+ABgCPyg0A4qUVABtOBQCfkQsAekEdABnJBAConw0Arp8aABMFDwD7rAIA5i8BAIgUBAA0ExQAHZAYAMZkEADB8QYAIXgdAB9VDQCXAg8AwMMCAM0PAwCEgQQAmqwJAGpAHADgyA0AsA8FAIjtEgDHxgQAcA8aAL+SCgBiAxoAJRYUABScHAARKR0ALfMVAH4NGgD24QYAEyUIANx3CQAF0gYA1owGAF3pEQAmHBAA4rAYAM8jCACFWh4ALKECAEdWFADjHAkAbB8CAGeaBAChnB0Ajv4XALiUDADXKBEAjZkbAGCbCwCJYRwAlDgCAPi1FQAUywYAAPsWAAAaDAAbsAoAljEVAEpfCADSrAEAsRsNAKhACQBRWRYAy9kXAGfCEwD1GxYAZdMSAOkjGgD6uggABkEKAHawFQAqNBAAPskPADU8EQAqAxwAeM0NALu/GwDitAEAMlEUAL4sBQCRAgsA7TgVAITAAgDlfgwAkgIMAB5KGwBqyAwAWdIQAJjzAAAwdQYACrkYALNTBwCKlwEAS40BAOw0GQCQ5x0AhLYdAEdIFgCzLg4A7QwCAGiTHAA8mw0Aa2QdABC5AwDArhEAfFQYAJNnGwDZYRIAPAAeAH3LBADvngoAVTwVAP/jHQD11x0A4G0WAMEEAgBDihsApIgVAOi4BADrwhwAXrAbANM1GACs0RUA6sIaAOkiEgDizgsARzgHAGByAQD56xUAI+wMADy5GwD3MQYAdusMAMAkBABEbgEAAzkaAL0YDQD/1gAAd3wCABrsGACM4x0AjZIBAImIEwBfyQUAofQGAEaJAgChyA0A89cWAArhBgBHfQoAtcYcAEbHHACqBRgAPXIeAAJGBwBMbQsAqOIQAMBYFAAFKhYAdC0eANgVHgCH9RIApL4QAFFODgCJEQ0AC9gZADVmCgBJCxgA94UbAMExGABLwBoAulkXAHTZEACeKBQA5WEaANp3BQAJsg4ACOAcABz4GwAlQBoA1mMbAIxRAgCFNhkAk+IXACs/BQCGJhMAyGMGAHU/FQCk+AQA1IUMAEBLGgCrfgoAZAsLAEGEDQAWPRcAvE0LAKO5BQA=",
          "dtype": "i4"
         },
         "yaxis": "y"
        },
        {
         "customdata": [
          [
           "Written Off"
          ],
          [
           "Written Off"
          ],
          [
           "Written Off"
          ],
          [
           "Written Off"
          ],
          [
           "Written Off"
          ],
          [
           "Written Off"
          ],
          [
           "Written Off"
          ],
          [
           "Written Off"
          ],
          [
           "Written Off"
          ],
          [
           "Written Off"
          ],
          [
           "Written Off"
          ],
          [
           "Written Off"
          ],
          [
           "Written Off"
          ],
          [
           "Written Off"
          ],
          [
           "Written Off"
          ],
          [
           "Written Off"
          ],
          [
           "Written Off"
          ],
          [
           "Written Off"
          ],
          [
           "Written Off"
          ],
          [
           "Written Off"
          ],
          [
           "Written Off"
          ],
          [
           "Written Off"
          ],
          [
           "Written Off"
          ],
          [
           "Written Off"
          ],
          [
           "Written Off"
          ],
          [
           "Written Off"
          ],
          [
           "Written Off"
          ],
          [
           "Written Off"
          ],
          [
           "Written Off"
          ],
          [
           "Written Off"
          ],
          [
           "Written Off"
          ],
          [
           "Written Off"
          ],
          [
           "Written Off"
          ],
          [
           "Written Off"
          ],
          [
           "Written Off"
          ],
          [
           "Written Off"
          ],
          [
           "Written Off"
          ],
          [
           "Written Off"
          ],
          [
           "Written Off"
          ],
          [
           "Written Off"
          ],
          [
           "Written Off"
          ],
          [
           "Written Off"
          ],
          [
           "Written Off"
          ],
          [
           "Written Off"
          ],
          [
           "Written Off"
          ],
          [
           "Written Off"
          ],
          [
           "Written Off"
          ],
          [
           "Written Off"
          ],
          [
           "Written Off"
          ],
          [
           "Written Off"
          ]
         ],
         "hovertemplate": "Recovery_Status=%{customdata[0]}<br>Monthly Income ($)=%{x}<br>Loan Amount ($)=%{marker.size}<extra></extra>",
         "legendgroup": "Written Off",
         "marker": {
          "color": "#FFA15A",
          "size": {
           "bdata": "TjkeAD6uDQCmMBIAbbEDAD8VBADKUAYAIOcTAMqZBADk7g4AOO0UAM42BgCbJwEA/sMEALwrEgAp6QUAohIQANXWCQDK1hgAy98FANQqAgCd3g8Aij8FABmOGQApnAgA7FkKAI0oEwAqkhYAme0BAOw1GgCvoAwAlcAEAFEMBQDpZx0AioANAIAGDACiww0AAdMMAL7HDgBxFgMA8AccAJoUAgB/qBUAjmwHAMfqCAC6IRsAChASALrUFgBSTwUAP9cUAHIGBgA=",
           "dtype": "i4"
          },
          "sizemode": "area",
          "sizeref": 4988.3125,
          "symbol": "circle"
         },
         "mode": "markers",
         "name": "Written Off",
         "orientation": "v",
         "showlegend": true,
         "type": "scatter",
         "x": {
          "bdata": "O7kDAC4WAgBa6QAA52QBAGOWAgCYlAMAAz0CALE7AAC0pQIA0s4DADivAgBJQgAAE34DAA5MAgA0lQIAW7ICAJjGAQDgpAIA46YAAPS0AgCi5wEAWZ4AAOdLAwAm1AAAuzECALnxAgCyyAIAG5UCACRWAQAOdgMADZcCAKDMAABBtQAAvL8AAHl/AAAOfQAAcX8CAH/tAQB+JgIAnGQAAENEAwCfJQIAGU8CAMPpAgBnOwAAtXgBAP/2AADiEQMAnZsBAOmcAAA=",
          "dtype": "i4"
         },
         "xaxis": "x",
         "y": {
          "bdata": "TjkeAD6uDQCmMBIAbbEDAD8VBADKUAYAIOcTAMqZBADk7g4AOO0UAM42BgCbJwEA/sMEALwrEgAp6QUAohIQANXWCQDK1hgAy98FANQqAgCd3g8Aij8FABmOGQApnAgA7FkKAI0oEwAqkhYAme0BAOw1GgCvoAwAlcAEAFEMBQDpZx0AioANAIAGDACiww0AAdMMAL7HDgBxFgMA8AccAJoUAgB/qBUAjmwHAMfqCAC6IRsAChASALrUFgBSTwUAP9cUAHIGBgA=",
          "dtype": "i4"
         },
         "yaxis": "y"
        }
       ],
       "layout": {
        "annotations": [
         {
          "arrowhead": 2,
          "font": {
           "color": "red",
           "size": 12
          },
          "showarrow": true,
          "text": "Higher loans may still get recovered if income is high",
          "x": 249746,
          "y": 1995325
         }
        ],
        "legend": {
         "itemsizing": "constant",
         "title": {
          "text": "Recovery_Status"
         },
         "tracegroupgap": 0
        },
        "template": {
         "data": {
          "bar": [
           {
            "error_x": {
             "color": "#2a3f5f"
            },
            "error_y": {
             "color": "#2a3f5f"
            },
            "marker": {
             "line": {
              "color": "white",
              "width": 0.5
             },
             "pattern": {
              "fillmode": "overlay",
              "size": 10,
              "solidity": 0.2
             }
            },
            "type": "bar"
           }
          ],
          "barpolar": [
           {
            "marker": {
             "line": {
              "color": "white",
              "width": 0.5
             },
             "pattern": {
              "fillmode": "overlay",
              "size": 10,
              "solidity": 0.2
             }
            },
            "type": "barpolar"
           }
          ],
          "carpet": [
           {
            "aaxis": {
             "endlinecolor": "#2a3f5f",
             "gridcolor": "#C8D4E3",
             "linecolor": "#C8D4E3",
             "minorgridcolor": "#C8D4E3",
             "startlinecolor": "#2a3f5f"
            },
            "baxis": {
             "endlinecolor": "#2a3f5f",
             "gridcolor": "#C8D4E3",
             "linecolor": "#C8D4E3",
             "minorgridcolor": "#C8D4E3",
             "startlinecolor": "#2a3f5f"
            },
            "type": "carpet"
           }
          ],
          "choropleth": [
           {
            "colorbar": {
             "outlinewidth": 0,
             "ticks": ""
            },
            "type": "choropleth"
           }
          ],
          "contour": [
           {
            "colorbar": {
             "outlinewidth": 0,
             "ticks": ""
            },
            "colorscale": [
             [
              0,
              "#0d0887"
             ],
             [
              0.1111111111111111,
              "#46039f"
             ],
             [
              0.2222222222222222,
              "#7201a8"
             ],
             [
              0.3333333333333333,
              "#9c179e"
             ],
             [
              0.4444444444444444,
              "#bd3786"
             ],
             [
              0.5555555555555556,
              "#d8576b"
             ],
             [
              0.6666666666666666,
              "#ed7953"
             ],
             [
              0.7777777777777778,
              "#fb9f3a"
             ],
             [
              0.8888888888888888,
              "#fdca26"
             ],
             [
              1,
              "#f0f921"
             ]
            ],
            "type": "contour"
           }
          ],
          "contourcarpet": [
           {
            "colorbar": {
             "outlinewidth": 0,
             "ticks": ""
            },
            "type": "contourcarpet"
           }
          ],
          "heatmap": [
           {
            "colorbar": {
             "outlinewidth": 0,
             "ticks": ""
            },
            "colorscale": [
             [
              0,
              "#0d0887"
             ],
             [
              0.1111111111111111,
              "#46039f"
             ],
             [
              0.2222222222222222,
              "#7201a8"
             ],
             [
              0.3333333333333333,
              "#9c179e"
             ],
             [
              0.4444444444444444,
              "#bd3786"
             ],
             [
              0.5555555555555556,
              "#d8576b"
             ],
             [
              0.6666666666666666,
              "#ed7953"
             ],
             [
              0.7777777777777778,
              "#fb9f3a"
             ],
             [
              0.8888888888888888,
              "#fdca26"
             ],
             [
              1,
              "#f0f921"
             ]
            ],
            "type": "heatmap"
           }
          ],
          "histogram": [
           {
            "marker": {
             "pattern": {
              "fillmode": "overlay",
              "size": 10,
              "solidity": 0.2
             }
            },
            "type": "histogram"
           }
          ],
          "histogram2d": [
           {
            "colorbar": {
             "outlinewidth": 0,
             "ticks": ""
            },
            "colorscale": [
             [
              0,
              "#0d0887"
             ],
             [
              0.1111111111111111,
              "#46039f"
             ],
             [
              0.2222222222222222,
              "#7201a8"
             ],
             [
              0.3333333333333333,
              "#9c179e"
             ],
             [
              0.4444444444444444,
              "#bd3786"
             ],
             [
              0.5555555555555556,
              "#d8576b"
             ],
             [
              0.6666666666666666,
              "#ed7953"
             ],
             [
              0.7777777777777778,
              "#fb9f3a"
             ],
             [
              0.8888888888888888,
              "#fdca26"
             ],
             [
              1,
              "#f0f921"
             ]
            ],
            "type": "histogram2d"
           }
          ],
          "histogram2dcontour": [
           {
            "colorbar": {
             "outlinewidth": 0,
             "ticks": ""
            },
            "colorscale": [
             [
              0,
              "#0d0887"
             ],
             [
              0.1111111111111111,
              "#46039f"
             ],
             [
              0.2222222222222222,
              "#7201a8"
             ],
             [
              0.3333333333333333,
              "#9c179e"
             ],
             [
              0.4444444444444444,
              "#bd3786"
             ],
             [
              0.5555555555555556,
              "#d8576b"
             ],
             [
              0.6666666666666666,
              "#ed7953"
             ],
             [
              0.7777777777777778,
              "#fb9f3a"
             ],
             [
              0.8888888888888888,
              "#fdca26"
             ],
             [
              1,
              "#f0f921"
             ]
            ],
            "type": "histogram2dcontour"
           }
          ],
          "mesh3d": [
           {
            "colorbar": {
             "outlinewidth": 0,
             "ticks": ""
            },
            "type": "mesh3d"
           }
          ],
          "parcoords": [
           {
            "line": {
             "colorbar": {
              "outlinewidth": 0,
              "ticks": ""
             }
            },
            "type": "parcoords"
           }
          ],
          "pie": [
           {
            "automargin": true,
            "type": "pie"
           }
          ],
          "scatter": [
           {
            "fillpattern": {
             "fillmode": "overlay",
             "size": 10,
             "solidity": 0.2
            },
            "type": "scatter"
           }
          ],
          "scatter3d": [
           {
            "line": {
             "colorbar": {
              "outlinewidth": 0,
              "ticks": ""
             }
            },
            "marker": {
             "colorbar": {
              "outlinewidth": 0,
              "ticks": ""
             }
            },
            "type": "scatter3d"
           }
          ],
          "scattercarpet": [
           {
            "marker": {
             "colorbar": {
              "outlinewidth": 0,
              "ticks": ""
             }
            },
            "type": "scattercarpet"
           }
          ],
          "scattergeo": [
           {
            "marker": {
             "colorbar": {
              "outlinewidth": 0,
              "ticks": ""
             }
            },
            "type": "scattergeo"
           }
          ],
          "scattergl": [
           {
            "marker": {
             "colorbar": {
              "outlinewidth": 0,
              "ticks": ""
             }
            },
            "type": "scattergl"
           }
          ],
          "scattermap": [
           {
            "marker": {
             "colorbar": {
              "outlinewidth": 0,
              "ticks": ""
             }
            },
            "type": "scattermap"
           }
          ],
          "scattermapbox": [
           {
            "marker": {
             "colorbar": {
              "outlinewidth": 0,
              "ticks": ""
             }
            },
            "type": "scattermapbox"
           }
          ],
          "scatterpolar": [
           {
            "marker": {
             "colorbar": {
              "outlinewidth": 0,
              "ticks": ""
             }
            },
            "type": "scatterpolar"
           }
          ],
          "scatterpolargl": [
           {
            "marker": {
             "colorbar": {
              "outlinewidth": 0,
              "ticks": ""
             }
            },
            "type": "scatterpolargl"
           }
          ],
          "scatterternary": [
           {
            "marker": {
             "colorbar": {
              "outlinewidth": 0,
              "ticks": ""
             }
            },
            "type": "scatterternary"
           }
          ],
          "surface": [
           {
            "colorbar": {
             "outlinewidth": 0,
             "ticks": ""
            },
            "colorscale": [
             [
              0,
              "#0d0887"
             ],
             [
              0.1111111111111111,
              "#46039f"
             ],
             [
              0.2222222222222222,
              "#7201a8"
             ],
             [
              0.3333333333333333,
              "#9c179e"
             ],
             [
              0.4444444444444444,
              "#bd3786"
             ],
             [
              0.5555555555555556,
              "#d8576b"
             ],
             [
              0.6666666666666666,
              "#ed7953"
             ],
             [
              0.7777777777777778,
              "#fb9f3a"
             ],
             [
              0.8888888888888888,
              "#fdca26"
             ],
             [
              1,
              "#f0f921"
             ]
            ],
            "type": "surface"
           }
          ],
          "table": [
           {
            "cells": {
             "fill": {
              "color": "#EBF0F8"
             },
             "line": {
              "color": "white"
             }
            },
            "header": {
             "fill": {
              "color": "#C8D4E3"
             },
             "line": {
              "color": "white"
             }
            },
            "type": "table"
           }
          ]
         },
         "layout": {
          "annotationdefaults": {
           "arrowcolor": "#2a3f5f",
           "arrowhead": 0,
           "arrowwidth": 1
          },
          "autotypenumbers": "strict",
          "coloraxis": {
           "colorbar": {
            "outlinewidth": 0,
            "ticks": ""
           }
          },
          "colorscale": {
           "diverging": [
            [
             0,
             "#8e0152"
            ],
            [
             0.1,
             "#c51b7d"
            ],
            [
             0.2,
             "#de77ae"
            ],
            [
             0.3,
             "#f1b6da"
            ],
            [
             0.4,
             "#fde0ef"
            ],
            [
             0.5,
             "#f7f7f7"
            ],
            [
             0.6,
             "#e6f5d0"
            ],
            [
             0.7,
             "#b8e186"
            ],
            [
             0.8,
             "#7fbc41"
            ],
            [
             0.9,
             "#4d9221"
            ],
            [
             1,
             "#276419"
            ]
           ],
           "sequential": [
            [
             0,
             "#0d0887"
            ],
            [
             0.1111111111111111,
             "#46039f"
            ],
            [
             0.2222222222222222,
             "#7201a8"
            ],
            [
             0.3333333333333333,
             "#9c179e"
            ],
            [
             0.4444444444444444,
             "#bd3786"
            ],
            [
             0.5555555555555556,
             "#d8576b"
            ],
            [
             0.6666666666666666,
             "#ed7953"
            ],
            [
             0.7777777777777778,
             "#fb9f3a"
            ],
            [
             0.8888888888888888,
             "#fdca26"
            ],
            [
             1,
             "#f0f921"
            ]
           ],
           "sequentialminus": [
            [
             0,
             "#0d0887"
            ],
            [
             0.1111111111111111,
             "#46039f"
            ],
            [
             0.2222222222222222,
             "#7201a8"
            ],
            [
             0.3333333333333333,
             "#9c179e"
            ],
            [
             0.4444444444444444,
             "#bd3786"
            ],
            [
             0.5555555555555556,
             "#d8576b"
            ],
            [
             0.6666666666666666,
             "#ed7953"
            ],
            [
             0.7777777777777778,
             "#fb9f3a"
            ],
            [
             0.8888888888888888,
             "#fdca26"
            ],
            [
             1,
             "#f0f921"
            ]
           ]
          },
          "colorway": [
           "#636efa",
           "#EF553B",
           "#00cc96",
           "#ab63fa",
           "#FFA15A",
           "#19d3f3",
           "#FF6692",
           "#B6E880",
           "#FF97FF",
           "#FECB52"
          ],
          "font": {
           "color": "#2a3f5f"
          },
          "geo": {
           "bgcolor": "white",
           "lakecolor": "white",
           "landcolor": "white",
           "showlakes": true,
           "showland": true,
           "subunitcolor": "#C8D4E3"
          },
          "hoverlabel": {
           "align": "left"
          },
          "hovermode": "closest",
          "mapbox": {
           "style": "light"
          },
          "paper_bgcolor": "white",
          "plot_bgcolor": "white",
          "polar": {
           "angularaxis": {
            "gridcolor": "#EBF0F8",
            "linecolor": "#EBF0F8",
            "ticks": ""
           },
           "bgcolor": "white",
           "radialaxis": {
            "gridcolor": "#EBF0F8",
            "linecolor": "#EBF0F8",
            "ticks": ""
           }
          },
          "scene": {
           "xaxis": {
            "backgroundcolor": "white",
            "gridcolor": "#DFE8F3",
            "gridwidth": 2,
            "linecolor": "#EBF0F8",
            "showbackground": true,
            "ticks": "",
            "zerolinecolor": "#EBF0F8"
           },
           "yaxis": {
            "backgroundcolor": "white",
            "gridcolor": "#DFE8F3",
            "gridwidth": 2,
            "linecolor": "#EBF0F8",
            "showbackground": true,
            "ticks": "",
            "zerolinecolor": "#EBF0F8"
           },
           "zaxis": {
            "backgroundcolor": "white",
            "gridcolor": "#DFE8F3",
            "gridwidth": 2,
            "linecolor": "#EBF0F8",
            "showbackground": true,
            "ticks": "",
            "zerolinecolor": "#EBF0F8"
           }
          },
          "shapedefaults": {
           "line": {
            "color": "#2a3f5f"
           }
          },
          "ternary": {
           "aaxis": {
            "gridcolor": "#DFE8F3",
            "linecolor": "#A2B1C6",
            "ticks": ""
           },
           "baxis": {
            "gridcolor": "#DFE8F3",
            "linecolor": "#A2B1C6",
            "ticks": ""
           },
           "bgcolor": "white",
           "caxis": {
            "gridcolor": "#DFE8F3",
            "linecolor": "#A2B1C6",
            "ticks": ""
           }
          },
          "title": {
           "x": 0.05
          },
          "xaxis": {
           "automargin": true,
           "gridcolor": "#EBF0F8",
           "linecolor": "#EBF0F8",
           "ticks": "",
           "title": {
            "standoff": 15
           },
           "zerolinecolor": "#EBF0F8",
           "zerolinewidth": 2
          },
          "yaxis": {
           "automargin": true,
           "gridcolor": "#EBF0F8",
           "linecolor": "#EBF0F8",
           "ticks": "",
           "title": {
            "standoff": 15
           },
           "zerolinecolor": "#EBF0F8",
           "zerolinewidth": 2
          }
         }
        },
        "title": {
         "text": "How Monthly Income and Loan Amount Affect Loan Recovery"
        },
        "xaxis": {
         "anchor": "y",
         "domain": [
          0,
          1
         ],
         "title": {
          "text": "Monthly Income ($)"
         }
        },
        "yaxis": {
         "anchor": "x",
         "domain": [
          0,
          1
         ],
         "title": {
          "text": "Loan Amount ($)"
         }
        }
       }
      }
     },
     "metadata": {},
     "output_type": "display_data"
    }
   ],
   "source": [
    "fig = px.scatter(df, x='Monthly_Income', y='Loan_Amount',\n",
    "                 color='Recovery_Status', size='Loan_Amount',\n",
    "                 hover_data={'Monthly_Income': True, 'Loan_Amount': True, 'Recovery_Status': True},\n",
    "                 title=\"How Monthly Income and Loan Amount Affect Loan Recovery\",\n",
    "                 labels={\"Monthly_Income\": \"Monthly Income ($)\", \"Loan_Amount\": \"Loan Amount ($)\"},\n",
    "                 color_discrete_map={\"Recovered\": \"green\", \"Not Recovered\": \"red\"})\n",
    "\n",
    "fig.add_annotation(\n",
    "    x=max(df['Monthly_Income']), y=max(df['Loan_Amount']),\n",
    "    text=\"Higher loans may still get recovered if income is high\",\n",
    "    showarrow=True,\n",
    "    arrowhead=2,\n",
    "    font=dict(size=12, color=\"red\")\n",
    ")\n",
    "\n",
    "fig.update_layout(\n",
    "    xaxis_title=\"Monthly Income ($)\",\n",
    "    yaxis_title=\"Loan Amount ($)\",\n",
    "    template=\"plotly_white\"\n",
    ")\n",
    "\n",
    "fig.show()"
   ]
  },
  {
   "cell_type": "markdown",
   "id": "73b83b35",
   "metadata": {},
   "source": [
    "## **Now using K-Means clustering, I’ll create borrower segments based on monthly income and loan amount:**"
   ]
  },
  {
   "cell_type": "code",
   "execution_count": 8,
   "metadata": {},
   "outputs": [
    {
     "data": {
      "application/vnd.plotly.v1+json": {
       "config": {
        "plotlyServerURL": "https://plot.ly"
       },
       "data": [
        {
         "customdata": {
          "bdata": "AwAAAAMAAAADAAAAAwAAAAMAAAADAAAAAwAAAAMAAAADAAAAAwAAAAMAAAADAAAAAwAAAAMAAAADAAAAAwAAAAMAAAADAAAAAwAAAAMAAAADAAAAAwAAAAMAAAADAAAAAwAAAAMAAAADAAAAAwAAAAMAAAADAAAAAwAAAAMAAAADAAAAAwAAAAMAAAADAAAAAwAAAAMAAAADAAAAAwAAAAMAAAADAAAAAwAAAAMAAAADAAAAAwAAAAMAAAADAAAAAwAAAAMAAAADAAAAAwAAAAMAAAADAAAAAwAAAAMAAAADAAAAAwAAAAMAAAADAAAAAwAAAAMAAAADAAAAAwAAAAMAAAADAAAAAwAAAAMAAAADAAAAAwAAAAMAAAADAAAAAwAAAAMAAAADAAAAAwAAAAMAAAADAAAAAwAAAAMAAAADAAAAAwAAAAMAAAADAAAAAwAAAAMAAAADAAAAAwAAAAMAAAADAAAAAwAAAAMAAAADAAAAAwAAAAMAAAADAAAAAwAAAAMAAAADAAAAAwAAAAMAAAADAAAAAwAAAAMAAAADAAAAAwAAAAMAAAADAAAAAwAAAAMAAAADAAAAAwAAAAMAAAADAAAAAwAAAAMAAAADAAAAAwAAAAMAAAADAAAAAwAAAAMAAAADAAAAAwAAAAMAAAADAAAAAwAAAAMAAAADAAAAAwAAAAMAAAADAAAAAwAAAAMAAAADAAAAAwAAAA==",
          "dtype": "i4",
          "shape": "136, 1"
         },
         "hovertemplate": "color=3<br>Monthly Income ($)=%{x}<br>Loan Amount ($)=%{marker.size}<br>Segment=%{customdata[0]}<extra></extra>",
         "legendgroup": "3",
         "marker": {
          "color": "rgb(229, 134, 6)",
          "size": {
           "bdata": "pA8WAFJZHQDPpBsAfhoXAEITEwBOOR4A+A8cABQrEwDqOBkAAsMdAEctFwBA/hgAX6QVAIpxFgBGcxsA+b4bAApVFgAg5xMAWfMcACVuHABgzhkAvvcVADjtFAAVIBQAPiceAObEEQBMRRkAzYkYAIi8GABK9hwALA0cAMBkHQCi1hMAeiMdAKISEAAQDBsAFIkQAJ9wFgDipRUArp8aAB2QGAAHgxgAxmQQAKIVFgAheB0AQ5UdADBjGgBqQBwAVKUYAIGDHABiAxoAyqIWABEpHQCeAR4AXekRAOKwGACFWh4AoZwdAI7+FwAZjhkAiDUaAI2ZGwCJYRwA67gdAPi0GAAA+xYAKpIWAJYxFQBZdhEAcvobAFFZFgDL2RcAZ8ITAPUbFgDpIxoAdrAVAOw1GgA+yQ8AKgMcALu/GwAyURQA7TgVAFnSEAA4dhsACrkYAJDnHQCe/xoA5K4WAGtkHQBW9w8APAAeAOvCHADTNRgA6sIaAOkiEgA8uRsAL7kdAI5ZFgCUUxQA8AccAHUpGwDz1xYAnP0UALXGHABGxxwAqgUYAD1yHgAgHhEAuiEbAGtuEwAFKhYAdC0eANgVHgChChcAh/USAAylGAC61BYAC9gZAEkLGADBMRgAnigUAGHhHQDlYRoACOAcABz4GwAlQBoA1mMbALqWEwCFNhkAHtAbAIYmEwBBOhoAP9cUAOwmFQBASxoAFj0XAA==",
           "dtype": "i4"
          },
          "sizemode": "area",
          "sizeref": 4988.3125,
          "symbol": "circle"
         },
         "mode": "markers",
         "name": "3",
         "orientation": "v",
         "showlegend": true,
         "type": "scatter",
         "x": {
          "bdata": "fkkDACjHAQASJgIA2UIBAE8qAQA7uQMAxscDACIIAgAAiAAAmN8CALPfAQB8UgMAY3cAADyjAQDIowMAD2EAADMDAgADPQIAK8IAAAmKAgBgPgMAvJ8DANLOAwCJwwIAks8DABU7AwBw6wAAyZcBALQpAQBPFwEAQlQAAA7PAwBxdwIAQiQCAFuyAgAApAIA8egBAHPHAADwjgMA258CAIC+AQDqnQIABIAAAO8/AgDwoAEAbAUBAJEqAgBw0AEAQ5ICAJreAQCxqQMAM6IDAAy1AADDZwIAe/EAAEeeAwDFeQMALrwCAAI1AQDnSwMADKcDALAVAQDb6wAAqs0CAMuoAQCFpAMAssgCADNvAgAB+wEAKeEBAJlqAABI6gIA5OQCAPHCAwCevwMA4fgCACRWAQA2MwEAVpYDAEGaAwBPDgIAW+ABAAFwAgCsvwIAbZUDABFkAQDyLQIA+8gCADt5AQDIoAAAvEUBAOw4AQDBIAIAQCoCAIi5AwDBZAEAfPEBAOB6AADdzgMAnGQAABTEAwDtWwEAmYUCAAsLAQAtPQIAUbABALsoAwDGRwEAZzsAAKNGAQAn8AAAH4kCAGvWAgCaZAIAJ8EDAPPLAQD/9gAAnKADAAPcAgC1ewMALRQCAH6hAQCM/gEAi2AAAHmFAAC7eQIALlEAANkgAgAAhAMAkPUCAFiEAQBV4QIAnZsBADqAAQBCOgEAi5sDAA==",
          "dtype": "i4"
         },
         "xaxis": "x",
         "y": {
          "bdata": "pA8WAFJZHQDPpBsAfhoXAEITEwBOOR4A+A8cABQrEwDqOBkAAsMdAEctFwBA/hgAX6QVAIpxFgBGcxsA+b4bAApVFgAg5xMAWfMcACVuHABgzhkAvvcVADjtFAAVIBQAPiceAObEEQBMRRkAzYkYAIi8GABK9hwALA0cAMBkHQCi1hMAeiMdAKISEAAQDBsAFIkQAJ9wFgDipRUArp8aAB2QGAAHgxgAxmQQAKIVFgAheB0AQ5UdADBjGgBqQBwAVKUYAIGDHABiAxoAyqIWABEpHQCeAR4AXekRAOKwGACFWh4AoZwdAI7+FwAZjhkAiDUaAI2ZGwCJYRwA67gdAPi0GAAA+xYAKpIWAJYxFQBZdhEAcvobAFFZFgDL2RcAZ8ITAPUbFgDpIxoAdrAVAOw1GgA+yQ8AKgMcALu/GwAyURQA7TgVAFnSEAA4dhsACrkYAJDnHQCe/xoA5K4WAGtkHQBW9w8APAAeAOvCHADTNRgA6sIaAOkiEgA8uRsAL7kdAI5ZFgCUUxQA8AccAHUpGwDz1xYAnP0UALXGHABGxxwAqgUYAD1yHgAgHhEAuiEbAGtuEwAFKhYAdC0eANgVHgChChcAh/USAAylGAC61BYAC9gZAEkLGADBMRgAnigUAGHhHQDlYRoACOAcABz4GwAlQBoA1mMbALqWEwCFNhkAHtAbAIYmEwBBOhoAP9cUAOwmFQBASxoAFj0XAA==",
          "dtype": "i4"
         },
         "yaxis": "y"
        },
        {
         "customdata": {
          "bdata": "AQAAAAEAAAABAAAAAQAAAAEAAAABAAAAAQAAAAEAAAABAAAAAQAAAAEAAAABAAAAAQAAAAEAAAABAAAAAQAAAAEAAAABAAAAAQAAAAEAAAABAAAAAQAAAAEAAAABAAAAAQAAAAEAAAABAAAAAQAAAAEAAAABAAAAAQAAAAEAAAABAAAAAQAAAAEAAAABAAAAAQAAAAEAAAABAAAAAQAAAAEAAAABAAAAAQAAAAEAAAABAAAAAQAAAAEAAAABAAAAAQAAAAEAAAABAAAA",
          "dtype": "i4",
          "shape": "51, 1"
         },
         "hovertemplate": "color=1<br>Monthly Income ($)=%{x}<br>Loan Amount ($)=%{marker.size}<br>Segment=%{customdata[0]}<extra></extra>",
         "legendgroup": "1",
         "marker": {
          "color": "rgb(93, 105, 177)",
          "size": {
           "bdata": "jPAPAL8nGQAIIBgAzcAWAE4+GACgRxEAtxMdALwrEgAGTBUAsw8WAPJQGACd0wwAJx4aAKLsGgBEwxoA1cQWAMrWGAB6QR0A1Y4cAHAPGgAUnBwALfMVAH4NGgBHVhQAjSgTAKF/GAApcR4ABXcSAB5KGwDsNBkAos0YAOlnHQCEth0AaJMcAJNnGwBVPBUA/+MdAPXXHQAB9hkA8hAXAEOKGwCkiBUAXrAbAJijFAADORoAGuwYAIzjHQALEx4ACbIOANDfEgCiARsA",
           "dtype": "i4"
          },
          "sizemode": "area",
          "sizeref": 4988.3125,
          "symbol": "circle"
         },
         "mode": "markers",
         "name": "1",
         "orientation": "v",
         "showlegend": true,
         "type": "scatter",
         "x": {
          "bdata": "3e0AAPXtAQAcUwIAQnEBAAaAAQCMqQIAZb8AAA5MAgCfFgIA/W8AAAkTAwAodwMA3+ECAMffAgDcbgMAWUoDAOCkAgCMCQIAiKgBAEXGAwDHxQIAdDcDADE/AAADpAIAufECAFv+AgCHVgAAiPcAAA9QAQChegEAFGEBAEG1AAAxxwMAKTsBAEY1AwA3lwAAoqABACEdAQCVVwAAMI4DAJm9AwC68QEA2qkBAD63AAD46wEApAECAMhUAQDOIgIAvTgDAGA2AgDBagIA",
          "dtype": "i4"
         },
         "xaxis": "x",
         "y": {
          "bdata": "jPAPAL8nGQAIIBgAzcAWAE4+GACgRxEAtxMdALwrEgAGTBUAsw8WAPJQGACd0wwAJx4aAKLsGgBEwxoA1cQWAMrWGAB6QR0A1Y4cAHAPGgAUnBwALfMVAH4NGgBHVhQAjSgTAKF/GAApcR4ABXcSAB5KGwDsNBkAos0YAOlnHQCEth0AaJMcAJNnGwBVPBUA/+MdAPXXHQAB9hkA8hAXAEOKGwCkiBUAXrAbAJijFAADORoAGuwYAIzjHQALEx4ACbIOANDfEgCiARsA",
          "dtype": "i4"
         },
         "yaxis": "y"
        },
        {
         "customdata": {
          "bdata": "AAAAAAAAAAAAAAAAAAAAAAAAAAAAAAAAAAAAAAAAAAAAAAAAAAAAAAAAAAAAAAAAAAAAAAAAAAAAAAAAAAAAAAAAAAAAAAAAAAAAAAAAAAAAAAAAAAAAAAAAAAAAAAAAAAAAAAAAAAAAAAAAAAAAAAAAAAAAAAAAAAAAAAAAAAAAAAAAAAAAAAAAAAAAAAAAAAAAAAAAAAAAAAAAAAAAAAAAAAAAAAAAAAAAAAAAAAAAAAAAAAAAAAAAAAAAAAAAAAAAAAAAAAAAAAAAAAAAAAAAAAAAAAAAAAAAAAAAAAAAAAAAAAAAAAAAAAAAAAAAAAAAAAAAAAAAAAAAAAAAAAAAAAAAAAAAAAAAAAAAAAAAAAAAAAAAAAAAAAAAAAAAAAAAAAAAAAAAAAAAAAAAAAAAAAAAAAAAAAAAAAAAAAAAAAAAAAAAAAAAAAAAAAAAAAAAAAAAAAAAAAAAAAAAAAAAAAAAAAAAAAAAAAAAAAAAAAAAAAAAAAAAAAAAAAAAAAAAAAAAAAAAAAAAAAAAAAAAAAAAAAAAAAAAAAAAAAAAAAAAAAAAAAAAAAAAAAAAAAAAAAAAAAAAAAAAAAAAAAAAAAAAAAAAAAAAAAAAAAAAAAAAAAAAAAAAAAAAAAAAAAAAAAAAAAAAAAAAAAAAAAAAAAAAAAAAAAAAAAAAAAAAAAAAAAAAAAAAAAAAAAAAAAAAAAAAAAAAAAAAAAAAAAAAAAAAAAAAAAAAAAAAAAAAAAAAAAAAAAAAAAAAAAAAAAAAAAAAAAAAAAAAAAAAAAAAAAAAAAAAAAAAAAAAAAAAAAAAAAAAAAAAAAAAAAAAAAAAAAAAAAAAAAAAAAAAAAAAAAAAAAAAAAAAAAAAAAAAAAAAAAAAAAAAAAAAAAAAAAAAAAAAAAAAAAAAAAAAAA==",
          "dtype": "i4",
          "shape": "172, 1"
         },
         "hovertemplate": "color=0<br>Monthly Income ($)=%{x}<br>Loan Amount ($)=%{marker.size}<br>Segment=%{customdata[0]}<extra></extra>",
         "legendgroup": "0",
         "marker": {
          "color": "rgb(82, 188, 163)",
          "size": {
           "bdata": "AloBABPrDQCbdgIAdQ8MAD6uDQCJihEAgaQNAD8VBAB+3wIAxToEAF+xEgBl1xIA5M0UABcLDQAZ0BYAb3sLAE30AQBY5RIAAx0MAOhDBQDKmQQAtO4CAHPyCQDONgYApzcYABGgFgD2sAYAysoTAFAPBwCgUQoAmAsGAFVUCwCjyAcAg2gBAERMBwBSyQYAoFAPAJsnAQC/CgsAkJMLABJfCgAp6QUAXnIdAG+JBQCvvgIAw0oJADcNDQBwKg0AXYgDAAxWCwBGdhcA0/oHANXWCQAwBwgAAGMQAPdXDgBqXA0AN0cWAJ+RCwDj0QMAEwUPAFEpCgDHwBUAZQ8BAIgUBAA0ExQAwfEGAF8iFQAC8AQAwMMCAISBBADbAwMA4MgNAIjtEgDrWgQAnd4PAI04CAC/kgoAJRYUAPbhBgATJQgAcFwIAAXSBgDPIwgAGUQEAGCbCwCUOAIA+LUVAAAaDABKXwgAsRsNAKhACQBl0xIA+roIAAZBCgAqNBAANTwRAKM1CACRAgsA5X4MAJICDADVtw4AasgMAJjzAAAwdQYAr6AMAH81CgBLjQEAUQwFAFmcAwCKgA0A5VUOAGXKDACzLg4A7QwCABC5AwDArhEAfFQYAIAGDADZYRIA8/AHAJjvCQDvngoAbyIHAMEEAgDouAQArNEVAOLOCwBHOAcAYHIBAHgnEgD56xUAAdMMACPsDAD3MQYAdusMAOajAgC+xw4AfpcFAE9XDgAwrgEASBsEAL0YDQD/1gAAiYgTAEaJAgDZKQgAYtQPAP1xBgCQPg4AAkYHAD0lEAA5BQIAmB8YAExtCwDAWBQAsA4PAAoQEgBRTg4ANWYKAPeFGwDzbAsAdNkQAKt7AwBP7RwAUx4SAJPiFwAd9wAAyGMGANSFDABkCwsAEr8XAA==",
           "dtype": "i4"
          },
          "sizemode": "area",
          "sizeref": 4988.3125,
          "symbol": "circle"
         },
         "mode": "markers",
         "name": "0",
         "orientation": "v",
         "showlegend": true,
         "type": "scatter",
         "x": {
          "bdata": "8CkBADo3AQA/kAIAY4wBAC4WAgANvQAApXsBAGOWAgDQ4wEA13wDAGtSAQAQhwMAPBIBAEYFAwDDoAAAz3EBAGZBAwAdggIAlvQCAKueAQCxOwAAmHYDAHxkAQA4rwIAiF4CAEo1AQCBDAIAq9sCAG8/AgC+dgIASUcBAOtpAAAu0wAAF5QAABXRAQDEuQAAy2sDAElCAACB5QAAiWIAABgbAgA0lQIA99cBAJzMAgCGIAIAYZIBAGmqAAAfyQAAxjsDAAjqAQDjrAMAcv4AAJjGAQC2bwEAZ/IAAMyGAABVWgAAic4BAKRVAwBi1gIAFPgBABtBAQD9oAMAqkoAAHnIAADpWAEA4s8BABhJAABe/AEAXs0DACpqAwA4gAMAd10CAP1yAQBxMgEAoucBAKBpAQDskgAA31MAADBNAgCjugAAHI8AALxnAgDuowIAYl0CAMrKAACsbQMA5e8AADThAgC6swIAOxADADU1AwD1iwEA9vcBAAPnAgC+rgIA3kgAAMFTAgDrDgIAnsEBAM0hAQBDjwIAROEAABJmAwAkkwEADnYDAC06AwCxBgMAoMwAAGcNAgC8vwAAyeoBAD63AgBhxwAA8JUBAGE6AwB4RgMA3CwCAHl/AABo+gAALd0CAEdoAQBzvgIAXtgAAOWkAgCeSwAADbgCAGIUAQB+LgMAU60CAKooAwDb0AAAcX8CAP2+AAC3swAAPp8DALtqAAB/7QEAO1kDABpyAgAftQAA+A8BABJiAgBARAEAU04DAH0XAQBfwQIA0eoAAGgfAwCftwEA5OEAAHT4AAC2YwAAkJ4AAM6rAAAQvQMAKK0CALV4AQCuVwEAjy8DANiDAAAQuQMAXYoDAGkWAQCnZQEAJQkCAJnFAADaLQIAMYEAAC2cAQDTTwMAgSwBAA==",
          "dtype": "i4"
         },
         "xaxis": "x",
         "y": {
          "bdata": "AloBABPrDQCbdgIAdQ8MAD6uDQCJihEAgaQNAD8VBAB+3wIAxToEAF+xEgBl1xIA5M0UABcLDQAZ0BYAb3sLAE30AQBY5RIAAx0MAOhDBQDKmQQAtO4CAHPyCQDONgYApzcYABGgFgD2sAYAysoTAFAPBwCgUQoAmAsGAFVUCwCjyAcAg2gBAERMBwBSyQYAoFAPAJsnAQC/CgsAkJMLABJfCgAp6QUAXnIdAG+JBQCvvgIAw0oJADcNDQBwKg0AXYgDAAxWCwBGdhcA0/oHANXWCQAwBwgAAGMQAPdXDgBqXA0AN0cWAJ+RCwDj0QMAEwUPAFEpCgDHwBUAZQ8BAIgUBAA0ExQAwfEGAF8iFQAC8AQAwMMCAISBBADbAwMA4MgNAIjtEgDrWgQAnd4PAI04CAC/kgoAJRYUAPbhBgATJQgAcFwIAAXSBgDPIwgAGUQEAGCbCwCUOAIA+LUVAAAaDABKXwgAsRsNAKhACQBl0xIA+roIAAZBCgAqNBAANTwRAKM1CACRAgsA5X4MAJICDADVtw4AasgMAJjzAAAwdQYAr6AMAH81CgBLjQEAUQwFAFmcAwCKgA0A5VUOAGXKDACzLg4A7QwCABC5AwDArhEAfFQYAIAGDADZYRIA8/AHAJjvCQDvngoAbyIHAMEEAgDouAQArNEVAOLOCwBHOAcAYHIBAHgnEgD56xUAAdMMACPsDAD3MQYAdusMAOajAgC+xw4AfpcFAE9XDgAwrgEASBsEAL0YDQD/1gAAiYgTAEaJAgDZKQgAYtQPAP1xBgCQPg4AAkYHAD0lEAA5BQIAmB8YAExtCwDAWBQAsA4PAAoQEgBRTg4ANWYKAPeFGwDzbAsAdNkQAKt7AwBP7RwAUx4SAJPiFwAd9wAAyGMGANSFDABkCwsAEr8XAA==",
          "dtype": "i4"
         },
         "yaxis": "y"
        },
        {
         "customdata": {
          "bdata": "AgAAAAIAAAACAAAAAgAAAAIAAAACAAAAAgAAAAIAAAACAAAAAgAAAAIAAAACAAAAAgAAAAIAAAACAAAAAgAAAAIAAAACAAAAAgAAAAIAAAACAAAAAgAAAAIAAAACAAAAAgAAAAIAAAACAAAAAgAAAAIAAAACAAAAAgAAAAIAAAACAAAAAgAAAAIAAAACAAAAAgAAAAIAAAACAAAAAgAAAAIAAAACAAAAAgAAAAIAAAACAAAAAgAAAAIAAAACAAAAAgAAAAIAAAACAAAAAgAAAAIAAAACAAAAAgAAAAIAAAACAAAAAgAAAAIAAAACAAAAAgAAAAIAAAACAAAAAgAAAAIAAAACAAAAAgAAAAIAAAACAAAAAgAAAAIAAAACAAAAAgAAAAIAAAACAAAAAgAAAAIAAAACAAAAAgAAAAIAAAACAAAAAgAAAAIAAAACAAAAAgAAAAIAAAACAAAAAgAAAAIAAAACAAAAAgAAAAIAAAACAAAAAgAAAAIAAAACAAAAAgAAAAIAAAACAAAAAgAAAAIAAAACAAAAAgAAAAIAAAACAAAAAgAAAAIAAAACAAAAAgAAAAIAAAACAAAAAgAAAAIAAAACAAAAAgAAAAIAAAACAAAAAgAAAAIAAAACAAAAAgAAAAIAAAACAAAAAgAAAAIAAAACAAAAAgAAAAIAAAACAAAAAgAAAAIAAAACAAAAAgAAAAIAAAACAAAAAgAAAAIAAAACAAAAAgAAAAIAAAACAAAA",
          "dtype": "i4",
          "shape": "141, 1"
         },
         "hovertemplate": "color=2<br>Monthly Income ($)=%{x}<br>Loan Amount ($)=%{marker.size}<br>Segment=%{customdata[0]}<extra></extra>",
         "legendgroup": "2",
         "marker": {
          "color": "rgb(153, 201, 69)",
          "size": {
           "bdata": "pSQKACvzAwDzdAEA3BoTAKYwEgBtsQMADU4HALT2CgBoHQ8AylAGACQ0CQBu6gQA2pEFAC/RAQBILQ0A5O4OAJC6DAAoagcAgs0OAF4SAgDJ+AgA8RAHAPjFCQDcFwkAlbUBAIBlBQD+wwQAz0cFABPhFQDh2gUAiW4GAPHVAQCKMBMA7A4IAMieAwBcdQQAP4AGAI/KDQANYwQAG04FABnJBAConw0A+6wCAOYvAQDCBhcAl7YGAB9VDQCXAg8Ay98FAFsXEgDNDwMAmqwJANQqAgCwDwUAlB8DAMfGBACKPwUA3HcJAKN3DQDWjAYAJhwQACyhAgDjHAkAbB8CAGeaBAC4lAwA1ygRACmcCADsWQoAkewGABTLBgAjuQoAG7AKANKsAQCZ7QEAeM0NAOK0AQC+LAUAhMACAJXABACzUwcAipcBABNhEQAo+xcAAs8GAH+lDABHSBYAPJsNAPOfBACiww0A0MoEAH3LBAC59QQA4G0WAGqKCgBK4RYAyswCAKvGCwB60wAAwCQEAERuAQBxFgMAd3wCABIvFQCNkgEAmhQCAF/JBQCh9AYArUkJAH+oFQChyA0ACuEGAI5sBwBHfQoAGUsGAMfqCACo4hAAdgQIAKS+EACJEQ0AyrsRAEvAGgC6WRcAsSIDAI4DBgDadwUATzQNAIxRAgArPwUAUk8FAPXuEQC1yQ0AdT8VAKT4BAAZTgcAq34KAEGEDQC8TQsAfnwVAKO5BQByBgYA",
           "dtype": "i4"
          },
          "sizemode": "area",
          "sizeref": 4988.3125,
          "symbol": "circle"
         },
         "mode": "markers",
         "name": "2",
         "orientation": "v",
         "showlegend": true,
         "type": "scatter",
         "x": {
          "bdata": "kKIDAFhwAgDEawIAoQYDAFrpAADnZAEA9FADAKERAgDjZQEAmJQDAALHAACIyAMAkn8DAFT+AgAZeQEAtKUCAA7TAgC6PgIAXYsDAKOeAgB5KgIAdg8CAIZUAgAuXgAAvW8BAOcvAgATfgMA7eoBAFj3AADO8wIAsZgAAH+1AwDwywIAxQ0BACq3AgBXfQIA4FAAADgnAwBAWQMAR+0BADaHAwCAPAMA/cYDAIWsAABdOAMAJLQBACZJAADYlgEA46YAACbDAQAsXgIA08UAAPS0AgC6swEAX2YDAOElAwBZngAAeXoBAMcLAQBmpgIAwloBAIkkAwASbgEAhB4DAKyaAADGIQEAE48BACbUAAC7MQIApukBABRSAgAMHAEAhlUDACcXAgAblQIAz4MAAFRcAwC7mgIADWoAAA2XAgBzXwIAIKoDAG8uAgAvUwMAL9UBAKoUAwDTVgIAKs4DADitAwAOfQAALHUBACZ5AAA6pAEAYF4DAFAcAwDXfwAAFJUDAK/nAQDFAwMABNUCAIUOAQB+JgIAW/0BANM1AQAZSQMAQ0QDALLIAAA3SwIALHMCAJ8lAgDaWgEA3bkDABlPAgD9JAIAbmAAAMPpAgABxQMANZUBAIS7AQAKFQMADa0AACy7AQDrbgIAt00AADgPAgBjZAAAeAwCAAmTAwBysgAA4hEDAEvPAABbxwAAaTgDAM7LAwAmYwAA7UsCAPw2AwCjygMAhrcDAMi8AQDpnAAA",
          "dtype": "i4"
         },
         "xaxis": "x",
         "y": {
          "bdata": "pSQKACvzAwDzdAEA3BoTAKYwEgBtsQMADU4HALT2CgBoHQ8AylAGACQ0CQBu6gQA2pEFAC/RAQBILQ0A5O4OAJC6DAAoagcAgs0OAF4SAgDJ+AgA8RAHAPjFCQDcFwkAlbUBAIBlBQD+wwQAz0cFABPhFQDh2gUAiW4GAPHVAQCKMBMA7A4IAMieAwBcdQQAP4AGAI/KDQANYwQAG04FABnJBAConw0A+6wCAOYvAQDCBhcAl7YGAB9VDQCXAg8Ay98FAFsXEgDNDwMAmqwJANQqAgCwDwUAlB8DAMfGBACKPwUA3HcJAKN3DQDWjAYAJhwQACyhAgDjHAkAbB8CAGeaBAC4lAwA1ygRACmcCADsWQoAkewGABTLBgAjuQoAG7AKANKsAQCZ7QEAeM0NAOK0AQC+LAUAhMACAJXABACzUwcAipcBABNhEQAo+xcAAs8GAH+lDABHSBYAPJsNAPOfBACiww0A0MoEAH3LBAC59QQA4G0WAGqKCgBK4RYAyswCAKvGCwB60wAAwCQEAERuAQBxFgMAd3wCABIvFQCNkgEAmhQCAF/JBQCh9AYArUkJAH+oFQChyA0ACuEGAI5sBwBHfQoAGUsGAMfqCACo4hAAdgQIAKS+EACJEQ0AyrsRAEvAGgC6WRcAsSIDAI4DBgDadwUATzQNAIxRAgArPwUAUk8FAPXuEQC1yQ0AdT8VAKT4BAAZTgcAq34KAEGEDQC8TQsAfnwVAKO5BQByBgYA",
          "dtype": "i4"
         },
         "yaxis": "y"
        }
       ],
       "layout": {
        "annotations": [
         {
          "arrowhead": 2,
          "font": {
           "color": "red",
           "size": 12
          },
          "showarrow": true,
          "text": "Higher loans are clustered in specific income groups",
          "x": 134829.92,
          "y": 1995325
         }
        ],
        "legend": {
         "itemsizing": "constant",
         "title": {
          "text": "Borrower Segment"
         },
         "tracegroupgap": 0
        },
        "template": {
         "data": {
          "bar": [
           {
            "error_x": {
             "color": "#2a3f5f"
            },
            "error_y": {
             "color": "#2a3f5f"
            },
            "marker": {
             "line": {
              "color": "white",
              "width": 0.5
             },
             "pattern": {
              "fillmode": "overlay",
              "size": 10,
              "solidity": 0.2
             }
            },
            "type": "bar"
           }
          ],
          "barpolar": [
           {
            "marker": {
             "line": {
              "color": "white",
              "width": 0.5
             },
             "pattern": {
              "fillmode": "overlay",
              "size": 10,
              "solidity": 0.2
             }
            },
            "type": "barpolar"
           }
          ],
          "carpet": [
           {
            "aaxis": {
             "endlinecolor": "#2a3f5f",
             "gridcolor": "#C8D4E3",
             "linecolor": "#C8D4E3",
             "minorgridcolor": "#C8D4E3",
             "startlinecolor": "#2a3f5f"
            },
            "baxis": {
             "endlinecolor": "#2a3f5f",
             "gridcolor": "#C8D4E3",
             "linecolor": "#C8D4E3",
             "minorgridcolor": "#C8D4E3",
             "startlinecolor": "#2a3f5f"
            },
            "type": "carpet"
           }
          ],
          "choropleth": [
           {
            "colorbar": {
             "outlinewidth": 0,
             "ticks": ""
            },
            "type": "choropleth"
           }
          ],
          "contour": [
           {
            "colorbar": {
             "outlinewidth": 0,
             "ticks": ""
            },
            "colorscale": [
             [
              0,
              "#0d0887"
             ],
             [
              0.1111111111111111,
              "#46039f"
             ],
             [
              0.2222222222222222,
              "#7201a8"
             ],
             [
              0.3333333333333333,
              "#9c179e"
             ],
             [
              0.4444444444444444,
              "#bd3786"
             ],
             [
              0.5555555555555556,
              "#d8576b"
             ],
             [
              0.6666666666666666,
              "#ed7953"
             ],
             [
              0.7777777777777778,
              "#fb9f3a"
             ],
             [
              0.8888888888888888,
              "#fdca26"
             ],
             [
              1,
              "#f0f921"
             ]
            ],
            "type": "contour"
           }
          ],
          "contourcarpet": [
           {
            "colorbar": {
             "outlinewidth": 0,
             "ticks": ""
            },
            "type": "contourcarpet"
           }
          ],
          "heatmap": [
           {
            "colorbar": {
             "outlinewidth": 0,
             "ticks": ""
            },
            "colorscale": [
             [
              0,
              "#0d0887"
             ],
             [
              0.1111111111111111,
              "#46039f"
             ],
             [
              0.2222222222222222,
              "#7201a8"
             ],
             [
              0.3333333333333333,
              "#9c179e"
             ],
             [
              0.4444444444444444,
              "#bd3786"
             ],
             [
              0.5555555555555556,
              "#d8576b"
             ],
             [
              0.6666666666666666,
              "#ed7953"
             ],
             [
              0.7777777777777778,
              "#fb9f3a"
             ],
             [
              0.8888888888888888,
              "#fdca26"
             ],
             [
              1,
              "#f0f921"
             ]
            ],
            "type": "heatmap"
           }
          ],
          "histogram": [
           {
            "marker": {
             "pattern": {
              "fillmode": "overlay",
              "size": 10,
              "solidity": 0.2
             }
            },
            "type": "histogram"
           }
          ],
          "histogram2d": [
           {
            "colorbar": {
             "outlinewidth": 0,
             "ticks": ""
            },
            "colorscale": [
             [
              0,
              "#0d0887"
             ],
             [
              0.1111111111111111,
              "#46039f"
             ],
             [
              0.2222222222222222,
              "#7201a8"
             ],
             [
              0.3333333333333333,
              "#9c179e"
             ],
             [
              0.4444444444444444,
              "#bd3786"
             ],
             [
              0.5555555555555556,
              "#d8576b"
             ],
             [
              0.6666666666666666,
              "#ed7953"
             ],
             [
              0.7777777777777778,
              "#fb9f3a"
             ],
             [
              0.8888888888888888,
              "#fdca26"
             ],
             [
              1,
              "#f0f921"
             ]
            ],
            "type": "histogram2d"
           }
          ],
          "histogram2dcontour": [
           {
            "colorbar": {
             "outlinewidth": 0,
             "ticks": ""
            },
            "colorscale": [
             [
              0,
              "#0d0887"
             ],
             [
              0.1111111111111111,
              "#46039f"
             ],
             [
              0.2222222222222222,
              "#7201a8"
             ],
             [
              0.3333333333333333,
              "#9c179e"
             ],
             [
              0.4444444444444444,
              "#bd3786"
             ],
             [
              0.5555555555555556,
              "#d8576b"
             ],
             [
              0.6666666666666666,
              "#ed7953"
             ],
             [
              0.7777777777777778,
              "#fb9f3a"
             ],
             [
              0.8888888888888888,
              "#fdca26"
             ],
             [
              1,
              "#f0f921"
             ]
            ],
            "type": "histogram2dcontour"
           }
          ],
          "mesh3d": [
           {
            "colorbar": {
             "outlinewidth": 0,
             "ticks": ""
            },
            "type": "mesh3d"
           }
          ],
          "parcoords": [
           {
            "line": {
             "colorbar": {
              "outlinewidth": 0,
              "ticks": ""
             }
            },
            "type": "parcoords"
           }
          ],
          "pie": [
           {
            "automargin": true,
            "type": "pie"
           }
          ],
          "scatter": [
           {
            "fillpattern": {
             "fillmode": "overlay",
             "size": 10,
             "solidity": 0.2
            },
            "type": "scatter"
           }
          ],
          "scatter3d": [
           {
            "line": {
             "colorbar": {
              "outlinewidth": 0,
              "ticks": ""
             }
            },
            "marker": {
             "colorbar": {
              "outlinewidth": 0,
              "ticks": ""
             }
            },
            "type": "scatter3d"
           }
          ],
          "scattercarpet": [
           {
            "marker": {
             "colorbar": {
              "outlinewidth": 0,
              "ticks": ""
             }
            },
            "type": "scattercarpet"
           }
          ],
          "scattergeo": [
           {
            "marker": {
             "colorbar": {
              "outlinewidth": 0,
              "ticks": ""
             }
            },
            "type": "scattergeo"
           }
          ],
          "scattergl": [
           {
            "marker": {
             "colorbar": {
              "outlinewidth": 0,
              "ticks": ""
             }
            },
            "type": "scattergl"
           }
          ],
          "scattermap": [
           {
            "marker": {
             "colorbar": {
              "outlinewidth": 0,
              "ticks": ""
             }
            },
            "type": "scattermap"
           }
          ],
          "scattermapbox": [
           {
            "marker": {
             "colorbar": {
              "outlinewidth": 0,
              "ticks": ""
             }
            },
            "type": "scattermapbox"
           }
          ],
          "scatterpolar": [
           {
            "marker": {
             "colorbar": {
              "outlinewidth": 0,
              "ticks": ""
             }
            },
            "type": "scatterpolar"
           }
          ],
          "scatterpolargl": [
           {
            "marker": {
             "colorbar": {
              "outlinewidth": 0,
              "ticks": ""
             }
            },
            "type": "scatterpolargl"
           }
          ],
          "scatterternary": [
           {
            "marker": {
             "colorbar": {
              "outlinewidth": 0,
              "ticks": ""
             }
            },
            "type": "scatterternary"
           }
          ],
          "surface": [
           {
            "colorbar": {
             "outlinewidth": 0,
             "ticks": ""
            },
            "colorscale": [
             [
              0,
              "#0d0887"
             ],
             [
              0.1111111111111111,
              "#46039f"
             ],
             [
              0.2222222222222222,
              "#7201a8"
             ],
             [
              0.3333333333333333,
              "#9c179e"
             ],
             [
              0.4444444444444444,
              "#bd3786"
             ],
             [
              0.5555555555555556,
              "#d8576b"
             ],
             [
              0.6666666666666666,
              "#ed7953"
             ],
             [
              0.7777777777777778,
              "#fb9f3a"
             ],
             [
              0.8888888888888888,
              "#fdca26"
             ],
             [
              1,
              "#f0f921"
             ]
            ],
            "type": "surface"
           }
          ],
          "table": [
           {
            "cells": {
             "fill": {
              "color": "#EBF0F8"
             },
             "line": {
              "color": "white"
             }
            },
            "header": {
             "fill": {
              "color": "#C8D4E3"
             },
             "line": {
              "color": "white"
             }
            },
            "type": "table"
           }
          ]
         },
         "layout": {
          "annotationdefaults": {
           "arrowcolor": "#2a3f5f",
           "arrowhead": 0,
           "arrowwidth": 1
          },
          "autotypenumbers": "strict",
          "coloraxis": {
           "colorbar": {
            "outlinewidth": 0,
            "ticks": ""
           }
          },
          "colorscale": {
           "diverging": [
            [
             0,
             "#8e0152"
            ],
            [
             0.1,
             "#c51b7d"
            ],
            [
             0.2,
             "#de77ae"
            ],
            [
             0.3,
             "#f1b6da"
            ],
            [
             0.4,
             "#fde0ef"
            ],
            [
             0.5,
             "#f7f7f7"
            ],
            [
             0.6,
             "#e6f5d0"
            ],
            [
             0.7,
             "#b8e186"
            ],
            [
             0.8,
             "#7fbc41"
            ],
            [
             0.9,
             "#4d9221"
            ],
            [
             1,
             "#276419"
            ]
           ],
           "sequential": [
            [
             0,
             "#0d0887"
            ],
            [
             0.1111111111111111,
             "#46039f"
            ],
            [
             0.2222222222222222,
             "#7201a8"
            ],
            [
             0.3333333333333333,
             "#9c179e"
            ],
            [
             0.4444444444444444,
             "#bd3786"
            ],
            [
             0.5555555555555556,
             "#d8576b"
            ],
            [
             0.6666666666666666,
             "#ed7953"
            ],
            [
             0.7777777777777778,
             "#fb9f3a"
            ],
            [
             0.8888888888888888,
             "#fdca26"
            ],
            [
             1,
             "#f0f921"
            ]
           ],
           "sequentialminus": [
            [
             0,
             "#0d0887"
            ],
            [
             0.1111111111111111,
             "#46039f"
            ],
            [
             0.2222222222222222,
             "#7201a8"
            ],
            [
             0.3333333333333333,
             "#9c179e"
            ],
            [
             0.4444444444444444,
             "#bd3786"
            ],
            [
             0.5555555555555556,
             "#d8576b"
            ],
            [
             0.6666666666666666,
             "#ed7953"
            ],
            [
             0.7777777777777778,
             "#fb9f3a"
            ],
            [
             0.8888888888888888,
             "#fdca26"
            ],
            [
             1,
             "#f0f921"
            ]
           ]
          },
          "colorway": [
           "#636efa",
           "#EF553B",
           "#00cc96",
           "#ab63fa",
           "#FFA15A",
           "#19d3f3",
           "#FF6692",
           "#B6E880",
           "#FF97FF",
           "#FECB52"
          ],
          "font": {
           "color": "#2a3f5f"
          },
          "geo": {
           "bgcolor": "white",
           "lakecolor": "white",
           "landcolor": "white",
           "showlakes": true,
           "showland": true,
           "subunitcolor": "#C8D4E3"
          },
          "hoverlabel": {
           "align": "left"
          },
          "hovermode": "closest",
          "mapbox": {
           "style": "light"
          },
          "paper_bgcolor": "white",
          "plot_bgcolor": "white",
          "polar": {
           "angularaxis": {
            "gridcolor": "#EBF0F8",
            "linecolor": "#EBF0F8",
            "ticks": ""
           },
           "bgcolor": "white",
           "radialaxis": {
            "gridcolor": "#EBF0F8",
            "linecolor": "#EBF0F8",
            "ticks": ""
           }
          },
          "scene": {
           "xaxis": {
            "backgroundcolor": "white",
            "gridcolor": "#DFE8F3",
            "gridwidth": 2,
            "linecolor": "#EBF0F8",
            "showbackground": true,
            "ticks": "",
            "zerolinecolor": "#EBF0F8"
           },
           "yaxis": {
            "backgroundcolor": "white",
            "gridcolor": "#DFE8F3",
            "gridwidth": 2,
            "linecolor": "#EBF0F8",
            "showbackground": true,
            "ticks": "",
            "zerolinecolor": "#EBF0F8"
           },
           "zaxis": {
            "backgroundcolor": "white",
            "gridcolor": "#DFE8F3",
            "gridwidth": 2,
            "linecolor": "#EBF0F8",
            "showbackground": true,
            "ticks": "",
            "zerolinecolor": "#EBF0F8"
           }
          },
          "shapedefaults": {
           "line": {
            "color": "#2a3f5f"
           }
          },
          "ternary": {
           "aaxis": {
            "gridcolor": "#DFE8F3",
            "linecolor": "#A2B1C6",
            "ticks": ""
           },
           "baxis": {
            "gridcolor": "#DFE8F3",
            "linecolor": "#A2B1C6",
            "ticks": ""
           },
           "bgcolor": "white",
           "caxis": {
            "gridcolor": "#DFE8F3",
            "linecolor": "#A2B1C6",
            "ticks": ""
           }
          },
          "title": {
           "x": 0.05
          },
          "xaxis": {
           "automargin": true,
           "gridcolor": "#EBF0F8",
           "linecolor": "#EBF0F8",
           "ticks": "",
           "title": {
            "standoff": 15
           },
           "zerolinecolor": "#EBF0F8",
           "zerolinewidth": 2
          },
          "yaxis": {
           "automargin": true,
           "gridcolor": "#EBF0F8",
           "linecolor": "#EBF0F8",
           "ticks": "",
           "title": {
            "standoff": 15
           },
           "zerolinecolor": "#EBF0F8",
           "zerolinewidth": 2
          }
         }
        },
        "title": {
         "text": "Borrower Segments Based on Monthly Income and Loan Amount"
        },
        "xaxis": {
         "anchor": "y",
         "domain": [
          0,
          1
         ],
         "title": {
          "text": "Monthly Income ($)"
         }
        },
        "yaxis": {
         "anchor": "x",
         "domain": [
          0,
          1
         ],
         "title": {
          "text": "Loan Amount ($)"
         }
        }
       }
      }
     },
     "metadata": {},
     "output_type": "display_data"
    }
   ],
   "source": [
    "from sklearn.cluster import KMeans\n",
    "from sklearn.preprocessing import StandardScaler\n",
    "\n",
    "features = ['Age', 'Monthly_Income', 'Loan_Amount', 'Loan_Tenure', 'Interest_Rate',\n",
    "            'Collateral_Value', 'Outstanding_Loan_Amount', 'Monthly_EMI', 'Num_Missed_Payments', 'Days_Past_Due']\n",
    "\n",
    "scaler = StandardScaler()\n",
    "df_scaled = scaler.fit_transform(df[features])\n",
    "\n",
    "\n",
    "optimal_k = 4\n",
    "kmeans = KMeans(n_clusters=optimal_k, random_state=42, n_init=10)\n",
    "df['Borrower_Segment'] = kmeans.fit_predict(df_scaled)\n",
    "\n",
    "fig = px.scatter(df, x='Monthly_Income', y='Loan_Amount',\n",
    "                 color=df['Borrower_Segment'].astype(str), size='Loan_Amount',\n",
    "                 hover_data={'Monthly_Income': True, 'Loan_Amount': True, 'Borrower_Segment': True},\n",
    "                 title=\"Borrower Segments Based on Monthly Income and Loan Amount\",\n",
    "                 labels={\"Monthly_Income\": \"Monthly Income ($)\", \"Loan_Amount\": \"Loan Amount ($)\", \"Borrower_Segment\": \"Segment\"},\n",
    "                 color_discrete_sequence=px.colors.qualitative.Vivid)\n",
    "\n",
    "fig.add_annotation(\n",
    "    x=df['Monthly_Income'].mean(), y=df['Loan_Amount'].max(),\n",
    "    text=\"Higher loans are clustered in specific income groups\",\n",
    "    showarrow=True,\n",
    "    arrowhead=2,\n",
    "    font=dict(size=12, color=\"red\")\n",
    ")\n",
    "\n",
    "fig.update_layout(\n",
    "    xaxis_title=\"Monthly Income ($)\",\n",
    "    yaxis_title=\"Loan Amount ($)\",\n",
    "    template=\"plotly_white\",\n",
    "    legend_title=\"Borrower Segment\"\n",
    ")\n",
    "\n",
    "fig.show()\n"
   ]
  },
  {
   "cell_type": "markdown",
   "id": "6da7f65b",
   "metadata": {},
   "source": [
    "## **Let’s name these segments according to the clusters they represent:**"
   ]
  },
  {
   "cell_type": "code",
   "execution_count": 9,
   "id": "9bc78c9b",
   "metadata": {},
   "outputs": [],
   "source": [
    "\n",
    "df['Segment_Name'] = df['Borrower_Segment'].map({\n",
    "    0: 'Moderate Income, High Loan Burden',\n",
    "    1: 'High Income, Low Default Risk',\n",
    "    2: 'Moderate Income, Medium Risk',\n",
    "    3: 'High Loan, Higher Default Risk'\n",
    "})"
   ]
  },
  {
   "cell_type": "markdown",
   "id": "48167c81",
   "metadata": {},
   "source": [
    "## **Building an Early Detection System for Loan Defaults based on the Risk Scores**"
   ]
  },
  {
   "cell_type": "code",
   "execution_count": 10,
   "id": "305a745a",
   "metadata": {},
   "outputs": [],
   "source": [
    "from sklearn.ensemble import RandomForestClassifier\n",
    "from sklearn.model_selection import train_test_split\n",
    "import pickle  # ✅ Add this\n",
    "\n",
    "# Create binary target variable\n",
    "df['High_Risk_Flag'] = df['Segment_Name'].apply(lambda x: 1 if x in ['High Loan, Higher Default Risk', 'Moderate Income, High Loan Burden'] else 0)\n",
    "\n",
    "# Feature set and target\n",
    "features = ['Age', 'Monthly_Income', 'Loan_Amount', 'Loan_Tenure', 'Interest_Rate',\n",
    "            'Collateral_Value', 'Outstanding_Loan_Amount', 'Monthly_EMI', 'Num_Missed_Payments', 'Days_Past_Due']\n",
    "X = df[features]\n",
    "y = df['High_Risk_Flag']\n",
    "\n",
    "# Train-test split\n",
    "X_train, X_test, y_train, y_test = train_test_split(X, y, test_size=0.2, random_state=42, stratify=y)\n",
    "\n",
    "# Train the model\n",
    "rf_model = RandomForestClassifier(n_estimators=100, random_state=42)\n",
    "rf_model.fit(X_train, y_train)\n",
    "\n",
    "# ✅ Save the model after training\n",
    "with open(\"rf_model.pkl\", \"wb\") as f:\n",
    "    pickle.dump(rf_model, f)\n",
    "\n",
    "# ✅ Optional: Save feature list\n",
    "with open(\"features.pkl\", \"wb\") as f:\n",
    "    pickle.dump(features, f)\n",
    "\n",
    "# Predict on test data\n",
    "risk_scores = rf_model.predict_proba(X_test)[:, 1]\n",
    "\n",
    "# Prepare output DataFrame\n",
    "df_test = X_test.copy()\n",
    "df_test['Risk_Score'] = risk_scores\n",
    "df_test['Predicted_High_Risk'] = (df_test['Risk_Score'] > 0.5).astype(int)\n",
    "\n",
    "# Merge additional borrower info\n",
    "df_test = df_test.merge(df[['Borrower_ID', 'Segment_Name', 'Recovery_Status', 'Collection_Method', 'Collection_Attempts', 'Legal_Action_Taken']],\n",
    "                        left_index=True, right_index=True)\n"
   ]
  },
  {
   "cell_type": "code",
   "execution_count": 11,
   "id": "dd2e59dd",
   "metadata": {},
   "outputs": [
    {
     "data": {
      "text/html": [
       "<div>\n",
       "<style scoped>\n",
       "    .dataframe tbody tr th:only-of-type {\n",
       "        vertical-align: middle;\n",
       "    }\n",
       "\n",
       "    .dataframe tbody tr th {\n",
       "        vertical-align: top;\n",
       "    }\n",
       "\n",
       "    .dataframe thead th {\n",
       "        text-align: right;\n",
       "    }\n",
       "</style>\n",
       "<table border=\"1\" class=\"dataframe\">\n",
       "  <thead>\n",
       "    <tr style=\"text-align: right;\">\n",
       "      <th></th>\n",
       "      <th>Age</th>\n",
       "      <th>Monthly_Income</th>\n",
       "      <th>Loan_Amount</th>\n",
       "      <th>Loan_Tenure</th>\n",
       "      <th>Interest_Rate</th>\n",
       "      <th>Collateral_Value</th>\n",
       "      <th>Outstanding_Loan_Amount</th>\n",
       "      <th>Monthly_EMI</th>\n",
       "      <th>Num_Missed_Payments</th>\n",
       "      <th>Days_Past_Due</th>\n",
       "      <th>Risk_Score</th>\n",
       "      <th>Predicted_High_Risk</th>\n",
       "      <th>Borrower_ID</th>\n",
       "      <th>Segment_Name</th>\n",
       "      <th>Recovery_Status</th>\n",
       "      <th>Collection_Method</th>\n",
       "      <th>Collection_Attempts</th>\n",
       "      <th>Legal_Action_Taken</th>\n",
       "      <th>Recovery_Strategy</th>\n",
       "    </tr>\n",
       "  </thead>\n",
       "  <tbody>\n",
       "    <tr>\n",
       "      <th>436</th>\n",
       "      <td>25</td>\n",
       "      <td>156826</td>\n",
       "      <td>1510049</td>\n",
       "      <td>60</td>\n",
       "      <td>16.22</td>\n",
       "      <td>8.373402e+05</td>\n",
       "      <td>3.296001e+05</td>\n",
       "      <td>5493.34</td>\n",
       "      <td>1</td>\n",
       "      <td>179</td>\n",
       "      <td>0.42</td>\n",
       "      <td>0</td>\n",
       "      <td>BRW_437</td>\n",
       "      <td>High Loan, Higher Default Risk</td>\n",
       "      <td>Partially Recovered</td>\n",
       "      <td>Legal Notice</td>\n",
       "      <td>7</td>\n",
       "      <td>No</td>\n",
       "      <td>Automated reminders &amp; monitoring</td>\n",
       "    </tr>\n",
       "    <tr>\n",
       "      <th>448</th>\n",
       "      <td>57</td>\n",
       "      <td>33752</td>\n",
       "      <td>1803767</td>\n",
       "      <td>12</td>\n",
       "      <td>8.30</td>\n",
       "      <td>0.000000e+00</td>\n",
       "      <td>4.411477e+05</td>\n",
       "      <td>36762.31</td>\n",
       "      <td>0</td>\n",
       "      <td>0</td>\n",
       "      <td>0.64</td>\n",
       "      <td>1</td>\n",
       "      <td>BRW_449</td>\n",
       "      <td>Moderate Income, High Loan Burden</td>\n",
       "      <td>Fully Recovered</td>\n",
       "      <td>Calls</td>\n",
       "      <td>2</td>\n",
       "      <td>No</td>\n",
       "      <td>Settlement offers &amp; repayment plans</td>\n",
       "    </tr>\n",
       "    <tr>\n",
       "      <th>88</th>\n",
       "      <td>27</td>\n",
       "      <td>71503</td>\n",
       "      <td>1898058</td>\n",
       "      <td>24</td>\n",
       "      <td>12.59</td>\n",
       "      <td>1.087594e+06</td>\n",
       "      <td>4.227607e+05</td>\n",
       "      <td>17615.03</td>\n",
       "      <td>2</td>\n",
       "      <td>179</td>\n",
       "      <td>0.76</td>\n",
       "      <td>1</td>\n",
       "      <td>BRW_89</td>\n",
       "      <td>High Loan, Higher Default Risk</td>\n",
       "      <td>Fully Recovered</td>\n",
       "      <td>Debt Collectors</td>\n",
       "      <td>3</td>\n",
       "      <td>No</td>\n",
       "      <td>Immediate legal notices &amp; aggressive recovery ...</td>\n",
       "    </tr>\n",
       "    <tr>\n",
       "      <th>145</th>\n",
       "      <td>59</td>\n",
       "      <td>215641</td>\n",
       "      <td>1492181</td>\n",
       "      <td>36</td>\n",
       "      <td>15.85</td>\n",
       "      <td>1.340937e+06</td>\n",
       "      <td>1.337482e+06</td>\n",
       "      <td>37152.29</td>\n",
       "      <td>3</td>\n",
       "      <td>125</td>\n",
       "      <td>0.32</td>\n",
       "      <td>0</td>\n",
       "      <td>BRW_146</td>\n",
       "      <td>High Income, Low Default Risk</td>\n",
       "      <td>Fully Recovered</td>\n",
       "      <td>Calls</td>\n",
       "      <td>3</td>\n",
       "      <td>No</td>\n",
       "      <td>Automated reminders &amp; monitoring</td>\n",
       "    </tr>\n",
       "    <tr>\n",
       "      <th>344</th>\n",
       "      <td>52</td>\n",
       "      <td>106658</td>\n",
       "      <td>1958911</td>\n",
       "      <td>36</td>\n",
       "      <td>12.09</td>\n",
       "      <td>2.128380e+06</td>\n",
       "      <td>1.592191e+06</td>\n",
       "      <td>44227.52</td>\n",
       "      <td>0</td>\n",
       "      <td>0</td>\n",
       "      <td>0.09</td>\n",
       "      <td>0</td>\n",
       "      <td>BRW_345</td>\n",
       "      <td>High Income, Low Default Risk</td>\n",
       "      <td>Fully Recovered</td>\n",
       "      <td>Calls</td>\n",
       "      <td>0</td>\n",
       "      <td>No</td>\n",
       "      <td>Automated reminders &amp; monitoring</td>\n",
       "    </tr>\n",
       "  </tbody>\n",
       "</table>\n",
       "</div>"
      ],
      "text/plain": [
       "     Age  Monthly_Income  Loan_Amount  Loan_Tenure  Interest_Rate  \\\n",
       "436   25          156826      1510049           60          16.22   \n",
       "448   57           33752      1803767           12           8.30   \n",
       "88    27           71503      1898058           24          12.59   \n",
       "145   59          215641      1492181           36          15.85   \n",
       "344   52          106658      1958911           36          12.09   \n",
       "\n",
       "     Collateral_Value  Outstanding_Loan_Amount  Monthly_EMI  \\\n",
       "436      8.373402e+05             3.296001e+05      5493.34   \n",
       "448      0.000000e+00             4.411477e+05     36762.31   \n",
       "88       1.087594e+06             4.227607e+05     17615.03   \n",
       "145      1.340937e+06             1.337482e+06     37152.29   \n",
       "344      2.128380e+06             1.592191e+06     44227.52   \n",
       "\n",
       "     Num_Missed_Payments  Days_Past_Due  Risk_Score  Predicted_High_Risk  \\\n",
       "436                    1            179        0.42                    0   \n",
       "448                    0              0        0.64                    1   \n",
       "88                     2            179        0.76                    1   \n",
       "145                    3            125        0.32                    0   \n",
       "344                    0              0        0.09                    0   \n",
       "\n",
       "    Borrower_ID                       Segment_Name      Recovery_Status  \\\n",
       "436     BRW_437     High Loan, Higher Default Risk  Partially Recovered   \n",
       "448     BRW_449  Moderate Income, High Loan Burden      Fully Recovered   \n",
       "88       BRW_89     High Loan, Higher Default Risk      Fully Recovered   \n",
       "145     BRW_146      High Income, Low Default Risk      Fully Recovered   \n",
       "344     BRW_345      High Income, Low Default Risk      Fully Recovered   \n",
       "\n",
       "    Collection_Method  Collection_Attempts Legal_Action_Taken  \\\n",
       "436      Legal Notice                    7                 No   \n",
       "448             Calls                    2                 No   \n",
       "88    Debt Collectors                    3                 No   \n",
       "145             Calls                    3                 No   \n",
       "344             Calls                    0                 No   \n",
       "\n",
       "                                     Recovery_Strategy  \n",
       "436                   Automated reminders & monitoring  \n",
       "448                Settlement offers & repayment plans  \n",
       "88   Immediate legal notices & aggressive recovery ...  \n",
       "145                   Automated reminders & monitoring  \n",
       "344                   Automated reminders & monitoring  "
      ]
     },
     "execution_count": 11,
     "metadata": {},
     "output_type": "execute_result"
    }
   ],
   "source": [
    "# creating a new column for the dynamic recovery strategy based on risk scores\n",
    "def assign_recovery_strategy(risk_score):\n",
    "    if risk_score > 0.75:\n",
    "        return \"Immediate legal notices & aggressive recovery attempts\"\n",
    "    elif 0.50 <= risk_score <= 0.75:\n",
    "        return \"Settlement offers & repayment plans\"\n",
    "    else:\n",
    "        return \"Automated reminders & monitoring\"\n",
    "\n",
    "df_test['Recovery_Strategy'] = df_test['Risk_Score'].apply(assign_recovery_strategy)\n",
    "\n",
    "df_test.head()"
   ]
  },
  {
   "cell_type": "code",
   "execution_count": null,
   "id": "d19f2584",
   "metadata": {},
   "outputs": [],
   "source": []
  },
  {
   "cell_type": "code",
   "execution_count": null,
   "id": "1e6d850a",
   "metadata": {},
   "outputs": [],
   "source": []
  }
 ],
 "metadata": {
  "kernelspec": {
   "display_name": "Python 3",
   "language": "python",
   "name": "python3"
  },
  "language_info": {
   "codemirror_mode": {
    "name": "ipython",
    "version": 3
   },
   "file_extension": ".py",
   "mimetype": "text/x-python",
   "name": "python",
   "nbconvert_exporter": "python",
   "pygments_lexer": "ipython3",
   "version": "3.12.1"
  }
 },
 "nbformat": 4,
 "nbformat_minor": 5
}
